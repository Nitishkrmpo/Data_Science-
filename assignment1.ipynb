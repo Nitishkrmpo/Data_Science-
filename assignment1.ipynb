{
 "cells": [
  {
   "cell_type": "code",
   "execution_count": null,
   "id": "d9e0948d-6652-46ec-96a4-f7232bcbbe6d",
   "metadata": {},
   "outputs": [],
   "source": [
    "s = input(\"Enter string: \")\n",
    "s=s[::-1]\n",
    "print(s)"
   ]
  },
  {
   "cell_type": "code",
   "execution_count": null,
   "id": "48f425dd-9da5-4347-bd79-e38e9cebcfa6",
   "metadata": {},
   "outputs": [],
   "source": [
    "a = input(\"Enter string:\")\n",
    "b=\"aeiouAEIOU\"\n",
    "count =0\n",
    "for i in a:\n",
    "    if i in b:\n",
    "        count +=1\n",
    "print(count)"
   ]
  },
  {
   "cell_type": "code",
   "execution_count": null,
   "id": "a61881c1-dd09-4e80-a51e-5b6321ba04e4",
   "metadata": {},
   "outputs": [],
   "source": [
    "#Write a code to check if a given string is a palindrome or not\u0012\n",
    "s = input(\"Enter string: \")\n",
    "n=s[::-1]\n",
    "if(s==n):\n",
    "    print(\"palindrome\")\n",
    "else:\n",
    "    print(\"not palindrome\")\n",
    "    \n"
   ]
  },
  {
   "cell_type": "code",
   "execution_count": null,
   "id": "c40dcc0c-3bb6-4973-9098-1f2d0e7b81e8",
   "metadata": {},
   "outputs": [],
   "source": [
    "#Write a code to check if two given strings are anagrams of each other\u0012\n",
    "s1 = input(\"Enter string1: \")\n",
    "s2 = input(\"Enter string2: \")\n",
    "if sorted(s1)==sorted(s2):\n",
    "    print(\"anagram\")\n",
    "else:\n",
    "    print(\"not   anagram\")"
   ]
  },
  {
   "cell_type": "code",
   "execution_count": null,
   "id": "e20676b2-14f8-4a58-ae46-c63d525871e1",
   "metadata": {},
   "outputs": [],
   "source": [
    "# Write a code to find all occurrences of a given substring within another string\u0012\n",
    "  \n",
    "def find_substring_occurrences(s1, s2):\n",
    "    occurrences = []\n",
    "    index = s1.find(s2)\n",
    "    while index != -1:\n",
    "        occurrences.append(index)\n",
    "        index = s1.find(s2, index + 1)\n",
    "    return occurrences\n",
    "\n",
    "# Example usage\n",
    "s1 = input(\"Enter the main string: \")\n",
    "s2 = input(\"Enter the substring to find: \")\n",
    "occurrences = find_substring_occurrences(s1, s2)\n",
    "print(\"Occurrences:\", occurrences)\n"
   ]
  },
  {
   "cell_type": "code",
   "execution_count": null,
   "id": "0e117dd9-f0b7-43e1-9ebb-541ef9b10b7f",
   "metadata": {},
   "outputs": [],
   "source": [
    "#Write a code to perform basic string compression using the counts of repeated characters\u0012\n",
    "\n",
    "def compress_string(s):\n",
    "    if not s:\n",
    "        return \"\"\n",
    "    \n",
    "    compressed = []\n",
    "    count = 1\n",
    "    for i in range(1, len(s)):\n",
    "        if s[i] == s[i - 1]:\n",
    "            count += 1\n",
    "        else:\n",
    "            compressed.append(s[i - 1] + str(count))\n",
    "            count = 1\n",
    "    compressed.append(s[-1] + str(count))  # Add the last character and its count\n",
    "    \n",
    "    compressed_string = ''.join(compressed)\n",
    "    return compressed_string\n",
    "\n",
    "# Example usage\n",
    "input_string = input(\"Enter the string to compress: \")\n",
    "compressed_string = compress_string(input_string)\n",
    "print(\"Compressed string:\", compressed_string)\n",
    "\n"
   ]
  },
  {
   "cell_type": "code",
   "execution_count": null,
   "id": "c27329af-5b2a-4c5a-a6b5-282c040baaf4",
   "metadata": {},
   "outputs": [],
   "source": [
    "#Write a code to determine if a string has all unique characters\u0012\n",
    "unique = {}\n",
    "element= []\n",
    "s=intput(\"Enter string :\")\n",
    "for i in s:\n",
    "    unique.add(i)\n",
    "    element.append(i)\n",
    "if element == list(unique):\n",
    "    print();\n",
    "\n"
   ]
  },
  {
   "cell_type": "code",
   "execution_count": 1,
   "id": "19750360-6761-4a33-89bf-64ed6fb32cdf",
   "metadata": {},
   "outputs": [
    {
     "name": "stdin",
     "output_type": "stream",
     "text": [
      "Enter a String : Nitish\n"
     ]
    },
    {
     "data": {
      "text/plain": [
       "'nitish'"
      ]
     },
     "execution_count": 1,
     "metadata": {},
     "output_type": "execute_result"
    }
   ],
   "source": [
    "#\b\u0012 Write a code to convert a given string to uppercase or lowercase\u0012\n",
    "\n",
    "s = input(\"Enter a String :\")\n",
    "s.upper()\n",
    "s.lower()"
   ]
  },
  {
   "cell_type": "code",
   "execution_count": 3,
   "id": "e99bfc5f-c85a-4e34-ab55-668231a3f4b6",
   "metadata": {},
   "outputs": [
    {
     "name": "stdin",
     "output_type": "stream",
     "text": [
      "Enter the string: I am a student\n"
     ]
    },
    {
     "data": {
      "text/plain": [
       "4"
      ]
     },
     "execution_count": 3,
     "metadata": {},
     "output_type": "execute_result"
    }
   ],
   "source": [
    "#\u0007\u0012 Write a code to count the number of words in a string\u0012\n",
    "s = input(\"Enter the string:\")\n",
    "lis = s.split(' ')\n",
    "len(lis)"
   ]
  },
  {
   "cell_type": "code",
   "execution_count": 6,
   "id": "fd916198-b7db-4daf-a3a9-9bf6bd9297c1",
   "metadata": {},
   "outputs": [
    {
     "name": "stdin",
     "output_type": "stream",
     "text": [
      "Enter String1 Hello \n",
      "Enter String2 World\n"
     ]
    },
    {
     "name": "stdout",
     "output_type": "stream",
     "text": [
      "Concatenated string: Hello World\n"
     ]
    }
   ],
   "source": [
    "#Write a code to concatenate two strings without using the + operator\u0012\n",
    "def concatenate_strings(s1, s2):\n",
    "    return ''.join([s1, s2])\n",
    "\n",
    "# Example usage\n",
    "string1 = input(\"Enter String1:\")\n",
    "string2 = input(\"Enter String2:\")\n",
    "result = concatenate_strings(string1, string2)\n",
    "print(\"Concatenated string:\", result)\n"
   ]
  },
  {
   "cell_type": "code",
   "execution_count": 53,
   "id": "41dc123f-943f-4da8-b4da-7142e07d9571",
   "metadata": {},
   "outputs": [
    {
     "name": "stdin",
     "output_type": "stream",
     "text": [
      "Enter String:  Nitish\n",
      "Enter Char:  i\n"
     ]
    },
    {
     "name": "stdout",
     "output_type": "stream",
     "text": [
      "Ntsh\n"
     ]
    }
   ],
   "source": [
    "# Remove All Occurrences of a Specific Element from a List\n",
    "s1 = input(\"Enter String: \")\n",
    "s2 = input(\"Enter Char: \")\n",
    "\n",
    "if len(s2) != 1:\n",
    "    print(\"Please enter a single character.\")\n",
    "else:\n",
    "    s1 = s1.replace(s2, \"\")\n",
    "    print(s1)\n"
   ]
  },
  {
   "cell_type": "code",
   "execution_count": null,
   "id": "aa872bd8-4d70-4396-ad0c-89a9214664d0",
   "metadata": {},
   "outputs": [],
   "source": [
    "#\"\u001c",
    "\u0012 Implement a code to find the second largest number in a given list of integers\u0012\n",
    "def find_second_largest(nums):\n",
    "    if len(nums) < 2:\n",
    "        return None  # Not enough elements to find the second largest\n",
    "    \n",
    "    first = second = float('-inf')\n",
    "    \n",
    "    for num in nums:\n",
    "        if num > first:\n",
    "            second = first\n",
    "            first = num\n",
    "        elif num > second and num != first:\n",
    "            second = num\n",
    "    \n",
    "    return second if second != float('-inf') else None\n",
    "\n",
    "# Example usage\n",
    "nums = [10, 20, 4, 45, 99, 99]\n",
    "second_largest = find_second_largest(nums)\n",
    "if second_largest is not None:\n",
    "    print(\"The second largest number is:\", second_largest)\n",
    "else:\n",
    "    print(\"There is no second largest number.\")\n"
   ]
  },
  {
   "cell_type": "code",
   "execution_count": 54,
   "id": "df4fe0f2-adc7-43a0-a055-100fd9906633",
   "metadata": {},
   "outputs": [
    {
     "name": "stdout",
     "output_type": "stream",
     "text": [
      "Occurrences: {1: 1, 2: 2, 3: 3, 4: 4}\n"
     ]
    }
   ],
   "source": [
    "# Create a code to count the occurrences of each element in a list and\n",
    "# return a dictionary with elements as keys and their counts as values\u0012\n",
    "def count_occurrences(lst):\n",
    "    counts = {}\n",
    "    for element in lst:\n",
    "        if element in counts:\n",
    "            counts[element] += 1\n",
    "        else:\n",
    "            counts[element] = 1\n",
    "    return counts\n",
    "\n",
    "# Example usage\n",
    "lst = [1, 2, 2, 3, 3, 3, 4, 4, 4, 4]\n",
    "occurrences = count_occurrences(lst)\n",
    "print(\"Occurrences:\", occurrences)\n"
   ]
  },
  {
   "cell_type": "code",
   "execution_count": 25,
   "id": "3f6a5089-9715-424e-92fc-7b783d6347d5",
   "metadata": {},
   "outputs": [
    {
     "data": {
      "text/plain": [
       "[5, 4, 3, 2, 1]"
      ]
     },
     "execution_count": 25,
     "metadata": {},
     "output_type": "execute_result"
    }
   ],
   "source": [
    "#Write a code to reverse a list in-place without using any built-in reverse functions\u0012\n",
    "list1=[1,2,3,4,5]\n",
    "for i in range(len(list1)//2):\n",
    "    a = list1[i]\n",
    "    temp= list1[len(list1)-i-1]\n",
    "    list1[i]=temp\n",
    "    list1[len(list1)-i-1] = a\n",
    "list1    "
   ]
  },
  {
   "cell_type": "code",
   "execution_count": 29,
   "id": "ce4df53e-3744-4b86-ab3b-6fa482d39ecf",
   "metadata": {},
   "outputs": [
    {
     "name": "stdout",
     "output_type": "stream",
     "text": [
      "{1: 2, 2: 2, 4: 2, 5: 2, 6: 1, 8: 1, 9: 1}\n"
     ]
    }
   ],
   "source": [
    "#\u0012 Implement a code to find and remove duplicates from a list while preserving the original order of \n",
    "# elements\u0012\n",
    "list1=[1,2,2,4,5,6,4,8, 9, 1 ,5]\n",
    "diction={}\n",
    "for i in range(len(list1)):\n",
    "   # j=list1[i]\n",
    "    count = 0\n",
    "    k=i\n",
    "    for k in range(len(list1)):\n",
    "        if(list1[i] == list1[k]):\n",
    "            count=count + 1 \n",
    "    diction[list1[i]]=count\n",
    "print(diction)       "
   ]
  },
  {
   "cell_type": "code",
   "execution_count": 39,
   "id": "afd241b1-0c63-44d2-9d73-83132597a114",
   "metadata": {},
   "outputs": [
    {
     "name": "stdout",
     "output_type": "stream",
     "text": [
      "True\n"
     ]
    }
   ],
   "source": [
    "#\"$\u0012 Create a code to check if a given list is sorted (either in ascending or descending order) or not\u0012\n",
    "list1 = [1,2,3,4,5,6,7,8,9]\n",
    "list2= [2,1,2,5,1,3,45,6]\n",
    "bool_ascending = True \n",
    "bool_descending = True\n",
    "\n",
    "for i in range(1, len(list1)):\n",
    "    if list1[i] < list1[i - 1]:\n",
    "        bool_ascending = False\n",
    "    if list1[i] > list1[i - 1]:\n",
    "        bool_descending = False\n",
    "\n",
    "print(bool_ascending or bool_descending)\n",
    "    \n"
   ]
  },
  {
   "cell_type": "code",
   "execution_count": 42,
   "id": "669755c2-44c6-4ccf-b346-4d4fe43fca27",
   "metadata": {},
   "outputs": [
    {
     "name": "stdout",
     "output_type": "stream",
     "text": [
      "Merged list: [1, 2, 3, 4, 5, 6, 7, 8, 9, 10]\n"
     ]
    }
   ],
   "source": [
    "#\"&\u0012 Write a code to merge two sorted lists into a single sorted list\u0012\n",
    "list1 = [1, 2, 3, 8, 9, 10]\n",
    "list2 = [4, 5, 6, 7]\n",
    "list3 = []\n",
    "k = 0\n",
    "j = 0\n",
    "\n",
    "while k < len(list1) and j < len(list2):\n",
    "    if list1[k] < list2[j]:\n",
    "        list3.append(list1[k])\n",
    "        k += 1\n",
    "    else:\n",
    "        list3.append(list2[j])\n",
    "        j += 1\n",
    "\n",
    "# Append remaining elements from list1\n",
    "while k < len(list1):\n",
    "    list3.append(list1[k])\n",
    "    k += 1\n",
    "\n",
    "# Append remaining elements from list2\n",
    "while j < len(list2):\n",
    "    list3.append(list2[j])\n",
    "    j += 1\n",
    "\n",
    "print(\"Merged list:\", list3)\n",
    "\n",
    "\n"
   ]
  },
  {
   "cell_type": "code",
   "execution_count": 46,
   "id": "349b09cc-69c0-4f37-bb06-b437ae4fea06",
   "metadata": {},
   "outputs": [
    {
     "name": "stdout",
     "output_type": "stream",
     "text": [
      "Intersection: [4, 5]\n"
     ]
    }
   ],
   "source": [
    "#Implement a code to find the intersection of two given lists\n",
    "def find_intersection(list1, list2):\n",
    "    # Convert lists to sets\n",
    "    set1 = set(list1)\n",
    "    set2 = set(list2)\n",
    "    \n",
    "    # Find intersection\n",
    "    intersection = set1.intersection(set2)\n",
    "    \n",
    "    # Convert back to list (if needed)\n",
    "    return list(intersection)\n",
    "\n",
    "# Example usage\n",
    "list1 = [1, 2, 3, 4, 5]\n",
    "list2 = [4, 5, 6, 7, 8]\n",
    "intersection = find_intersection(list1, list2)\n",
    "print(\"Intersection:\", intersection)\n"
   ]
  },
  {
   "cell_type": "code",
   "execution_count": 48,
   "id": "bd37608d-96a2-47e1-b2f4-7ab2952625f8",
   "metadata": {},
   "outputs": [
    {
     "data": {
      "text/plain": [
       "{1, 2, 3, 3.133, 4, 6, 21, 22, 32}"
      ]
     },
     "execution_count": 48,
     "metadata": {},
     "output_type": "execute_result"
    }
   ],
   "source": [
    "#Create a code to find the union of two lists without duplicates\u0012\n",
    "list1= [1,22,3,4,21,3.133,32]\n",
    "list2=[2,6,3,4,1,6,3]\n",
    "set1= set(list1)\n",
    "set2= set(list2)\n",
    "set3 = set1.union(set2)\n",
    "set3"
   ]
  },
  {
   "cell_type": "code",
   "execution_count": 52,
   "id": "47ccdd26-4a85-4cbb-a9b7-257c52bd4a3e",
   "metadata": {},
   "outputs": [
    {
     "name": "stdout",
     "output_type": "stream",
     "text": [
      "Shuffled list: [2, 6, 9, 8, 1, 4, 5, 3, 7, 10]\n"
     ]
    }
   ],
   "source": [
    "# Write a code to shuffle a given list randomly without using any built-in shuffle functions\n",
    "import random\n",
    "\n",
    "def shuffle_list(lst):\n",
    "    n = len(lst)\n",
    "    for i in range(n - 1, 0, -1):\n",
    "        j = random.randint(0, i)\n",
    "        lst[i], lst[j] = lst[j], lst[i]\n",
    "\n",
    "# Example usage\n",
    "list1 = [1, 2, 3, 4, 5, 6, 7, 8, 9, 10]\n",
    "shuffle_list(list1)\n",
    "print(\"Shuffled list:\", list1)\n"
   ]
  },
  {
   "cell_type": "code",
   "execution_count": 16,
   "id": "c15955c6-4619-42df-8e8c-b83f4f12fa4f",
   "metadata": {},
   "outputs": [
    {
     "name": "stdin",
     "output_type": "stream",
     "text": [
      "Enter elements in tuple1 (type 'cancel' to finish):  cancel\n",
      "Enter elements in tuple2 (type 'cancel' to finish):  cancel\n"
     ]
    },
    {
     "name": "stdout",
     "output_type": "stream",
     "text": [
      "Common elements: ()\n"
     ]
    }
   ],
   "source": [
    "#\u001c",
    "\"\u0012 Write a code that takes two tuples as input and returns\n",
    "#a new tuple containing elements that are\n",
    "#common to both input tuples\u0012\n",
    "def get_tuple_from_input(prompt):\n",
    "    elements = []\n",
    "    while True:\n",
    "        element = input(prompt)\n",
    "        if element.lower() == 'cancel':\n",
    "            break\n",
    "        elements.append(element)\n",
    "    return tuple(elements)\n",
    "\n",
    "# Get tuples from user input\n",
    "tuple1 = get_tuple_from_input(\"Enter elements in tuple1 (type 'cancel' to finish): \")\n",
    "tuple2 = get_tuple_from_input(\"Enter elements in tuple2 (type 'cancel' to finish): \")\n",
    "\n",
    "# Convert tuples to sets to find common elements\n",
    "set1 = set(tuple1)\n",
    "set2 = set(tuple2)\n",
    "common_elements = set1.intersection(set2)\n",
    "\n",
    "# Convert the set of common elements back to a tuple\n",
    "tuple_common = tuple(common_elements)\n",
    "print(\"Common elements:\", tuple_common)\n"
   ]
  },
  {
   "cell_type": "code",
   "execution_count": 19,
   "id": "26a25c55-e7a0-45c7-91c0-770e3d767981",
   "metadata": {},
   "outputs": [
    {
     "name": "stdin",
     "output_type": "stream",
     "text": [
      "Enter the integers for set one (comma-separated):  1,2,3,4,5\n",
      "Enter the integers for set two (comma-separated):  3,5,6,7,8,9\n"
     ]
    },
    {
     "name": "stdout",
     "output_type": "stream",
     "text": [
      "Intersection of the two sets: {3, 5}\n"
     ]
    }
   ],
   "source": [
    "#\u001c",
    "\u001c",
    "\u0012 Create a code that prompts the user to enter two sets of \n",
    "#integers separated by commas. Then, print the \n",
    "#intersection of these two sets\u0012\n",
    "# Prompt the user to enter two sets of integers separated by commas\n",
    "set1 = set(map(int, input(\"Enter the integers for set one (comma-separated): \").split(',')))\n",
    "set2 = set(map(int, input(\"Enter the integers for set two (comma-separated): \").split(',')))\n",
    "\n",
    "# Calculate the intersection of the two sets\n",
    "intersection_set = set1.intersection(set2)\n",
    "\n",
    "# Print the intersection of the sets\n",
    "print(\"Intersection of the two sets:\", intersection_set)\n",
    "\n",
    "\n",
    "\n"
   ]
  },
  {
   "cell_type": "code",
   "execution_count": 7,
   "id": "cbfb4984-200a-42d0-b2c4-01a4578a9e1f",
   "metadata": {},
   "outputs": [
    {
     "name": "stdin",
     "output_type": "stream",
     "text": [
      "Enter the elemsnt for tuple one seprated by (,): 1,2,3,4,5,6\n",
      "Enter the elememt for tuple two  seprated by (,): 1,3,4,5,9\n"
     ]
    },
    {
     "name": "stdout",
     "output_type": "stream",
     "text": [
      "Concatenated tuple: ('1', '2', '3', '4', '5', '6', '1', '3', '4', '5', '9')\n"
     ]
    }
   ],
   "source": [
    "# Write a code to concatenate two tuples. \n",
    "#The function should take two tuples as input and return a new \n",
    "#tuple containing elements from both input tuples\n",
    "def concat_tuples(t1,t2):\n",
    "    return t1+t2 \n",
    "t1=()\n",
    "t2=()\n",
    "t1=tuple(input(\"Enter the elemsnt for tuple one seprated by (,):\").split(','))\n",
    "t2=tuple(input(\"Enter the elememt for tuple two  seprated by (,):\").split(','))\n",
    "#t3=set(t1)\n",
    "#t4=set(t2)\n",
    "t5 = concat_tuples(t1,t2)\n",
    "print(\"Concatenated tuple:\",t5)"
   ]
  },
  {
   "cell_type": "code",
   "execution_count": 9,
   "id": "9b20a071-10c3-429b-93f4-58396a9f2367",
   "metadata": {},
   "outputs": [
    {
     "name": "stdin",
     "output_type": "stream",
     "text": [
      "Enter the strings1 for set1 sepreated by (,)  1,2,3,4,5\n",
      "Enter the strings2  for set2 seprated by (,) 2,3,4,5,6,7,8,9\n"
     ]
    },
    {
     "data": {
      "text/plain": [
       "{'6', '7', '8', '9'}"
      ]
     },
     "execution_count": 9,
     "metadata": {},
     "output_type": "execute_result"
    }
   ],
   "source": [
    "#& Develop a code that prompts the user to input two sets of strings. \n",
    "#Then, print the elements that are \n",
    "#present in the first set but not in the second set\n",
    "s1 = set(str(input(\"Enter the strings1 for set1 sepreated by (,) \")).split(\",\"))   \n",
    "s2 = set(str(input(\"Enter the strings2  for set2 seprated by (,)\")).split(\",\"))\n",
    "s3= s2 - s1.intersection(s2)\n",
    "s3"
   ]
  },
  {
   "cell_type": "code",
   "execution_count": null,
   "id": "a1580cf2-b058-4592-8a9f-0682e3da8c06",
   "metadata": {},
   "outputs": [],
   "source": [
    "# Create a code that takes a tuple and two integers as input. \n",
    "# The function should return a new tuple \n",
    "# containing elements from the original tuple within the \n",
    "# specified range of indices\n",
    "t1=input(\"Enter the tuple element:\")\n",
    "a=input(\"Enter starting point :\") \n",
    "b=input(\"Enter ending point :\") \n",
    "\n",
    "\n"
   ]
  },
  {
   "cell_type": "code",
   "execution_count": 14,
   "id": "d8920130-5778-4814-9f03-53861d88cd60",
   "metadata": {},
   "outputs": [
    {
     "name": "stdin",
     "output_type": "stream",
     "text": [
      "Enter the characters for set one (comma-separated):  1,2,3,4,5\n",
      "Enter the characters for set two (comma-separated):  6,7,8,9,10\n"
     ]
    },
    {
     "name": "stdout",
     "output_type": "stream",
     "text": [
      "Union of the two sets (as integers): {1, 2, 3, 4, 5, 6, 7, 8, 9, 10}\n"
     ]
    }
   ],
   "source": [
    "# Prompt the user to input two sets of characters\n",
    "s1 = set(input(\"Enter the characters for set one (comma-separated): \").split(\",\"))\n",
    "s2 = set(input(\"Enter the characters for set two (comma-separated): \").split(\",\"))\n",
    "\n",
    "# Find the union of the two sets\n",
    "s3 = s1.union(s2)\n",
    "\n",
    "# Convert characters to integers if possible\n",
    "s3_int = set()\n",
    "for i in s3:\n",
    "    try:\n",
    "        s3_int.add(int(i))\n",
    "    except ValueError:\n",
    "        print(f\"'{i}' is not a valid integer and will be ignored.\")\n",
    "\n",
    "# Print the union of the sets\n",
    "print(\"Union of the two sets (as integers):\", s3_int)\n"
   ]
  },
  {
   "cell_type": "code",
   "execution_count": null,
   "id": "b26c2ca1-c67a-42d5-af0f-e50bfcceb0af",
   "metadata": {},
   "outputs": [],
   "source": [
    "#*& Develop a code that takes a tuple of integers as input. The function should return the maximum and \n",
    "#minimum values from the tuple using tuple unpacking&\n",
    "\n",
    "\n",
    "\n",
    "def find_max_min(t):\n",
    "    max_val = max(t)\n",
    "    min_val = min(t)\n",
    "    return max_val, min_val\n",
    "\n",
    "# Example usage\n",
    "t = tuple(map(int, input(\"Enter the integers for the tuple (comma-separated): \").split(',')))\n",
    "max_val, min_val = find_max_min(t)\n",
    "print(f\"Maximum value: {max_val}\")\n",
    "print(f\"Minimum value: {min_val}\")\n",
    "\n",
    "\n",
    "\n",
    "\n",
    "\n"
   ]
  },
  {
   "cell_type": "code",
   "execution_count": null,
   "id": "c8a3e039-9110-4d01-b051-10157fc14b8d",
   "metadata": {},
   "outputs": [],
   "source": [
    "#'\u0007& Create a code that defines two sets of integers. Then, print the union, intersection, and difference of these \n",
    "#two sets&\n",
    "\n",
    "\n",
    "# Define two sets of integers\n",
    "set1 = {1, 2, 3, 4, 5}\n",
    "set2 = {4, 5, 6, 7, 8}\n",
    "\n",
    "# Calculate union, intersection, and difference\n",
    "union_set = set1.union(set2)\n",
    "intersection_set = set1.intersection(set2)\n",
    "difference_set = set1.difference(set2)\n",
    "\n",
    "# Print the results\n",
    "print(\"Set 1:\", set1)\n",
    "print(\"Set 2:\", set2)\n",
    "print(\"Union:\", union_set)\n",
    "print(\"Intersection:\", intersection_set)\n",
    "print(\"Difference (Set1 - Set2):\", difference_set)\n",
    "\n",
    "\n",
    "\n"
   ]
  },
  {
   "cell_type": "code",
   "execution_count": null,
   "id": "16acd720-7664-4526-93b7-c24ae7211ccd",
   "metadata": {},
   "outputs": [],
   "source": [
    "#'\u0006& Write a code that takes a tuple and an element as input. The function should return the count of \n",
    "#occurrences of the given element in the tuple&\n",
    "\n",
    "\n",
    "def count_occurrences(t, element):\n",
    "    return t.count(element)\n",
    "\n",
    "# Example usage\n",
    "t = tuple(map(int, input(\"Enter the elements for the tuple (comma-separated): \").split(',')))\n",
    "element = int(input(\"Enter the element to count: \"))\n",
    "count = count_occurrences(t, element)\n",
    "print(f\"The element {element} occurs {count} times in the tuple.\")\n",
    "\n",
    "\n",
    "\n",
    "\n",
    "\n",
    "\n",
    "\n"
   ]
  },
  {
   "cell_type": "code",
   "execution_count": null,
   "id": "f4aa062e-f613-45b8-b591-b0e3e36f72b6",
   "metadata": {},
   "outputs": [],
   "source": [
    "#\u0005\u0003& Develop a code that prompts the user to input two sets of strings. Then, print the symmetric difference of \n",
    "#these two sets&\n",
    "# Prompt the user to input two sets of strings\n",
    "set1 = set(input(\"Enter the strings for set one (comma-separated): \").split(\",\"))\n",
    "set2 = set(input(\"Enter the strings for set two (comma-separated): \").split(\",\"))\n",
    "\n",
    "# Calculate the symmetric difference of the two sets\n",
    "symmetric_difference_set = set1.symmetric_difference(set2)\n",
    "\n",
    "# Print the symmetric difference of the sets\n",
    "print(\"Symmetric difference of the two sets:\", symmetric_difference_set)\n",
    "\n",
    "\n",
    "\n",
    "\n"
   ]
  },
  {
   "cell_type": "code",
   "execution_count": null,
   "id": "489cef64-2be3-4179-8a9a-10687a3be267",
   "metadata": {},
   "outputs": [],
   "source": [
    "#\u0005\u0002& Write a code that takes a list of words as input and returns a dictionary where the keys are unique words \n",
    "#and the values are the frequencies of those words in the input list&\n",
    "\n",
    "\n",
    "def word_frequencies(word_list):\n",
    "    frequency_dict = {}\n",
    "    for word in word_list:\n",
    "        if word in frequency_dict:\n",
    "            frequency_dict[word] += 1\n",
    "        else:\n",
    "            frequency_dict[word] = 1\n",
    "    return frequency_dict\n",
    "\n",
    "# Example usage\n",
    "word_list = input(\"Enter the words (space-separated): \").split()\n",
    "frequency_dict = word_frequencies(word_list)\n",
    "print(\"Word frequencies:\", frequency_dict)\n",
    "\n",
    "\n",
    "\n",
    "\n"
   ]
  },
  {
   "cell_type": "code",
   "execution_count": null,
   "id": "dba0a698-182b-4632-a9d4-7aff16a61c45",
   "metadata": {},
   "outputs": [],
   "source": [
    "#\u0005\u0005& Write a code to access a value in a nested dictionary. The function should take the dictionary and a list of \n",
    "#keys as input, and return the corresponding value. If any of the keys do not exist in the dictionary, the \n",
    "#function should return None&\n",
    "\n",
    "def get_nested_value(d, keys):\n",
    "    current_dict = d\n",
    "    for key in keys:\n",
    "        if key in current_dict:\n",
    "            current_dict = current_dict[key]\n",
    "        else:\n",
    "            return None\n",
    "    return current_dict\n",
    "\n",
    "# Example usage\n",
    "nested_dict = {\n",
    "    'a': {\n",
    "        'b': {\n",
    "            'c': 42\n",
    "        }\n",
    "    }\n",
    "}\n",
    "keys = ['a', 'b', 'c']\n",
    "value = get_nested_value(nested_dict, keys)\n",
    "print(\"Value:\", value)  # Output: 42\n",
    "\n",
    "keys = ['a', 'b', 'd']\n",
    "value = get_nested_value(nested_dict, keys)\n",
    "print(\"Value:\", value)  # Output: None\n",
    "\n",
    "\n",
    "\n",
    "\n"
   ]
  },
  {
   "cell_type": "code",
   "execution_count": null,
   "id": "ff9142a7-103f-422c-8488-dc55f2858964",
   "metadata": {},
   "outputs": [],
   "source": [
    "#\u0005%& Write a code that takes a dictionary as input and returns a sorted version of it based on the values. You \n",
    "#can choose whether to sort in ascending or descending order&\n",
    "\n",
    "\n",
    "def sort_dict_by_values(d, ascending=True):\n",
    "    sorted_dict = dict(sorted(d.items(), key=lambda item: item[1], reverse=not ascending))\n",
    "    return sorted_dict\n",
    "\n",
    "# Example usage\n",
    "input_dict = {\n",
    "    'apple': 3,\n",
    "    'banana': 1,\n",
    "    'cherry': 2\n",
    "}\n",
    "\n",
    "# Sort in ascending order\n",
    "sorted_dict_asc = sort_dict_by_values(input_dict, ascending=True)\n",
    "print(\"Sorted dictionary (ascending):\", sorted_dict_asc)\n",
    "\n",
    "# Sort in descending order\n",
    "sorted_dict_desc = sort_dict_by_values(input_dict, ascending=False)\n",
    "print(\"Sorted dictionary (descending):\", sorted_dict_desc)\n",
    "\n",
    "\n",
    "\n",
    "\n",
    "\n"
   ]
  },
  {
   "cell_type": "code",
   "execution_count": null,
   "id": "3d5464ab-7b75-4a18-8d26-0ad5e0a65970",
   "metadata": {},
   "outputs": [],
   "source": [
    "#\u0005\u000b",
    "& Write a code that inverts a dictionary, swapping keys and values. Ensure that the inverted dictionary \n",
    "#correctly handles cases where multiple keys have the same value by storing the keys as a list in the \n",
    "#inverted dictionary\n",
    "\n",
    "\n",
    "\n",
    "\n",
    "\n",
    "\n",
    "def invert_dict(d):\n",
    "    inverted_dict = {}\n",
    "    for key, value in d.items():\n",
    "        if value in inverted_dict:\n",
    "            inverted_dict[value].append(key)\n",
    "        else:\n",
    "            inverted_dict[value] = [key]\n",
    "    return inverted_dict\n",
    "\n",
    "# Example usage\n",
    "input_dict = {\n",
    "    'a': 1,\n",
    "    'b': 2,\n",
    "    'c': 1,\n",
    "    'd': 3,\n",
    "    'e': 2\n",
    "}\n",
    "\n",
    "inverted_dict = invert_dict(input_dict)\n",
    "print(\"Inverted dictionary:\", inverted_dict)\n",
    "\n",
    "\n",
    "\n",
    "\n"
   ]
  },
  {
   "cell_type": "code",
   "execution_count": null,
   "id": "e4ae8168-3f7c-48e2-ae60-b6ef543d56a1",
   "metadata": {},
   "outputs": [],
   "source": []
  },
  {
   "cell_type": "code",
   "execution_count": null,
   "id": "9fa0ac50-2c20-4637-96c0-c6330a142c3c",
   "metadata": {},
   "outputs": [],
   "source": []
  },
  {
   "cell_type": "code",
   "execution_count": null,
   "id": "216f2861-c6c8-40a2-a899-c09aed3de859",
   "metadata": {},
   "outputs": [],
   "source": []
  },
  {
   "cell_type": "code",
   "execution_count": null,
   "id": "0fce7655-5e59-419b-8d31-0021b4df7f0f",
   "metadata": {},
   "outputs": [],
   "source": []
  },
  {
   "cell_type": "code",
   "execution_count": null,
   "id": "b7613634-501e-447c-89b5-86f2c594f965",
   "metadata": {},
   "outputs": [],
   "source": []
  },
  {
   "cell_type": "code",
   "execution_count": null,
   "id": "c418f88d-2459-4557-ad87-8bfa8e2bf832",
   "metadata": {},
   "outputs": [],
   "source": []
  },
  {
   "cell_type": "code",
   "execution_count": null,
   "id": "631fcf74-c18e-402c-bebd-373ee3addf58",
   "metadata": {},
   "outputs": [],
   "source": []
  },
  {
   "cell_type": "code",
   "execution_count": null,
   "id": "2e951ba6-3129-4502-9e1a-9361aef0e016",
   "metadata": {},
   "outputs": [],
   "source": []
  },
  {
   "cell_type": "code",
   "execution_count": null,
   "id": "e7f5716a-e857-4661-b1a0-2030cc7104fd",
   "metadata": {},
   "outputs": [],
   "source": []
  }
 ],
 "metadata": {
  "kernelspec": {
   "display_name": "Python 3 (ipykernel)",
   "language": "python",
   "name": "python3"
  },
  "language_info": {
   "codemirror_mode": {
    "name": "ipython",
    "version": 3
   },
   "file_extension": ".py",
   "mimetype": "text/x-python",
   "name": "python",
   "nbconvert_exporter": "python",
   "pygments_lexer": "ipython3",
   "version": "3.12.4"
  }
 },
 "nbformat": 4,
 "nbformat_minor": 5
}
