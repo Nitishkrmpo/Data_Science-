{
 "cells": [
  {
   "cell_type": "code",
   "execution_count": 322,
   "id": "c215c314-5936-47d8-91e0-c028120d9743",
   "metadata": {},
   "outputs": [],
   "source": [
    "import numpy as np\n"
   ]
  },
  {
   "cell_type": "code",
   "execution_count": 323,
   "id": "b1da05c5-9890-4da4-97cf-377edd641bee",
   "metadata": {},
   "outputs": [
    {
     "data": {
      "text/plain": [
       "'2.1.1'"
      ]
     },
     "execution_count": 323,
     "metadata": {},
     "output_type": "execute_result"
    }
   ],
   "source": [
    "np.__version__"
   ]
  },
  {
   "cell_type": "code",
   "execution_count": 324,
   "id": "93ebdd64-0893-435a-b9f9-5d83a46c678f",
   "metadata": {},
   "outputs": [],
   "source": [
    "lis = [1,2,3,'pwskills',(3+5j)]"
   ]
  },
  {
   "cell_type": "code",
   "execution_count": 325,
   "id": "fe30f8c2-7300-4f2d-985f-be7b9a408812",
   "metadata": {},
   "outputs": [
    {
     "data": {
      "text/plain": [
       "list"
      ]
     },
     "execution_count": 325,
     "metadata": {},
     "output_type": "execute_result"
    }
   ],
   "source": [
    "type(lis)"
   ]
  },
  {
   "cell_type": "code",
   "execution_count": 326,
   "id": "0580e1b5-58c6-41a7-933a-fbe243f34611",
   "metadata": {},
   "outputs": [],
   "source": [
    "#Numpy stores the data in an array \n",
    "#An array is a container and to store th data of same data type"
   ]
  },
  {
   "cell_type": "code",
   "execution_count": 327,
   "id": "93028077-82f5-4f36-943f-61c81d5753b5",
   "metadata": {},
   "outputs": [],
   "source": [
    "#numpy is array based which make it fast  beacuse of the contigious memory allocation\n",
    "#mathematcial computation"
   ]
  },
  {
   "cell_type": "code",
   "execution_count": 328,
   "id": "bdf3839e-2c1b-4275-99f4-9955896af1df",
   "metadata": {},
   "outputs": [],
   "source": [
    "l= [1,2,3,4,5]"
   ]
  },
  {
   "cell_type": "code",
   "execution_count": 329,
   "id": "dab4ff3a-80ad-48c6-9c05-f0f42b98f148",
   "metadata": {},
   "outputs": [],
   "source": [
    "arr= np.array(l)   #{most fundamental element of computation}"
   ]
  },
  {
   "cell_type": "code",
   "execution_count": 330,
   "id": "e7661fd5-2e43-4055-b02f-8b34a3381657",
   "metadata": {},
   "outputs": [
    {
     "data": {
      "text/plain": [
       "array([1, 2, 3, 4, 5])"
      ]
     },
     "execution_count": 330,
     "metadata": {},
     "output_type": "execute_result"
    }
   ],
   "source": [
    "arr\n"
   ]
  },
  {
   "cell_type": "code",
   "execution_count": 331,
   "id": "2594504b-2665-41d8-af72-ccb932f57636",
   "metadata": {},
   "outputs": [],
   "source": [
    "l= [1,2,3,4,5.1]"
   ]
  },
  {
   "cell_type": "code",
   "execution_count": 332,
   "id": "f935cdd2-4224-45ee-8fe3-e5a9c1f259bf",
   "metadata": {},
   "outputs": [],
   "source": [
    "l= np.array(l)"
   ]
  },
  {
   "cell_type": "code",
   "execution_count": 333,
   "id": "cd95b74f-c3e9-4937-ad95-10a61ee2c66b",
   "metadata": {},
   "outputs": [
    {
     "data": {
      "text/plain": [
       "array([1. , 2. , 3. , 4. , 5.1])"
      ]
     },
     "execution_count": 333,
     "metadata": {},
     "output_type": "execute_result"
    }
   ],
   "source": [
    "l"
   ]
  },
  {
   "cell_type": "code",
   "execution_count": 334,
   "id": "c987f8b1-9336-4449-a6c2-71bb7d48df63",
   "metadata": {},
   "outputs": [],
   "source": [
    "l= [1,2,3,4,5.1,\"Nitish\"]\n",
    "arr= np.array(l)"
   ]
  },
  {
   "cell_type": "code",
   "execution_count": 335,
   "id": "f70e9090-62f1-4627-8b29-48226e38e2d4",
   "metadata": {},
   "outputs": [
    {
     "data": {
      "text/plain": [
       "array(['1', '2', '3', '4', '5.1', 'Nitish'], dtype='<U32')"
      ]
     },
     "execution_count": 335,
     "metadata": {},
     "output_type": "execute_result"
    }
   ],
   "source": [
    "arr"
   ]
  },
  {
   "cell_type": "code",
   "execution_count": 336,
   "id": "f38605e5-6bde-4b6f-b26d-1ba1f74ce767",
   "metadata": {},
   "outputs": [
    {
     "data": {
      "text/plain": [
       "numpy.ndarray"
      ]
     },
     "execution_count": 336,
     "metadata": {},
     "output_type": "execute_result"
    }
   ],
   "source": [
    "type(arr)"
   ]
  },
  {
   "cell_type": "code",
   "execution_count": 337,
   "id": "01e84132-4069-4a08-a2a4-0bb80346ccc0",
   "metadata": {},
   "outputs": [
    {
     "data": {
      "text/plain": [
       "1"
      ]
     },
     "execution_count": 337,
     "metadata": {},
     "output_type": "execute_result"
    }
   ],
   "source": [
    "arr.ndim"
   ]
  },
  {
   "cell_type": "code",
   "execution_count": 338,
   "id": "68510394-0380-451b-a18b-c7bd47d7a1a3",
   "metadata": {},
   "outputs": [],
   "source": [
    "arr1= np.array([[1,2,3],[4,5,6]])"
   ]
  },
  {
   "cell_type": "code",
   "execution_count": 339,
   "id": "d87896c7-899c-4510-9f3c-b2c8eef3de0e",
   "metadata": {},
   "outputs": [
    {
     "data": {
      "text/plain": [
       "array([[1, 2, 3],\n",
       "       [4, 5, 6]])"
      ]
     },
     "execution_count": 339,
     "metadata": {},
     "output_type": "execute_result"
    }
   ],
   "source": [
    "arr1"
   ]
  },
  {
   "cell_type": "code",
   "execution_count": 340,
   "id": "9074d2a2-4ea4-4121-a43d-63c2abcb7d54",
   "metadata": {},
   "outputs": [
    {
     "data": {
      "text/plain": [
       "2"
      ]
     },
     "execution_count": 340,
     "metadata": {},
     "output_type": "execute_result"
    }
   ],
   "source": [
    "arr1.ndim"
   ]
  },
  {
   "cell_type": "code",
   "execution_count": null,
   "id": "343c0a77-090b-4dc4-9d31-6b2f2715d002",
   "metadata": {},
   "outputs": [],
   "source": []
  },
  {
   "cell_type": "code",
   "execution_count": 341,
   "id": "94bb25b4-1b3c-47a2-bc65-65b0800fd31c",
   "metadata": {},
   "outputs": [],
   "source": [
    "#representaion of data in vector form is know as matrix "
   ]
  },
  {
   "cell_type": "code",
   "execution_count": 342,
   "id": "12fe582b-2824-4c0d-bc8c-402d7fcac21f",
   "metadata": {},
   "outputs": [],
   "source": [
    "#the inverse of matrix is not easy to find out that is why we got matix array(specialised numpy array)"
   ]
  },
  {
   "cell_type": "code",
   "execution_count": 343,
   "id": "931e6686-33a7-42ca-85e0-8249fc23fa8b",
   "metadata": {},
   "outputs": [],
   "source": [
    "mat = np.matrix([1,2,3,4])"
   ]
  },
  {
   "cell_type": "code",
   "execution_count": 344,
   "id": "352b8da6-db5a-44f4-b87e-75e01c5bc275",
   "metadata": {},
   "outputs": [
    {
     "data": {
      "text/plain": [
       "numpy.matrix"
      ]
     },
     "execution_count": 344,
     "metadata": {},
     "output_type": "execute_result"
    }
   ],
   "source": [
    "type(mat)"
   ]
  },
  {
   "cell_type": "code",
   "execution_count": 345,
   "id": "c9c406e0-9181-4280-9409-9d274eb29a25",
   "metadata": {},
   "outputs": [
    {
     "ename": "ValueError",
     "evalue": "matrix must be 2-dimensional",
     "output_type": "error",
     "traceback": [
      "\u001b[1;31m---------------------------------------------------------------------------\u001b[0m",
      "\u001b[1;31mValueError\u001b[0m                                Traceback (most recent call last)",
      "Cell \u001b[1;32mIn[345], line 1\u001b[0m\n\u001b[1;32m----> 1\u001b[0m \u001b[43mnp\u001b[49m\u001b[38;5;241;43m.\u001b[39;49m\u001b[43mmatrix\u001b[49m\u001b[43m(\u001b[49m\u001b[43m[\u001b[49m\u001b[43m[\u001b[49m\u001b[43m[\u001b[49m\u001b[38;5;241;43m1\u001b[39;49m\u001b[43m,\u001b[49m\u001b[38;5;241;43m2\u001b[39;49m\u001b[43m]\u001b[49m\u001b[43m,\u001b[49m\u001b[43m[\u001b[49m\u001b[38;5;241;43m3\u001b[39;49m\u001b[43m,\u001b[49m\u001b[38;5;241;43m4\u001b[39;49m\u001b[43m]\u001b[49m\u001b[43m,\u001b[49m\u001b[43m[\u001b[49m\u001b[38;5;241;43m5\u001b[39;49m\u001b[43m,\u001b[49m\u001b[38;5;241;43m6\u001b[39;49m\u001b[43m]\u001b[49m\u001b[43m]\u001b[49m\u001b[43m]\u001b[49m\u001b[43m)\u001b[49m\n",
      "File \u001b[1;32m~\\AppData\\Local\\Programs\\Python\\Python312\\Lib\\site-packages\\numpy\\matrixlib\\defmatrix.py:152\u001b[0m, in \u001b[0;36mmatrix.__new__\u001b[1;34m(subtype, data, dtype, copy)\u001b[0m\n\u001b[0;32m    150\u001b[0m shape \u001b[38;5;241m=\u001b[39m arr\u001b[38;5;241m.\u001b[39mshape\n\u001b[0;32m    151\u001b[0m \u001b[38;5;28;01mif\u001b[39;00m (ndim \u001b[38;5;241m>\u001b[39m \u001b[38;5;241m2\u001b[39m):\n\u001b[1;32m--> 152\u001b[0m     \u001b[38;5;28;01mraise\u001b[39;00m \u001b[38;5;167;01mValueError\u001b[39;00m(\u001b[38;5;124m\"\u001b[39m\u001b[38;5;124mmatrix must be 2-dimensional\u001b[39m\u001b[38;5;124m\"\u001b[39m)\n\u001b[0;32m    153\u001b[0m \u001b[38;5;28;01melif\u001b[39;00m ndim \u001b[38;5;241m==\u001b[39m \u001b[38;5;241m0\u001b[39m:\n\u001b[0;32m    154\u001b[0m     shape \u001b[38;5;241m=\u001b[39m (\u001b[38;5;241m1\u001b[39m, \u001b[38;5;241m1\u001b[39m)\n",
      "\u001b[1;31mValueError\u001b[0m: matrix must be 2-dimensional"
     ]
    }
   ],
   "source": [
    "np.matrix([[[1,2],[3,4],[5,6]]])"
   ]
  },
  {
   "cell_type": "code",
   "execution_count": null,
   "id": "739eff6e-b69d-4a04-9d89-8ffb4ef0543d",
   "metadata": {},
   "outputs": [],
   "source": [
    "#more way to convert array\n",
    "#np.asarray(convert to array from any type whether it is subtype of array(matrix) ) ,np.array(convert to array similar similar to asarray ), np.asanyarray(convert to array but it should not be any subtype of array)\n",
    "## a.copy() , a.array()"
   ]
  },
  {
   "cell_type": "code",
   "execution_count": null,
   "id": "8032e266-6051-46fe-a7d8-3ff596a662b6",
   "metadata": {},
   "outputs": [],
   "source": [
    "l=[1,2,3,4,5]"
   ]
  },
  {
   "cell_type": "code",
   "execution_count": null,
   "id": "00a40f6d-7b03-4760-8e3f-244002214ea8",
   "metadata": {},
   "outputs": [],
   "source": [
    "arr = np.asarray(l)"
   ]
  },
  {
   "cell_type": "code",
   "execution_count": null,
   "id": "a21319d7-2410-4580-9f73-632f32a9cb70",
   "metadata": {},
   "outputs": [],
   "source": [
    "type(arr)"
   ]
  },
  {
   "cell_type": "code",
   "execution_count": null,
   "id": "9500f674-0080-48fc-80cc-cad23904180a",
   "metadata": {},
   "outputs": [],
   "source": [
    "mat"
   ]
  },
  {
   "cell_type": "code",
   "execution_count": null,
   "id": "bfc31a57-7df4-4e04-8205-30b6b02099f9",
   "metadata": {},
   "outputs": [],
   "source": [
    " m= np.matrix([1,2,3,4])"
   ]
  },
  {
   "cell_type": "code",
   "execution_count": null,
   "id": "d636ae49-5f60-44e1-ba76-9b1a3cdb2ea5",
   "metadata": {},
   "outputs": [],
   "source": [
    "np.asanyarray(m)"
   ]
  },
  {
   "cell_type": "code",
   "execution_count": null,
   "id": "0b8adc04-0c40-42b8-9a86-709006d712a7",
   "metadata": {},
   "outputs": [],
   "source": [
    "arr1 = np.matrix([[1, 2], [3, 4]])\n",
    "arr2 = np.asanyarray(arr1)  # Preserves the matrix type\n",
    "type(arr2)"
   ]
  },
  {
   "cell_type": "code",
   "execution_count": null,
   "id": "5d4894c5-6cd9-44aa-83f8-98f73a764b81",
   "metadata": {},
   "outputs": [],
   "source": [
    "import numpy as np\n",
    "arr1 = np.array([1, 2, 3])  # Creates a new array\n",
    "arr2 = np.array(arr1)        # Creates a copy of arr1\n",
    "arr1[0]=5\n",
    "arr2"
   ]
  },
  {
   "cell_type": "code",
   "execution_count": null,
   "id": "a4c9ef88-6a5d-4d39-bbd6-d19b2cdc82f1",
   "metadata": {},
   "outputs": [],
   "source": [
    "arr1 = np.array([1, 2, 3])\n",
    "arr2 = np.asarray(arr1)  # Does not copy arr1, reuses the original array\n",
    "arr1[0]=5\n",
    "arr2"
   ]
  },
  {
   "cell_type": "code",
   "execution_count": null,
   "id": "97590749-68db-480c-961a-84fedbe36ce9",
   "metadata": {},
   "outputs": [],
   "source": [
    "#multiple ways to create array   through function "
   ]
  },
  {
   "cell_type": "code",
   "execution_count": null,
   "id": "6fafaba9-4d9d-4a3a-bcb2-dbe2c2776cda",
   "metadata": {},
   "outputs": [],
   "source": [
    "arr1=np.fromfunction(lambda i, j: i==j, (3,3))   #construct an array by executing a function over each coordinate"
   ]
  },
  {
   "cell_type": "code",
   "execution_count": null,
   "id": "815d1d16-f3e0-4dc4-86a3-265838cb63f1",
   "metadata": {},
   "outputs": [],
   "source": [
    "arr1.ndim"
   ]
  },
  {
   "cell_type": "code",
   "execution_count": null,
   "id": "9fe10e9f-b66a-43e9-9303-7189692810d6",
   "metadata": {},
   "outputs": [],
   "source": [
    "arr1.shape"
   ]
  },
  {
   "cell_type": "markdown",
   "id": "53a1e2fc-f512-4255-ad9c-119eea957316",
   "metadata": {},
   "source": [
    "#arrray with the help of iterables "
   ]
  },
  {
   "cell_type": "code",
   "execution_count": null,
   "id": "b6693d2b-3d6a-4ebb-8302-98ea85e0d257",
   "metadata": {},
   "outputs": [],
   "source": [
    "#making of iterables \n",
    "iterable =(i for i in range(5))\n"
   ]
  },
  {
   "cell_type": "code",
   "execution_count": null,
   "id": "55b0362c-0c0f-4255-add5-0efd6a6de15b",
   "metadata": {},
   "outputs": [],
   "source": [
    "np.fromiter(iterable, int) # create one dimensional array from iterable object "
   ]
  },
  {
   "cell_type": "code",
   "execution_count": null,
   "id": "c9e5a2f9-bb01-4152-b69e-a632be7c6e43",
   "metadata": {},
   "outputs": [],
   "source": [
    "np.fromstring('22 23 24',sep=\" \") #works well from numerical data "
   ]
  },
  {
   "cell_type": "code",
   "execution_count": null,
   "id": "b13ff1fb-bd49-4435-b383-84dc77b56e06",
   "metadata": {},
   "outputs": [],
   "source": [
    "    #the string character split function for  converting to array "
   ]
  },
  {
   "cell_type": "code",
   "execution_count": null,
   "id": "475d0bc0-ba1f-42a4-ad13-d8419934a7ab",
   "metadata": {},
   "outputs": [],
   "source": [
    "str = 'Ajay, Bijay,Sanjay '\n",
    "string1= str.split(',')"
   ]
  },
  {
   "cell_type": "code",
   "execution_count": null,
   "id": "0912721b-8df5-4b65-8a30-04a13e567002",
   "metadata": {},
   "outputs": [],
   "source": [
    "np.array(string1)"
   ]
  },
  {
   "cell_type": "code",
   "execution_count": null,
   "id": "ef5f837f-0a7b-45ad-a41f-a7069136dd17",
   "metadata": {},
   "outputs": [],
   "source": [
    "#in numpy there is the function like range that is used to make array \n",
    "#it is very much similar to the range function in pyhton "
   ]
  },
  {
   "cell_type": "code",
   "execution_count": null,
   "id": "977bd8c2-3a59-4500-9e74-c50e1be00dcc",
   "metadata": {},
   "outputs": [],
   "source": [
    "#other methods of numpy >> to generate sequennce of nos \n",
    "np.arange(1,10,0.1)"
   ]
  },
  {
   "cell_type": "code",
   "execution_count": null,
   "id": "9da0f126-09db-48bb-b599-3ccc0307e5da",
   "metadata": {},
   "outputs": [],
   "source": [
    "np.linspace(1,5,10) #Return evenly spaced numbers over a specified interval.\n",
    "#give me 10 numbers between 1 and 5 evenly spaced "
   ]
  },
  {
   "cell_type": "code",
   "execution_count": null,
   "id": "7089c795-a79c-4d42-ad62-16d4dd349063",
   "metadata": {},
   "outputs": [],
   "source": [
    "np.logspace(1,5,10)"
   ]
  },
  {
   "cell_type": "code",
   "execution_count": null,
   "id": "6e4b89e7-d6ff-473d-b85e-b411431a4ef6",
   "metadata": {},
   "outputs": [],
   "source": [
    "np.logspace(1,5,10,base=2"
   ]
  },
  {
   "cell_type": "code",
   "execution_count": null,
   "id": "fd0ad9b9-4482-4936-890d-6279ff9f1b6d",
   "metadata": {},
   "outputs": [],
   "source": [
    "#Lecture 2 \n"
   ]
  },
  {
   "cell_type": "code",
   "execution_count": null,
   "id": "327b304b-c57b-4bc3-b2d2-08789a42f330",
   "metadata": {},
   "outputs": [],
   "source": [
    "import numpy as np"
   ]
  },
  {
   "cell_type": "code",
   "execution_count": null,
   "id": "7d380258-1cf8-4308-a165-9b3e2be2cb02",
   "metadata": {},
   "outputs": [],
   "source": [
    "a=np.zeros(5) #Return a new array shape and type,filled with zeros."
   ]
  },
  {
   "cell_type": "code",
   "execution_count": null,
   "id": "23db771b-3b06-4d97-b3e7-975893a1c575",
   "metadata": {},
   "outputs": [],
   "source": [
    "a.ndim\n",
    "a\n"
   ]
  },
  {
   "cell_type": "code",
   "execution_count": null,
   "id": "a1a9ba96-463d-4625-bfae-f7f947f84831",
   "metadata": {},
   "outputs": [],
   "source": [
    " b= np.zeros((3,4))"
   ]
  },
  {
   "cell_type": "code",
   "execution_count": null,
   "id": "3979292d-b921-48e4-805f-b0461d2254db",
   "metadata": {},
   "outputs": [],
   "source": [
    "b.ndim\n",
    "b"
   ]
  },
  {
   "cell_type": "code",
   "execution_count": null,
   "id": "99c4219b-b977-4a11-9561-405b6422f388",
   "metadata": {},
   "outputs": [],
   "source": [
    "np.ones((3,4))"
   ]
  },
  {
   "cell_type": "code",
   "execution_count": null,
   "id": "6556f1fa-49e9-4f2b-9f3e-5fa8bf8e308b",
   "metadata": {},
   "outputs": [],
   "source": [
    "#np.twos((5,4)) this doesn't exist only zero's and one's "
   ]
  },
  {
   "cell_type": "code",
   "execution_count": null,
   "id": "f1f07039-e6ab-42ec-a50f-a1f4678d3e80",
   "metadata": {},
   "outputs": [],
   "source": [
    "np.array([[2,2,2],[2,2,2]])"
   ]
  },
  {
   "cell_type": "code",
   "execution_count": null,
   "id": "6bcc263b-981e-41d6-8494-55e45e5b54b9",
   "metadata": {},
   "outputs": [],
   "source": [
    "arr=np.zeros((3,4))"
   ]
  },
  {
   "cell_type": "code",
   "execution_count": null,
   "id": "eeda3ba7-9612-46ba-a921-1c153f2adbad",
   "metadata": {},
   "outputs": [],
   "source": [
    "arr\n"
   ]
  },
  {
   "cell_type": "code",
   "execution_count": null,
   "id": "7e32df66-bc33-44f3-8c60-3a4a8d4f01a2",
   "metadata": {},
   "outputs": [],
   "source": [
    "arr.ndim"
   ]
  },
  {
   "cell_type": "code",
   "execution_count": null,
   "id": "42c3d541-e6c6-4e3d-ae72-e19b2b586d93",
   "metadata": {},
   "outputs": [],
   "source": [
    "#3 dimensional array\n",
    "np.zeros(1)"
   ]
  },
  {
   "cell_type": "code",
   "execution_count": null,
   "id": "0d5820e8-c2f2-4aa9-9045-d571c7fe5241",
   "metadata": {},
   "outputs": [],
   "source": [
    "np.zeros((2,3))"
   ]
  },
  {
   "cell_type": "code",
   "execution_count": null,
   "id": "c803d6cf-66c0-4b10-8911-117aa70bef6d",
   "metadata": {},
   "outputs": [],
   "source": [
    "arr = np.zeros((3,4))\n",
    "arr.ndim"
   ]
  },
  {
   "cell_type": "code",
   "execution_count": null,
   "id": "39a42b77-b2ba-4a57-bd92-a4a53edb6ce3",
   "metadata": {},
   "outputs": [],
   "source": [
    "arr = np.zeros((1,3,4))"
   ]
  },
  {
   "cell_type": "code",
   "execution_count": null,
   "id": "63fa9544-4b8a-4be1-b9aa-7e3793dc9762",
   "metadata": {},
   "outputs": [],
   "source": [
    "arr"
   ]
  },
  {
   "cell_type": "code",
   "execution_count": null,
   "id": "5cb16942-a75a-4a01-a089-e440bf1f0618",
   "metadata": {},
   "outputs": [],
   "source": [
    "arr.ndim"
   ]
  },
  {
   "cell_type": "code",
   "execution_count": null,
   "id": "f9fbff96-559f-44f4-93f6-eb79cfbf4b0f",
   "metadata": {},
   "outputs": [],
   "source": [
    "arr= np.zeros((1,1,3,4))\n",
    "arr"
   ]
  },
  {
   "cell_type": "code",
   "execution_count": null,
   "id": "051044de-3ebf-4bc2-992f-fad3f1dd11ad",
   "metadata": {},
   "outputs": [],
   "source": [
    "arr.ndim"
   ]
  },
  {
   "cell_type": "code",
   "execution_count": null,
   "id": "891d681e-fab9-41e1-a845-13d2f51df222",
   "metadata": {},
   "outputs": [],
   "source": [
    "arr= np.zeros((1,1,1,3,4))\n",
    "arr"
   ]
  },
  {
   "cell_type": "code",
   "execution_count": null,
   "id": "a9d792d0-8c6c-453b-a9c4-6f7796edf27d",
   "metadata": {},
   "outputs": [],
   "source": [
    "arr.ndim"
   ]
  },
  {
   "cell_type": "code",
   "execution_count": null,
   "id": "aa9739ca-7876-4573-9bac-5a81e3693e69",
   "metadata": {},
   "outputs": [],
   "source": [
    "arr"
   ]
  },
  {
   "cell_type": "code",
   "execution_count": null,
   "id": "1d831383-ae4d-4790-890a-dc140eac21dd",
   "metadata": {},
   "outputs": [],
   "source": [
    "arr= np.ones((3,4))"
   ]
  },
  {
   "cell_type": "code",
   "execution_count": null,
   "id": "f8e3fa52-f56f-4cb9-a52e-810fd8b561af",
   "metadata": {},
   "outputs": [],
   "source": [
    "arr.ndim"
   ]
  },
  {
   "cell_type": "code",
   "execution_count": null,
   "id": "76efedc6-3381-4808-8906-201a8048a647",
   "metadata": {},
   "outputs": [],
   "source": [
    "arr.shape"
   ]
  },
  {
   "cell_type": "code",
   "execution_count": null,
   "id": "e4cb6b46-dbc0-4143-9020-7adc2eb9a3f1",
   "metadata": {},
   "outputs": [],
   "source": [
    "arr"
   ]
  },
  {
   "cell_type": "code",
   "execution_count": null,
   "id": "5290d16a-2c8c-4be9-b7aa-9bc7597ec2ac",
   "metadata": {},
   "outputs": [],
   "source": [
    "arr + 5"
   ]
  },
  {
   "cell_type": "code",
   "execution_count": null,
   "id": "733b6d83-d652-4879-9941-56c7246a783d",
   "metadata": {},
   "outputs": [],
   "source": [
    "arr=arr * 5"
   ]
  },
  {
   "cell_type": "code",
   "execution_count": null,
   "id": "0762aead-8fc1-4422-9aae-d31aff788fb0",
   "metadata": {},
   "outputs": [],
   "source": [
    "arr -1"
   ]
  },
  {
   "cell_type": "code",
   "execution_count": null,
   "id": "a82551f5-4724-475b-b5e9-d158dd5bf67f",
   "metadata": {},
   "outputs": [],
   "source": [
    "np.eye(3)"
   ]
  },
  {
   "cell_type": "code",
   "execution_count": null,
   "id": "9abbad01-eded-4710-bb77-0a5d8e83d63a",
   "metadata": {},
   "outputs": [],
   "source": [
    "np.eye(3, dtype =int)"
   ]
  },
  {
   "cell_type": "code",
   "execution_count": null,
   "id": "88313314-64e3-488a-8889-2ae15902678c",
   "metadata": {},
   "outputs": [],
   "source": [
    "np.empty((3,4)) #Return a new array of given shape and type , without initializing entries "
   ]
  },
  {
   "cell_type": "code",
   "execution_count": null,
   "id": "64c07053-5a58-4aac-9201-b98ed0b44d5e",
   "metadata": {},
   "outputs": [],
   "source": [
    "#optional >> random module \n",
    "\n",
    "import random\n",
    "random.choice((1,2,3,4,5))\n",
    "\n"
   ]
  },
  {
   "cell_type": "code",
   "execution_count": null,
   "id": "eb11c4f0-ff88-4cab-9740-ef05ba954fd6",
   "metadata": {},
   "outputs": [],
   "source": [
    "random.randrange(1,10)"
   ]
  },
  {
   "cell_type": "code",
   "execution_count": null,
   "id": "2b21b1d4-f505-4afa-bdf9-8516afadc09f",
   "metadata": {},
   "outputs": [],
   "source": [
    "random.choice('Ajay')"
   ]
  },
  {
   "cell_type": "code",
   "execution_count": null,
   "id": "0fd03d43-f34f-44f9-82bf-28a506876ffa",
   "metadata": {},
   "outputs": [],
   "source": [
    "random.random() # a randdom no is generated between 0(included) and 1 (excluded)"
   ]
  },
  {
   "cell_type": "code",
   "execution_count": null,
   "id": "d59a3ed6-b176-4199-aa30-36a3331b649b",
   "metadata": {},
   "outputs": [],
   "source": [
    "lis=[1,2,3,4,5]\n",
    "lis"
   ]
  },
  {
   "cell_type": "code",
   "execution_count": null,
   "id": "6c5391e7-dc34-432e-9e67-bd48fbcb501d",
   "metadata": {},
   "outputs": [],
   "source": [
    "random.shuffle(lis)"
   ]
  },
  {
   "cell_type": "code",
   "execution_count": null,
   "id": "848d76c6-66de-464d-984b-b10c1be20f65",
   "metadata": {},
   "outputs": [],
   "source": [
    "lis\n"
   ]
  },
  {
   "cell_type": "code",
   "execution_count": null,
   "id": "5ca5fcf5-c826-44b3-b8bc-d003b50c30b4",
   "metadata": {},
   "outputs": [],
   "source": [
    "random.uniform(7,14)"
   ]
  },
  {
   "cell_type": "code",
   "execution_count": null,
   "id": "160fe985-2934-4f13-b0e7-d37b047c7a27",
   "metadata": {},
   "outputs": [],
   "source": [
    "#random numbers related concepts in numpy\n",
    "np.array([])"
   ]
  },
  {
   "cell_type": "code",
   "execution_count": null,
   "id": "6880c400-e0c4-4013-9cba-6c647661609b",
   "metadata": {},
   "outputs": [],
   "source": [
    "np.random.random_sample((5,))"
   ]
  },
  {
   "cell_type": "code",
   "execution_count": null,
   "id": "d7c4d61c-1b19-476d-b1c9-290e9bd80877",
   "metadata": {},
   "outputs": [],
   "source": [
    "np.random.rand(1)"
   ]
  },
  {
   "cell_type": "code",
   "execution_count": null,
   "id": "7f3b6183-7638-433a-8bc1-08473c6aff4c",
   "metadata": {},
   "outputs": [],
   "source": [
    "np.random.rand(2,3)"
   ]
  },
  {
   "cell_type": "code",
   "execution_count": null,
   "id": "a0e6df67-ecc6-4d76-8871-84bbd3ebb07e",
   "metadata": {},
   "outputs": [],
   "source": [
    "np.random.randn(2,3)"
   ]
  },
  {
   "cell_type": "code",
   "execution_count": null,
   "id": "73344134-823b-480d-a311-0fc27d6f5640",
   "metadata": {},
   "outputs": [],
   "source": [
    "arr = np.random.randint(1,5,size=(3,4))"
   ]
  },
  {
   "cell_type": "code",
   "execution_count": null,
   "id": "eb106f30-8b7f-47e2-be00-a392e0f302cf",
   "metadata": {},
   "outputs": [],
   "source": [
    "arr.ndim"
   ]
  },
  {
   "cell_type": "code",
   "execution_count": null,
   "id": "e03fc403-fa89-4613-a48b-813b320ef060",
   "metadata": {},
   "outputs": [],
   "source": [
    "arr.shape"
   ]
  },
  {
   "cell_type": "code",
   "execution_count": null,
   "id": "b7185f2e-1495-40c7-a15e-5b3f95b0895c",
   "metadata": {},
   "outputs": [],
   "source": [
    "arr.size "
   ]
  },
  {
   "cell_type": "code",
   "execution_count": null,
   "id": "c9331019-9b79-4ed1-9081-b625198b351b",
   "metadata": {},
   "outputs": [],
   "source": [
    "arr"
   ]
  },
  {
   "cell_type": "code",
   "execution_count": null,
   "id": "55a66e19-b08d-45dd-af6b-9b9fcbb39a31",
   "metadata": {},
   "outputs": [],
   "source": [
    "#reshaping the array\n",
    "\n",
    "arr1=arr.reshape(2,6)"
   ]
  },
  {
   "cell_type": "code",
   "execution_count": null,
   "id": "1e907899-dd22-4dff-ba7f-b1662e9767a9",
   "metadata": {},
   "outputs": [],
   "source": [
    "arr1.shape "
   ]
  },
  {
   "cell_type": "code",
   "execution_count": null,
   "id": "ad97fa25-bc47-4748-821c-63e03b9a9939",
   "metadata": {},
   "outputs": [],
   "source": [
    "arr1.size"
   ]
  },
  {
   "cell_type": "code",
   "execution_count": null,
   "id": "d2908f8a-7dd1-496e-95d1-5d8b957a5b4b",
   "metadata": {},
   "outputs": [],
   "source": [
    "arr"
   ]
  },
  {
   "cell_type": "code",
   "execution_count": null,
   "id": "7b2dc1db-41ec-4654-9c31-e1239cde46f0",
   "metadata": {},
   "outputs": [],
   "source": [
    "arr.size"
   ]
  },
  {
   "cell_type": "code",
   "execution_count": null,
   "id": "3f2b9ae4-6838-467a-923d-9f6c8f2eba33",
   "metadata": {},
   "outputs": [],
   "source": [
    "#array size will not change , always reshape parameter should be multiplication  of the original array size "
   ]
  },
  {
   "cell_type": "code",
   "execution_count": null,
   "id": "3160e8af-e374-411d-852d-88f7275f4e70",
   "metadata": {},
   "outputs": [],
   "source": [
    "arr"
   ]
  },
  {
   "cell_type": "code",
   "execution_count": null,
   "id": "2641f43d-795a-499c-8813-c3481af6c11b",
   "metadata": {},
   "outputs": [],
   "source": [
    "arr.size"
   ]
  },
  {
   "cell_type": "code",
   "execution_count": null,
   "id": "3c076284-c399-48f1-95d7-f666bf4fc9a7",
   "metadata": {},
   "outputs": [],
   "source": [
    "arr.reshape(2,6)  ## arr.reshape(2,5) will throw the error because the multiplication is not equal to 12 "
   ]
  },
  {
   "cell_type": "code",
   "execution_count": null,
   "id": "824dbac5-0502-4c49-92de-351f43c23736",
   "metadata": {},
   "outputs": [],
   "source": [
    "#case when you don't know in reshape what would be column count \n",
    "# give any negative value as the column count \n",
    "arr.reshape(4,-1)"
   ]
  },
  {
   "cell_type": "code",
   "execution_count": null,
   "id": "6e56c0ca-ba64-47e9-9924-f739231110e4",
   "metadata": {},
   "outputs": [],
   "source": [
    "arr.reshape(2,-1)"
   ]
  },
  {
   "cell_type": "code",
   "execution_count": null,
   "id": "f25747a7-c7c9-45d9-9120-dd45a7b026d9",
   "metadata": {},
   "outputs": [],
   "source": [
    "arr.reshape(2,-100)"
   ]
  },
  {
   "cell_type": "code",
   "execution_count": null,
   "id": "9980f739-9201-468d-8dc1-84051cafc420",
   "metadata": {},
   "outputs": [],
   "source": [
    "arr1 = arr.reshape(-1,3)#you know column count but no row count "
   ]
  },
  {
   "cell_type": "code",
   "execution_count": null,
   "id": "ec9c1a7c-ecdb-4d78-9780-c3753834828a",
   "metadata": {},
   "outputs": [],
   "source": [
    "arr1.size"
   ]
  },
  {
   "cell_type": "code",
   "execution_count": null,
   "id": "a37cc24f-4928-4d2d-857d-c5f98216e4fd",
   "metadata": {},
   "outputs": [],
   "source": [
    "arr.reshape(12,1)"
   ]
  },
  {
   "cell_type": "code",
   "execution_count": null,
   "id": "65f16a33-da8a-4e4a-8e64-e9919ad7b100",
   "metadata": {},
   "outputs": [],
   "source": [
    "arr.reshape(12,1).base #to see the original array"
   ]
  },
  {
   "cell_type": "code",
   "execution_count": null,
   "id": "7e445747-bd70-4f26-b514-fb28722609d6",
   "metadata": {},
   "outputs": [],
   "source": [
    "arr.reshape(2,2,3)  # means that two row and three column repeated three times "
   ]
  },
  {
   "cell_type": "code",
   "execution_count": null,
   "id": "e96b7f5e-c148-49cd-af40-0c7721261f4c",
   "metadata": {},
   "outputs": [],
   "source": [
    "arr.reshape(1,2,2,3).ndim"
   ]
  },
  {
   "cell_type": "code",
   "execution_count": null,
   "id": "b8d1df57-9752-4007-9684-3d109e1a10f7",
   "metadata": {},
   "outputs": [],
   "source": [
    "arr.reshape(4,3,1) #3 rows 1 column repeated 4 times in the third dimension"
   ]
  },
  {
   "cell_type": "code",
   "execution_count": null,
   "id": "f1b3ed9b-c75d-4b6d-9048-327dd52baf2d",
   "metadata": {},
   "outputs": [],
   "source": [
    "#conditions on array\n",
    "\n",
    "arr1 = np.random.randint(1,10,(5,6))"
   ]
  },
  {
   "cell_type": "raw",
   "id": "a6ed1314-d9f7-4c46-b690-516c41125181",
   "metadata": {},
   "source": [
    "arr1"
   ]
  },
  {
   "cell_type": "markdown",
   "id": "b3fde2c2-ca76-4285-9518-68d08b4fdb5e",
   "metadata": {},
   "source": [
    "arr1.shape"
   ]
  },
  {
   "cell_type": "code",
   "execution_count": null,
   "id": "00ab8007-5b48-4e75-9ddd-7bacfd5194e2",
   "metadata": {},
   "outputs": [],
   "source": [
    "arr1.shape"
   ]
  },
  {
   "cell_type": "code",
   "execution_count": null,
   "id": "2f402032-fbea-4ed3-8277-75246d261ff9",
   "metadata": {},
   "outputs": [],
   "source": [
    "arr1.ndim"
   ]
  },
  {
   "cell_type": "code",
   "execution_count": null,
   "id": "4618e98b-6d68-4683-9978-7ce8e0ef3504",
   "metadata": {},
   "outputs": [],
   "source": [
    "arr1.size "
   ]
  },
  {
   "cell_type": "code",
   "execution_count": null,
   "id": "001c68c8-cf46-42db-8834-6d744cb4f236",
   "metadata": {},
   "outputs": [],
   "source": [
    "arr1 > 3"
   ]
  },
  {
   "cell_type": "code",
   "execution_count": null,
   "id": "b24a0e55-242e-4c1d-a72f-da0f81a7eca2",
   "metadata": {},
   "outputs": [],
   "source": [
    "arr1"
   ]
  },
  {
   "cell_type": "code",
   "execution_count": null,
   "id": "162830fd-063f-450b-9df9-b25470c4bb47",
   "metadata": {},
   "outputs": [],
   "source": [
    "arr1[arr1>3]"
   ]
  },
  {
   "cell_type": "code",
   "execution_count": null,
   "id": "daf61893-8291-4141-b41c-b75de27e511a",
   "metadata": {},
   "outputs": [],
   "source": [
    "arr1[arr1<3]"
   ]
  },
  {
   "cell_type": "code",
   "execution_count": null,
   "id": "99e5955b-eb8e-4a50-829d-ac1545317853",
   "metadata": {},
   "outputs": [],
   "source": [
    "arr1"
   ]
  },
  {
   "cell_type": "code",
   "execution_count": null,
   "id": "59ebf3cf-a150-4a9d-924e-e48e4faf5598",
   "metadata": {},
   "outputs": [],
   "source": [
    "arr1[0]"
   ]
  },
  {
   "cell_type": "code",
   "execution_count": null,
   "id": "39f2fb25-0fe9-45fc-bea9-c4b9f7b9d6c5",
   "metadata": {},
   "outputs": [],
   "source": [
    "arr1[1]\n"
   ]
  },
  {
   "cell_type": "code",
   "execution_count": null,
   "id": "8e175e90-019a-419c-ac53-1d8ca8bb30dc",
   "metadata": {},
   "outputs": [],
   "source": [
    "arr1[1][0]"
   ]
  },
  {
   "cell_type": "code",
   "execution_count": null,
   "id": "01523d3a-fdf8-4d7e-ad86-1857fa23bd1d",
   "metadata": {},
   "outputs": [],
   "source": [
    "arr1"
   ]
  },
  {
   "cell_type": "code",
   "execution_count": null,
   "id": "033ce88c-d8d4-4874-829f-ccadee6b2768",
   "metadata": {},
   "outputs": [],
   "source": [
    "arr1[0:3]  #0th row , 1th row and 2nd row "
   ]
  },
  {
   "cell_type": "code",
   "execution_count": null,
   "id": "32719288-b352-4f01-9cb4-d30b7fdbce60",
   "metadata": {},
   "outputs": [],
   "source": [
    "arr1[0:3,[0,2]] #0 th, 1st row and  2nd column\n"
   ]
  },
  {
   "cell_type": "code",
   "execution_count": null,
   "id": "69d022ae-8c1a-4e2a-94d1-fec92239b2c5",
   "metadata": {},
   "outputs": [],
   "source": [
    "arr1[0:2,1:3]"
   ]
  },
  {
   "cell_type": "code",
   "execution_count": null,
   "id": "93b9be09-380b-4ca9-85d3-cc612184f630",
   "metadata": {},
   "outputs": [],
   "source": [
    "arr1[0:2 , [0,1]]"
   ]
  },
  {
   "cell_type": "code",
   "execution_count": null,
   "id": "17894aa0-6941-4f9a-9696-7cd9c94192a6",
   "metadata": {},
   "outputs": [],
   "source": [
    "arr1[0,[1,3]]"
   ]
  },
  {
   "cell_type": "code",
   "execution_count": null,
   "id": "40913b32-6816-4455-a77c-c8f1f9f0ca70",
   "metadata": {},
   "outputs": [],
   "source": [
    "arr[2:4, [0,3]]"
   ]
  },
  {
   "cell_type": "code",
   "execution_count": null,
   "id": "145239f2-db04-4718-b90a-2b16478957df",
   "metadata": {},
   "outputs": [],
   "source": [
    "arr1[2:5]"
   ]
  },
  {
   "cell_type": "code",
   "execution_count": null,
   "id": "cf67e302-c20b-48f1-bfec-26ae19a526e9",
   "metadata": {},
   "outputs": [],
   "source": [
    "arr1[2:5 , 0:2]"
   ]
  },
  {
   "cell_type": "code",
   "execution_count": null,
   "id": "12190911-63f5-459f-b3cb-4d792eb227ff",
   "metadata": {},
   "outputs": [],
   "source": [
    "#mathematical opertion of two arrays\n",
    "arr1 = np.random.randint(1,3,(3,3))\n",
    "arr2 = np.random.randint(1,3,(3,3))"
   ]
  },
  {
   "cell_type": "code",
   "execution_count": null,
   "id": "8302e5fa-28c0-4309-94fe-3af2f48063a6",
   "metadata": {},
   "outputs": [],
   "source": [
    "arr1"
   ]
  },
  {
   "cell_type": "code",
   "execution_count": null,
   "id": "b337263f-dccf-405e-a8dd-4d7936770ac1",
   "metadata": {},
   "outputs": [],
   "source": [
    "arr2"
   ]
  },
  {
   "cell_type": "code",
   "execution_count": null,
   "id": "bafc6229-95be-40f8-b5f9-90b2c643c6cf",
   "metadata": {},
   "outputs": [],
   "source": [
    "arr1+arr2   #indexwise element addition "
   ]
  },
  {
   "cell_type": "code",
   "execution_count": null,
   "id": "ff7f881d-76c3-4ff5-8756-fd14f0e2d6dd",
   "metadata": {},
   "outputs": [],
   "source": [
    "arr1-arr2  #inexwise element substraction"
   ]
  },
  {
   "cell_type": "code",
   "execution_count": null,
   "id": "b6100ac6-efe0-4c41-a38f-1a7dfca818ea",
   "metadata": {},
   "outputs": [],
   "source": [
    "arr1 * arr2 #index wise multiplication "
   ]
  },
  {
   "cell_type": "code",
   "execution_count": null,
   "id": "399ab789-a74a-45db-b572-357962fc9410",
   "metadata": {},
   "outputs": [],
   "source": [
    "arr1,arr2"
   ]
  },
  {
   "cell_type": "code",
   "execution_count": null,
   "id": "1a738535-a21c-424b-b6b2-9173aa99dfc5",
   "metadata": {},
   "outputs": [],
   "source": [
    "arr1/arr2"
   ]
  },
  {
   "cell_type": "code",
   "execution_count": null,
   "id": "7d259ded-c76f-4d56-b46f-9c21cbd08948",
   "metadata": {},
   "outputs": [],
   "source": [
    "arr1 /  0  #in python array  zero division will give error , but in numpy it will give infinite "
   ]
  },
  {
   "cell_type": "code",
   "execution_count": null,
   "id": "d6386c07-11a1-4227-9285-f7594fb397d3",
   "metadata": {},
   "outputs": [],
   "source": [
    "#matric multiplication >> different from index multiplication\n",
    "\n",
    "arr1 @ arr2  #first way to do matrix multiplication"
   ]
  },
  {
   "cell_type": "code",
   "execution_count": null,
   "id": "b1b97e6e-4dac-46b9-b8e8-a4003ecd1f18",
   "metadata": {},
   "outputs": [],
   "source": [
    "np.dot(arr1,arr2) #2nd method to do matrix multiplication"
   ]
  },
  {
   "cell_type": "code",
   "execution_count": null,
   "id": "eecd22fa-af07-4a9a-baf4-8e7a7f9bc0c1",
   "metadata": {},
   "outputs": [],
   "source": [
    "arr=np.zeros((3,4))"
   ]
  },
  {
   "cell_type": "code",
   "execution_count": null,
   "id": "9158bcd7-5861-4b94-a5a7-fb52fc5d0713",
   "metadata": {},
   "outputs": [],
   "source": [
    "arr + 5"
   ]
  },
  {
   "cell_type": "code",
   "execution_count": null,
   "id": "6f75fbb7-bd3c-4979-b2ef-248d54dfa1cf",
   "metadata": {},
   "outputs": [],
   "source": [
    "arr - 5"
   ]
  },
  {
   "cell_type": "code",
   "execution_count": null,
   "id": "de2f5586-3c81-49cc-8ea3-38a471d58fc5",
   "metadata": {},
   "outputs": [],
   "source": [
    "arr"
   ]
  },
  {
   "cell_type": "code",
   "execution_count": null,
   "id": "ac75b38b-176a-47fd-b7da-ceba10024edf",
   "metadata": {},
   "outputs": [],
   "source": [
    "a= np.array([1,2,3,4])"
   ]
  },
  {
   "cell_type": "code",
   "execution_count": null,
   "id": "58f2172f-0164-40d0-8eaf-173806b183e2",
   "metadata": {},
   "outputs": [],
   "source": [
    "a"
   ]
  },
  {
   "cell_type": "code",
   "execution_count": null,
   "id": "143295da-ae74-4cf7-9af4-2327c938ba4b",
   "metadata": {},
   "outputs": [],
   "source": [
    "a.ndim"
   ]
  },
  {
   "cell_type": "code",
   "execution_count": null,
   "id": "60804c35-d07a-4813-8924-382385578d28",
   "metadata": {},
   "outputs": [],
   "source": [
    "arr + a"
   ]
  },
  {
   "cell_type": "code",
   "execution_count": null,
   "id": "d0e4f85d-52fa-4497-8c86-6e77cd9a979a",
   "metadata": {},
   "outputs": [],
   "source": [
    "a= np.array([[1,2,3,4]])"
   ]
  },
  {
   "cell_type": "code",
   "execution_count": null,
   "id": "1847d2df-c55e-4459-8848-4c2b52c0fa56",
   "metadata": {},
   "outputs": [],
   "source": [
    "a"
   ]
  },
  {
   "cell_type": "code",
   "execution_count": null,
   "id": "8579b752-0323-4084-a02c-c4fa89750723",
   "metadata": {},
   "outputs": [],
   "source": [
    "#Transpose\n",
    "\n",
    "a.T"
   ]
  },
  {
   "cell_type": "code",
   "execution_count": null,
   "id": "4cc931fb-89f7-4421-b4c4-10cf94daf20e",
   "metadata": {},
   "outputs": [],
   "source": [
    "arr1"
   ]
  },
  {
   "cell_type": "code",
   "execution_count": null,
   "id": "78e37ca3-2f6f-4e28-94a9-7f112f9f7a0a",
   "metadata": {},
   "outputs": [],
   "source": [
    "arr1.T"
   ]
  },
  {
   "cell_type": "code",
   "execution_count": null,
   "id": "b2a46d08-8d04-4cdf-98c1-2c3cf8b1babb",
   "metadata": {},
   "outputs": [],
   "source": [
    "np.sqrt(arr1)"
   ]
  },
  {
   "cell_type": "code",
   "execution_count": null,
   "id": "245892d2-012c-4ca8-a820-2a02dfa0f32f",
   "metadata": {},
   "outputs": [],
   "source": [
    "np.log10(arr1)"
   ]
  },
  {
   "cell_type": "code",
   "execution_count": null,
   "id": "22698641-abad-4f5e-b30b-6635e4771287",
   "metadata": {},
   "outputs": [],
   "source": [
    "np.exp(arr1)"
   ]
  },
  {
   "cell_type": "code",
   "execution_count": null,
   "id": "d661a127-d915-457f-8654-76b6e8199948",
   "metadata": {},
   "outputs": [],
   "source": [
    "np.min(arr1)"
   ]
  },
  {
   "cell_type": "code",
   "execution_count": null,
   "id": "727c1722-a6fd-4d8b-9e20-b7cf608e84d4",
   "metadata": {},
   "outputs": [],
   "source": [
    "np.max(arr1)"
   ]
  },
  {
   "cell_type": "code",
   "execution_count": null,
   "id": "17292943-d2cc-43b9-b0bf-f32c25be00db",
   "metadata": {},
   "outputs": [],
   "source": [
    "#lecture 3 Numpy "
   ]
  },
  {
   "cell_type": "code",
   "execution_count": null,
   "id": "e87a29f9-5308-408c-9521-f33c844d881f",
   "metadata": {},
   "outputs": [],
   "source": [
    "arr1 = np.random.randint(1,3,(3,3))\n",
    "arr2 = np.random.randint(1,2,(3,3))"
   ]
  },
  {
   "cell_type": "code",
   "execution_count": null,
   "id": "276ce24b-75d7-42b5-beb4-f4aae7702874",
   "metadata": {},
   "outputs": [],
   "source": [
    "arr1"
   ]
  },
  {
   "cell_type": "code",
   "execution_count": null,
   "id": "66133360-d033-4da0-aaa2-91c8b5edc178",
   "metadata": {},
   "outputs": [],
   "source": [
    "arr1.flatten() # return a copy of the array  collapsed into one dimension."
   ]
  },
  {
   "cell_type": "code",
   "execution_count": null,
   "id": "778dfa6e-0003-4c39-98e8-cfa58a49f72f",
   "metadata": {},
   "outputs": [],
   "source": [
    "#expand dimension \n",
    "\n",
    "arr = np.array([1,2,3,4])\n",
    "arr"
   ]
  },
  {
   "cell_type": "code",
   "execution_count": null,
   "id": "aeaa44dc-4dae-42a8-8918-ebbdaf8ab009",
   "metadata": {},
   "outputs": [],
   "source": [
    "arr.ndim"
   ]
  },
  {
   "cell_type": "code",
   "execution_count": null,
   "id": "62cdf995-c62c-4364-ad22-2e921b41d2ed",
   "metadata": {},
   "outputs": [],
   "source": [
    "np.expand_dims(arr,axis=0) # increases the dimension by one at provided axis \n"
   ]
  },
  {
   "cell_type": "code",
   "execution_count": null,
   "id": "343ab88f-31f3-4ce7-af2f-9bfd7433f63a",
   "metadata": {},
   "outputs": [],
   "source": [
    "arr.ndim "
   ]
  },
  {
   "cell_type": "code",
   "execution_count": null,
   "id": "b00e0fa1-06a1-4d33-87b3-9e4b850a3135",
   "metadata": {},
   "outputs": [],
   "source": [
    "np.expand_dims(arr,axis=1)"
   ]
  },
  {
   "cell_type": "code",
   "execution_count": null,
   "id": "9facd013-1dab-40d4-9a6a-7ff94b4d52aa",
   "metadata": {},
   "outputs": [],
   "source": [
    "arr"
   ]
  },
  {
   "cell_type": "code",
   "execution_count": null,
   "id": "6f081c28-d247-4ba2-9736-f535e311a2af",
   "metadata": {},
   "outputs": [],
   "source": [
    "arr= np.zeros((3,4))"
   ]
  },
  {
   "cell_type": "code",
   "execution_count": null,
   "id": "3bb9043f-5b3f-43b4-9e45-b5a0b6ba4f23",
   "metadata": {},
   "outputs": [],
   "source": [
    "arr.ndim"
   ]
  },
  {
   "cell_type": "code",
   "execution_count": null,
   "id": "64c77b1f-7180-4c5e-9e9e-9cbf70efd0d6",
   "metadata": {},
   "outputs": [],
   "source": [
    "np.expand_dims(arr, axis=0) "
   ]
  },
  {
   "cell_type": "code",
   "execution_count": null,
   "id": "d7b19cf3-3c83-4922-acd3-527c02ae550b",
   "metadata": {},
   "outputs": [],
   "source": [
    "np.expand_dims(arr,axis=1)"
   ]
  },
  {
   "cell_type": "code",
   "execution_count": null,
   "id": "ad0ed48e-c7b5-444b-ba6c-21674a19c55a",
   "metadata": {},
   "outputs": [],
   "source": [
    "np.expand_dims(arr, axis=0).ndim"
   ]
  },
  {
   "cell_type": "code",
   "execution_count": null,
   "id": "6c43a1ae-bb97-4444-9a13-4705a1e37f05",
   "metadata": {},
   "outputs": [],
   "source": [
    "a= np.array([[1],[2],[3]])"
   ]
  },
  {
   "cell_type": "code",
   "execution_count": null,
   "id": "7a574d10-a1bc-4b8a-913b-af528e39eeca",
   "metadata": {},
   "outputs": [],
   "source": [
    "a"
   ]
  },
  {
   "cell_type": "code",
   "execution_count": null,
   "id": "e4ac0d3d-d5fa-4d75-8d24-e5342b14f6ed",
   "metadata": {},
   "outputs": [],
   "source": [
    "a.ndim"
   ]
  },
  {
   "cell_type": "code",
   "execution_count": null,
   "id": "59271eec-09a3-4a4c-b896-7fab110ec20b",
   "metadata": {},
   "outputs": [],
   "source": [
    "np.squeeze(a)  #remove  axes of length one from 'a' "
   ]
  },
  {
   "cell_type": "code",
   "execution_count": null,
   "id": "b48f9c99-3152-430b-b286-7c8637fe13ba",
   "metadata": {},
   "outputs": [],
   "source": [
    "a"
   ]
  },
  {
   "cell_type": "code",
   "execution_count": null,
   "id": "8dcbc06f-3c84-42d3-8814-6cf92b00f315",
   "metadata": {},
   "outputs": [],
   "source": [
    "np.repeat(a,4)"
   ]
  },
  {
   "cell_type": "code",
   "execution_count": null,
   "id": "c3ceabe5-d367-4e0b-97be-48d96b47dc71",
   "metadata": {},
   "outputs": [],
   "source": [
    "arr1"
   ]
  },
  {
   "cell_type": "code",
   "execution_count": null,
   "id": "98149f6c-c3f6-47dc-9c60-30e56eaeda50",
   "metadata": {},
   "outputs": [],
   "source": [
    "np.repeat(arr1,2)"
   ]
  },
  {
   "cell_type": "code",
   "execution_count": null,
   "id": "3404c4a3-a9c9-4128-a987-05d2a1a0720e",
   "metadata": {},
   "outputs": [],
   "source": [
    "np.repeat(arr1, 2, axis=0)"
   ]
  },
  {
   "cell_type": "code",
   "execution_count": null,
   "id": "da8d3277-7716-4006-ad8e-b1ce688cf623",
   "metadata": {},
   "outputs": [],
   "source": [
    "np.repeat(arr1,3,axis=0)"
   ]
  },
  {
   "cell_type": "code",
   "execution_count": null,
   "id": "a2f7106b-0131-45d1-9487-8404891c9793",
   "metadata": {},
   "outputs": [],
   "source": [
    "np.repeat(arr1,3,axis=1)"
   ]
  },
  {
   "cell_type": "code",
   "execution_count": null,
   "id": "3c36496c-d730-4b8d-9ed2-28f6ff6d08f3",
   "metadata": {},
   "outputs": [],
   "source": [
    "a"
   ]
  },
  {
   "cell_type": "code",
   "execution_count": null,
   "id": "16a6e90e-51ea-47ca-8d95-3314a297917e",
   "metadata": {},
   "outputs": [],
   "source": [
    "np.roll(a,-1)"
   ]
  },
  {
   "cell_type": "code",
   "execution_count": null,
   "id": "ee5b7d03-b144-4ccf-bea6-d2ab6645a814",
   "metadata": {},
   "outputs": [],
   "source": [
    "np.roll(a,-2)"
   ]
  },
  {
   "cell_type": "code",
   "execution_count": null,
   "id": "2d04f61a-9881-4066-bc1d-387d034bd68c",
   "metadata": {},
   "outputs": [],
   "source": [
    "c=np.array([[1,2],[3,4],[5,6],[7,8]])"
   ]
  },
  {
   "cell_type": "code",
   "execution_count": null,
   "id": "2e0e3d15-6c60-43b5-abc6-35fd117e032b",
   "metadata": {},
   "outputs": [],
   "source": [
    "c"
   ]
  },
  {
   "cell_type": "code",
   "execution_count": null,
   "id": "390338d1-7740-46be-b0a1-9dba3214b404",
   "metadata": {},
   "outputs": [],
   "source": [
    "np.roll(c,-2)"
   ]
  },
  {
   "cell_type": "code",
   "execution_count": null,
   "id": "0b03880b-c5e3-4b85-ab80-c65922455a40",
   "metadata": {},
   "outputs": [],
   "source": [
    "np.roll(c,2)   #here there is only one rolling as their is 2 dimension that outer one will take one and inner onnw will take the other"
   ]
  },
  {
   "cell_type": "code",
   "execution_count": null,
   "id": "47f52b74-0ea3-4384-b086-d1f76bd908e3",
   "metadata": {},
   "outputs": [],
   "source": [
    "np.roll(c,2,axis=0)  #here by providing the axis will result it will rotate as many time as it is passed "
   ]
  },
  {
   "cell_type": "code",
   "execution_count": null,
   "id": "32192d0b-e984-4004-95ec-5835233f8e35",
   "metadata": {},
   "outputs": [],
   "source": [
    "arr1+arr2 "
   ]
  },
  {
   "cell_type": "code",
   "execution_count": null,
   "id": "8ac8bb0f-9dc2-49c7-867c-73424758cb51",
   "metadata": {},
   "outputs": [],
   "source": [
    "arr1-arr2"
   ]
  },
  {
   "cell_type": "code",
   "execution_count": null,
   "id": "a95c46ca-ec0c-44c1-8f9a-e66094e5957b",
   "metadata": {},
   "outputs": [],
   "source": [
    "arr1 * arr2 "
   ]
  },
  {
   "cell_type": "code",
   "execution_count": null,
   "id": "b9064e32-e0c8-40e0-9ea7-f9edfdcb09b4",
   "metadata": {},
   "outputs": [],
   "source": [
    "arr1 > arr2 "
   ]
  },
  {
   "cell_type": "code",
   "execution_count": null,
   "id": "481d1d0a-60f7-496a-ba4c-219bf8af7cbc",
   "metadata": {},
   "outputs": [],
   "source": [
    "arr1"
   ]
  },
  {
   "cell_type": "code",
   "execution_count": null,
   "id": "59346638-b336-4003-a35b-4a0063c12237",
   "metadata": {},
   "outputs": [],
   "source": [
    "~arr1"
   ]
  },
  {
   "cell_type": "code",
   "execution_count": null,
   "id": "b06003e7-e329-4bd6-84bc-510fadb07889",
   "metadata": {},
   "outputs": [],
   "source": [
    "#operations on numpy string array"
   ]
  },
  {
   "cell_type": "code",
   "execution_count": null,
   "id": "291962df-5f5a-4e23-8b0b-4ec82e3ccdaf",
   "metadata": {},
   "outputs": [],
   "source": [
    "d=np.array([\"pw\",\"skills\"])"
   ]
  },
  {
   "cell_type": "code",
   "execution_count": null,
   "id": "3fa6c8fa-854a-49ed-ac57-1ed4fad24d80",
   "metadata": {},
   "outputs": [],
   "source": [
    "d"
   ]
  },
  {
   "cell_type": "code",
   "execution_count": null,
   "id": "748760e6-d6aa-4b97-833d-109f30ff76c5",
   "metadata": {},
   "outputs": [],
   "source": [
    "np.char.upper(d)"
   ]
  },
  {
   "cell_type": "code",
   "execution_count": null,
   "id": "921722bc-9e4e-496d-8b4a-9a5a593692a4",
   "metadata": {},
   "outputs": [],
   "source": [
    "np.char.capitalize(d)"
   ]
  },
  {
   "cell_type": "code",
   "execution_count": null,
   "id": "5be4080e-1ba4-4d05-9ca0-1c29ad370b48",
   "metadata": {},
   "outputs": [],
   "source": [
    "#mathematical functions "
   ]
  },
  {
   "cell_type": "code",
   "execution_count": null,
   "id": "366925d3-1fa8-4140-938b-cef2b7bf4993",
   "metadata": {},
   "outputs": [],
   "source": [
    "arr1"
   ]
  },
  {
   "cell_type": "code",
   "execution_count": null,
   "id": "0fb57cb5-a2b2-416c-803a-35cc29daeb33",
   "metadata": {},
   "outputs": [],
   "source": [
    "arr2"
   ]
  },
  {
   "cell_type": "code",
   "execution_count": null,
   "id": "7bf96775-2992-4822-85e7-cb431f40ab83",
   "metadata": {},
   "outputs": [],
   "source": [
    "arr1+arr2"
   ]
  },
  {
   "cell_type": "code",
   "execution_count": null,
   "id": "7c5a68a5-187d-41c4-8a49-0d46176fc0a7",
   "metadata": {},
   "outputs": [],
   "source": [
    "arr1-arr2"
   ]
  },
  {
   "cell_type": "code",
   "execution_count": null,
   "id": "341277c0-3668-43fe-a0cc-4ad046b8128b",
   "metadata": {},
   "outputs": [],
   "source": [
    "arr1 * arr2"
   ]
  },
  {
   "cell_type": "code",
   "execution_count": null,
   "id": "07188c00-bd44-499c-b395-d4cbcfcdf357",
   "metadata": {},
   "outputs": [],
   "source": [
    "arr1 > arr2 "
   ]
  },
  {
   "cell_type": "code",
   "execution_count": null,
   "id": "52f4e0f9-354c-452a-bfbb-638522152583",
   "metadata": {},
   "outputs": [],
   "source": [
    "arr1"
   ]
  },
  {
   "cell_type": "code",
   "execution_count": null,
   "id": "8229027e-2c37-4c69-843a-a682d1d4c7b2",
   "metadata": {},
   "outputs": [],
   "source": [
    "~arr1"
   ]
  },
  {
   "cell_type": "code",
   "execution_count": null,
   "id": "8cb0e6b5-e66b-4171-86d7-a4bcccd1e670",
   "metadata": {},
   "outputs": [],
   "source": [
    "#operation  on numpy string array"
   ]
  },
  {
   "cell_type": "code",
   "execution_count": null,
   "id": "62cf99ee-98d7-49da-90bc-cb6ff8c77e69",
   "metadata": {},
   "outputs": [],
   "source": [
    "np.array([\"pw\",\"skills\"])"
   ]
  },
  {
   "cell_type": "code",
   "execution_count": null,
   "id": "9a5d090f-2557-40c0-9b4f-c3dc4d2d8aaa",
   "metadata": {},
   "outputs": [],
   "source": [
    "np.char.upper(d)"
   ]
  },
  {
   "cell_type": "code",
   "execution_count": null,
   "id": "95882bf6-685b-4b81-b6fb-d05e78ce5676",
   "metadata": {},
   "outputs": [],
   "source": [
    "np.char.capitalize(d)"
   ]
  },
  {
   "cell_type": "code",
   "execution_count": null,
   "id": "db39d013-b5d5-434b-b559-2014c5579b1d",
   "metadata": {},
   "outputs": [],
   "source": [
    "#mathematical function"
   ]
  },
  {
   "cell_type": "code",
   "execution_count": null,
   "id": "09b01771-7e31-4b9f-9e6d-ce59d7b71f54",
   "metadata": {},
   "outputs": [],
   "source": [
    "arr1"
   ]
  },
  {
   "cell_type": "code",
   "execution_count": null,
   "id": "e09b7295-2ebc-4cc5-a3c2-411cf7209dbf",
   "metadata": {},
   "outputs": [],
   "source": [
    "np.sin(arr1)"
   ]
  },
  {
   "cell_type": "code",
   "execution_count": null,
   "id": "9be9dd0a-b626-47e5-8e9c-3967b66ffa65",
   "metadata": {},
   "outputs": [],
   "source": [
    "np.cos(arr1)"
   ]
  },
  {
   "cell_type": "code",
   "execution_count": null,
   "id": "7e9d7776-2b14-494e-ba7c-92354720304c",
   "metadata": {},
   "outputs": [],
   "source": [
    "np.tan(arr1)"
   ]
  },
  {
   "cell_type": "code",
   "execution_count": null,
   "id": "da65e0c5-180b-4d41-8dd5-b74f1b808822",
   "metadata": {},
   "outputs": [],
   "source": [
    "np.log10(arr1)"
   ]
  },
  {
   "cell_type": "code",
   "execution_count": 346,
   "id": "385edb67-eac0-469a-bb81-7ae863755220",
   "metadata": {},
   "outputs": [
    {
     "data": {
      "text/plain": [
       "array([[  2.71828183,   7.3890561 ,  20.08553692],\n",
       "       [ 54.59815003, 148.4131591 , 403.42879349]])"
      ]
     },
     "execution_count": 346,
     "metadata": {},
     "output_type": "execute_result"
    }
   ],
   "source": [
    "np.exp(arr1)"
   ]
  },
  {
   "cell_type": "code",
   "execution_count": 347,
   "id": "a3ec434c-250b-4e48-8831-6b347a7d588e",
   "metadata": {},
   "outputs": [
    {
     "data": {
      "text/plain": [
       "array([[  1,   8,  27],\n",
       "       [ 64, 125, 216]])"
      ]
     },
     "execution_count": 347,
     "metadata": {},
     "output_type": "execute_result"
    }
   ],
   "source": [
    "np.power(arr1, 3)"
   ]
  },
  {
   "cell_type": "code",
   "execution_count": 348,
   "id": "7220b17b-b969-489c-87cd-1b7c2c54e030",
   "metadata": {},
   "outputs": [
    {
     "data": {
      "text/plain": [
       "np.float64(3.5)"
      ]
     },
     "execution_count": 348,
     "metadata": {},
     "output_type": "execute_result"
    }
   ],
   "source": [
    "np.mean(arr1)"
   ]
  },
  {
   "cell_type": "code",
   "execution_count": 349,
   "id": "11d44c9b-9efd-4266-b6e3-24c8ec9d27b8",
   "metadata": {},
   "outputs": [
    {
     "data": {
      "text/plain": [
       "np.int64(6)"
      ]
     },
     "execution_count": 349,
     "metadata": {},
     "output_type": "execute_result"
    }
   ],
   "source": [
    "np.max(arr1)"
   ]
  },
  {
   "cell_type": "code",
   "execution_count": 350,
   "id": "ae44e2db-813e-4778-ad2b-0a44b5942ac9",
   "metadata": {},
   "outputs": [
    {
     "data": {
      "text/plain": [
       "np.int64(1)"
      ]
     },
     "execution_count": 350,
     "metadata": {},
     "output_type": "execute_result"
    }
   ],
   "source": [
    "np.min(arr1)"
   ]
  },
  {
   "cell_type": "code",
   "execution_count": 351,
   "id": "f0aa484e-9a2d-4373-b0da-25d9771c58b0",
   "metadata": {},
   "outputs": [
    {
     "data": {
      "text/plain": [
       "np.float64(1.707825127659933)"
      ]
     },
     "execution_count": 351,
     "metadata": {},
     "output_type": "execute_result"
    }
   ],
   "source": [
    "np.std(arr1)"
   ]
  },
  {
   "cell_type": "code",
   "execution_count": 352,
   "id": "554ab0a8-46d2-4fb5-be45-9c70d784f7bb",
   "metadata": {},
   "outputs": [
    {
     "data": {
      "text/plain": [
       "np.float64(2.9166666666666665)"
      ]
     },
     "execution_count": 352,
     "metadata": {},
     "output_type": "execute_result"
    }
   ],
   "source": [
    "np.var(arr1)"
   ]
  },
  {
   "cell_type": "code",
   "execution_count": 353,
   "id": "d7a92db4-4f03-4c5e-b99b-e1f88f133fa3",
   "metadata": {},
   "outputs": [
    {
     "ename": "ValueError",
     "evalue": "operands could not be broadcast together with shapes (2,3) (3,3) ",
     "output_type": "error",
     "traceback": [
      "\u001b[1;31m---------------------------------------------------------------------------\u001b[0m",
      "\u001b[1;31mValueError\u001b[0m                                Traceback (most recent call last)",
      "Cell \u001b[1;32mIn[353], line 1\u001b[0m\n\u001b[1;32m----> 1\u001b[0m \u001b[43marr1\u001b[49m\u001b[38;5;241;43m-\u001b[39;49m\u001b[43marr2\u001b[49m\n",
      "\u001b[1;31mValueError\u001b[0m: operands could not be broadcast together with shapes (2,3) (3,3) "
     ]
    }
   ],
   "source": [
    "arr1-arr2"
   ]
  },
  {
   "cell_type": "code",
   "execution_count": null,
   "id": "33977d78-a1b3-436f-b3bf-4b25568f4bff",
   "metadata": {},
   "outputs": [],
   "source": [
    "np.subtract(arr1, arr2 )"
   ]
  },
  {
   "cell_type": "code",
   "execution_count": null,
   "id": "86e26e03-8a7c-4046-97d8-871f427f3d89",
   "metadata": {},
   "outputs": [],
   "source": [
    "arr1*arr2"
   ]
  },
  {
   "cell_type": "code",
   "execution_count": null,
   "id": "781b1de6-0509-4f25-98fe-eb7bbb11087b",
   "metadata": {},
   "outputs": [],
   "source": [
    "np.multiply(arr1,arr2 )"
   ]
  },
  {
   "cell_type": "code",
   "execution_count": null,
   "id": "b47c77d2-71d5-436e-af7a-37b764217f78",
   "metadata": {},
   "outputs": [],
   "source": [
    "np.mod(arr1,arr2)"
   ]
  },
  {
   "cell_type": "code",
   "execution_count": null,
   "id": "fadc2fb6-69d7-4738-940a-c33883563ddf",
   "metadata": {},
   "outputs": [],
   "source": [
    "np.sqrt(arr1) "
   ]
  },
  {
   "cell_type": "code",
   "execution_count": null,
   "id": "2b163277-3f2f-48e7-9d84-5a55a13ed71a",
   "metadata": {},
   "outputs": [],
   "source": [
    "#sort search\n",
    "e = np.array([5,6,1,2])"
   ]
  },
  {
   "cell_type": "code",
   "execution_count": null,
   "id": "ccfbe899-7d5f-4997-9121-c79be95aee59",
   "metadata": {},
   "outputs": [],
   "source": [
    "e"
   ]
  },
  {
   "cell_type": "code",
   "execution_count": null,
   "id": "ed7d3b8c-ff60-4eca-bad8-878534436e7c",
   "metadata": {},
   "outputs": [],
   "source": [
    "np.sort(e)"
   ]
  },
  {
   "cell_type": "code",
   "execution_count": null,
   "id": "83818505-e10b-49b0-a883-c8fc08093c1e",
   "metadata": {},
   "outputs": [],
   "source": [
    "f= np.array([5,199,200,6,7,8])"
   ]
  },
  {
   "cell_type": "code",
   "execution_count": null,
   "id": "a52de317-da8d-4888-9d33-0cf284fe59b5",
   "metadata": {},
   "outputs": [],
   "source": [
    "f"
   ]
  },
  {
   "cell_type": "code",
   "execution_count": null,
   "id": "aa8e193e-0c26-410f-9644-124520c80b05",
   "metadata": {},
   "outputs": [],
   "source": [
    "np.sort(f)"
   ]
  },
  {
   "cell_type": "code",
   "execution_count": null,
   "id": "4ec119fc-2d94-4bb5-a195-537698400ffd",
   "metadata": {},
   "outputs": [],
   "source": [
    "np.searchsorted(f,170) #find indices where the elements should be inserted to maintain order "
   ]
  },
  {
   "cell_type": "code",
   "execution_count": null,
   "id": "276e1635-37b0-4671-aa88-1e3e0b6933e3",
   "metadata": {},
   "outputs": [],
   "source": [
    "arr1"
   ]
  },
  {
   "cell_type": "code",
   "execution_count": null,
   "id": "84160df3-c0df-4ce8-99d7-1ec6550ffa15",
   "metadata": {},
   "outputs": [],
   "source": [
    "f= np.array([5,199,200,6,7,0,0,0,8])"
   ]
  },
  {
   "cell_type": "code",
   "execution_count": null,
   "id": "5470c35b-8d90-4215-8f9c-3dd6b6ee6959",
   "metadata": {},
   "outputs": [],
   "source": [
    "f"
   ]
  },
  {
   "cell_type": "code",
   "execution_count": null,
   "id": "ff393dc7-2182-4d2d-9ffc-1bd2f65a3435",
   "metadata": {},
   "outputs": [],
   "source": [
    "np.count_nonzero(f)"
   ]
  },
  {
   "cell_type": "code",
   "execution_count": null,
   "id": "5224c823-a8ba-4f0a-b744-abd5758d85ff",
   "metadata": {},
   "outputs": [],
   "source": [
    "f[f>0]"
   ]
  },
  {
   "cell_type": "code",
   "execution_count": null,
   "id": "9da9acfa-5853-40bf-a3c1-e4ee877737ac",
   "metadata": {},
   "outputs": [],
   "source": [
    "np.where(f>0)"
   ]
  },
  {
   "cell_type": "code",
   "execution_count": null,
   "id": "0abddd01-0e2b-4511-a565-74dc9fe58c98",
   "metadata": {},
   "outputs": [],
   "source": [
    "np.extract(f>0,f) "
   ]
  },
  {
   "cell_type": "code",
   "execution_count": null,
   "id": "52402883-71b8-452b-8cbd-4f18e21bd1c9",
   "metadata": {},
   "outputs": [],
   "source": [
    "f.byteswap()\n"
   ]
  },
  {
   "cell_type": "code",
   "execution_count": null,
   "id": "fbd56324-f4da-4930-9fd7-06796846edd2",
   "metadata": {},
   "outputs": [],
   "source": [
    "#matrix >> 2d  array we can explicitly work with the matrix "
   ]
  },
  {
   "cell_type": "code",
   "execution_count": null,
   "id": "a8328e03-202e-4fc4-93b9-e5efe1de9023",
   "metadata": {},
   "outputs": [],
   "source": [
    "import numpy.matlib as nm"
   ]
  },
  {
   "cell_type": "code",
   "execution_count": null,
   "id": "eeab3f0c-95e8-4f9e-90c3-43bca9231492",
   "metadata": {},
   "outputs": [],
   "source": [
    "nm.zeros(5)"
   ]
  },
  {
   "cell_type": "code",
   "execution_count": null,
   "id": "19c7f79e-b227-48ac-9962-891410d123bf",
   "metadata": {},
   "outputs": [],
   "source": [
    "nm.ones((3,4))"
   ]
  },
  {
   "cell_type": "code",
   "execution_count": null,
   "id": "382919f7-108f-415c-b45d-868d5784e52c",
   "metadata": {},
   "outputs": [],
   "source": [
    "#numpy linear algebra \n",
    "\n",
    "arr1 = np.random.randint(1,10,(3,3))\n",
    "arr2 = np.random.randint(1,10,(3,3))"
   ]
  },
  {
   "cell_type": "code",
   "execution_count": null,
   "id": "15977972-b548-4e15-a2f5-46ccfe421be8",
   "metadata": {},
   "outputs": [],
   "source": [
    "arr1"
   ]
  },
  {
   "cell_type": "code",
   "execution_count": null,
   "id": "d04c73e9-9896-4c42-adb3-59f60f7fb7bf",
   "metadata": {},
   "outputs": [],
   "source": [
    "arr2"
   ]
  },
  {
   "cell_type": "code",
   "execution_count": null,
   "id": "52067cd4-b0bd-4875-8064-775c48ff2312",
   "metadata": {},
   "outputs": [],
   "source": [
    "arr1 @ arr2  # matrix multiplication"
   ]
  },
  {
   "cell_type": "code",
   "execution_count": null,
   "id": "26cdf950-f0c3-4e5e-877d-932009d41972",
   "metadata": {},
   "outputs": [],
   "source": [
    "#determinant of the matrix \n",
    "np.linalg.det(arr1)"
   ]
  },
  {
   "cell_type": "code",
   "execution_count": null,
   "id": "9e9c72ab-b66c-41a1-bf02-8efc7b2863c9",
   "metadata": {},
   "outputs": [],
   "source": [
    "np.linalg.inv(arr1)"
   ]
  },
  {
   "cell_type": "code",
   "execution_count": null,
   "id": "aac44eb8-5e56-45a9-bf90-f6036ad7ce7f",
   "metadata": {},
   "outputs": [],
   "source": [
    "#solving of linear equation in there  variable / two varaible using determinant "
   ]
  },
  {
   "cell_type": "code",
   "execution_count": null,
   "id": "5e32d77d-2377-4ac6-9406-d511759d1c09",
   "metadata": {},
   "outputs": [],
   "source": [
    "a= np.array([[7,5.3,-3],[3,-5,2],[5,3,-7]])"
   ]
  },
  {
   "cell_type": "code",
   "execution_count": null,
   "id": "5707e98a-3174-41f3-bfde-3134f933b74d",
   "metadata": {},
   "outputs": [],
   "source": [
    "a"
   ]
  },
  {
   "cell_type": "code",
   "execution_count": null,
   "id": "af9addbd-0c45-4fee-af52-7fa9510dfd19",
   "metadata": {},
   "outputs": [],
   "source": [
    "b=np.array([16,8,0])"
   ]
  },
  {
   "cell_type": "code",
   "execution_count": null,
   "id": "1df583a9-7d04-40ed-9aaa-f30109b55497",
   "metadata": {},
   "outputs": [],
   "source": [
    "b  # values at rhs side of the equation \n"
   ]
  },
  {
   "cell_type": "code",
   "execution_count": null,
   "id": "8e07b909-be42-488a-a456-a1b317193f28",
   "metadata": {},
   "outputs": [],
   "source": [
    "np.linalg.solve(a,b)  "
   ]
  },
  {
   "cell_type": "code",
   "execution_count": null,
   "id": "191d367a-508e-4d69-be35-8a9882fb30ff",
   "metadata": {},
   "outputs": [],
   "source": []
  },
  {
   "cell_type": "code",
   "execution_count": null,
   "id": "9a13bcb4-5868-4635-b9b3-12344c6022c7",
   "metadata": {},
   "outputs": [],
   "source": []
  },
  {
   "cell_type": "code",
   "execution_count": null,
   "id": "c7aba8f9-e4e1-4cea-847f-76dd9b5d0247",
   "metadata": {},
   "outputs": [],
   "source": []
  },
  {
   "cell_type": "code",
   "execution_count": null,
   "id": "50bc7c5e-f41f-4d19-808c-bace69075035",
   "metadata": {},
   "outputs": [],
   "source": []
  },
  {
   "cell_type": "code",
   "execution_count": null,
   "id": "71e517a0-877e-4881-a0cf-ebd9cb2efb52",
   "metadata": {},
   "outputs": [],
   "source": []
  },
  {
   "cell_type": "code",
   "execution_count": null,
   "id": "d0d3af69-fe3b-4b6f-a483-dcd87a622aa0",
   "metadata": {},
   "outputs": [],
   "source": []
  },
  {
   "cell_type": "code",
   "execution_count": null,
   "id": "2d1b6d60-4541-495a-8641-a343c3292439",
   "metadata": {},
   "outputs": [],
   "source": []
  },
  {
   "cell_type": "code",
   "execution_count": null,
   "id": "de1d35e6-e877-49ed-a834-8a012b6aa396",
   "metadata": {},
   "outputs": [],
   "source": []
  },
  {
   "cell_type": "code",
   "execution_count": null,
   "id": "4567bc13-6c5f-40d3-9684-1e9d040ee937",
   "metadata": {},
   "outputs": [],
   "source": []
  },
  {
   "cell_type": "code",
   "execution_count": null,
   "id": "b585ebfc-058c-4e6d-9bbf-55b202d0986a",
   "metadata": {},
   "outputs": [],
   "source": []
  },
  {
   "cell_type": "code",
   "execution_count": null,
   "id": "8fc9e541-d4ee-43ff-a8b8-749b1d5355d4",
   "metadata": {},
   "outputs": [],
   "source": []
  },
  {
   "cell_type": "code",
   "execution_count": null,
   "id": "0ece50e9-99e4-43ba-840e-b078692def30",
   "metadata": {},
   "outputs": [],
   "source": []
  },
  {
   "cell_type": "code",
   "execution_count": null,
   "id": "016367ba-b25e-4390-847d-c14bc73f1756",
   "metadata": {},
   "outputs": [],
   "source": []
  },
  {
   "cell_type": "code",
   "execution_count": null,
   "id": "6d49a129-1a44-4ac2-8428-bf89a4c5a1b6",
   "metadata": {},
   "outputs": [],
   "source": []
  },
  {
   "cell_type": "code",
   "execution_count": null,
   "id": "7140dc4b-d456-400f-9c2c-b4249404e5a7",
   "metadata": {},
   "outputs": [],
   "source": []
  },
  {
   "cell_type": "code",
   "execution_count": null,
   "id": "278a63b5-27ad-42b1-b6b0-e8edf0c277f7",
   "metadata": {},
   "outputs": [],
   "source": []
  },
  {
   "cell_type": "code",
   "execution_count": null,
   "id": "d02ca1eb-edaf-457d-b901-3a0fd1e654bf",
   "metadata": {},
   "outputs": [],
   "source": []
  },
  {
   "cell_type": "code",
   "execution_count": null,
   "id": "7ffefe97-e4fd-455e-9fd6-4dfccf890209",
   "metadata": {},
   "outputs": [],
   "source": []
  },
  {
   "cell_type": "code",
   "execution_count": null,
   "id": "70b68fa9-9340-42a9-bd9b-3e1cc47c608f",
   "metadata": {},
   "outputs": [],
   "source": []
  },
  {
   "cell_type": "code",
   "execution_count": null,
   "id": "a7c4af51-6208-4b94-822d-6db15f0d7e5a",
   "metadata": {},
   "outputs": [],
   "source": []
  },
  {
   "cell_type": "code",
   "execution_count": null,
   "id": "e4620dc6-c11b-4c64-ac1e-770d21112926",
   "metadata": {},
   "outputs": [],
   "source": []
  },
  {
   "cell_type": "code",
   "execution_count": null,
   "id": "b9438f3b-3bcf-47fe-855e-7e711f99eb3e",
   "metadata": {},
   "outputs": [],
   "source": []
  },
  {
   "cell_type": "code",
   "execution_count": null,
   "id": "728d4838-6e7d-4b37-8592-479ced3e941a",
   "metadata": {},
   "outputs": [],
   "source": []
  },
  {
   "cell_type": "code",
   "execution_count": null,
   "id": "ce1430f4-2ef6-4ae7-ab49-c0e89bcc994d",
   "metadata": {},
   "outputs": [],
   "source": []
  },
  {
   "cell_type": "code",
   "execution_count": null,
   "id": "37ce69b0-7a23-4928-928c-3909cbc9f78c",
   "metadata": {},
   "outputs": [],
   "source": []
  },
  {
   "cell_type": "code",
   "execution_count": null,
   "id": "a173c251-7e83-471e-a46b-d77a669d0f00",
   "metadata": {},
   "outputs": [],
   "source": []
  },
  {
   "cell_type": "code",
   "execution_count": null,
   "id": "cd755b34-c7eb-4242-a102-3e72bd6dc729",
   "metadata": {},
   "outputs": [],
   "source": []
  },
  {
   "cell_type": "code",
   "execution_count": null,
   "id": "e4332bea-c60e-4fe8-b19b-2e8c406289ff",
   "metadata": {},
   "outputs": [],
   "source": []
  },
  {
   "cell_type": "code",
   "execution_count": null,
   "id": "58b12de9-73f9-4141-9e41-eb42933668e8",
   "metadata": {},
   "outputs": [],
   "source": []
  },
  {
   "cell_type": "code",
   "execution_count": null,
   "id": "3601e853-f911-4918-b217-d1c318f71076",
   "metadata": {},
   "outputs": [],
   "source": []
  },
  {
   "cell_type": "code",
   "execution_count": null,
   "id": "4badaa1f-44b0-4932-8693-fe07d4d23a8a",
   "metadata": {},
   "outputs": [],
   "source": []
  },
  {
   "cell_type": "code",
   "execution_count": null,
   "id": "5b41fddb-aef7-4180-af11-58370404b580",
   "metadata": {},
   "outputs": [],
   "source": []
  },
  {
   "cell_type": "code",
   "execution_count": null,
   "id": "7e39e458-18ac-40a7-a3a8-51c33958c3e6",
   "metadata": {},
   "outputs": [],
   "source": []
  },
  {
   "cell_type": "code",
   "execution_count": null,
   "id": "eaa4969f-19ef-45b3-b881-23e0a22bcf78",
   "metadata": {},
   "outputs": [],
   "source": []
  },
  {
   "cell_type": "code",
   "execution_count": null,
   "id": "4e0d6cd5-3150-452d-a780-cbc6d987b560",
   "metadata": {},
   "outputs": [],
   "source": []
  },
  {
   "cell_type": "code",
   "execution_count": null,
   "id": "834dcc50-dedb-429c-acb7-5aa4fa26828c",
   "metadata": {},
   "outputs": [],
   "source": []
  },
  {
   "cell_type": "code",
   "execution_count": null,
   "id": "3a9eb742-5e0b-4c54-a739-fe094722253d",
   "metadata": {},
   "outputs": [],
   "source": []
  },
  {
   "cell_type": "code",
   "execution_count": null,
   "id": "990cd102-a20b-4134-943e-cddad3fead0f",
   "metadata": {},
   "outputs": [],
   "source": []
  },
  {
   "cell_type": "code",
   "execution_count": null,
   "id": "b28ccdd7-e013-4b1e-ab14-a0407893d39b",
   "metadata": {},
   "outputs": [],
   "source": []
  },
  {
   "cell_type": "code",
   "execution_count": null,
   "id": "21dc9081-835d-4f22-a1c4-676322b3e811",
   "metadata": {},
   "outputs": [],
   "source": []
  },
  {
   "cell_type": "code",
   "execution_count": null,
   "id": "b26aa5e6-2f94-4696-926a-965a9dd44eaa",
   "metadata": {},
   "outputs": [],
   "source": []
  },
  {
   "cell_type": "code",
   "execution_count": null,
   "id": "0d56ed56-34fd-4c48-a254-640bc2cbd135",
   "metadata": {},
   "outputs": [],
   "source": []
  },
  {
   "cell_type": "code",
   "execution_count": null,
   "id": "5307e339-cfc6-46ae-a797-4bf34ce2b7ba",
   "metadata": {},
   "outputs": [],
   "source": []
  },
  {
   "cell_type": "code",
   "execution_count": null,
   "id": "80728689-3e0a-4f40-9423-859aa073a558",
   "metadata": {},
   "outputs": [],
   "source": []
  },
  {
   "cell_type": "code",
   "execution_count": null,
   "id": "d41338d4-c445-4676-8050-a82749c4a248",
   "metadata": {},
   "outputs": [],
   "source": []
  },
  {
   "cell_type": "code",
   "execution_count": null,
   "id": "71c26c1a-d14d-4bb5-87f1-9910209cfb67",
   "metadata": {},
   "outputs": [],
   "source": []
  },
  {
   "cell_type": "code",
   "execution_count": null,
   "id": "5a0813f7-8be7-4b6c-82d9-1515c989af4c",
   "metadata": {},
   "outputs": [],
   "source": []
  },
  {
   "cell_type": "code",
   "execution_count": null,
   "id": "fa4db1d7-02f4-4c24-940b-a843b4f988aa",
   "metadata": {},
   "outputs": [],
   "source": []
  },
  {
   "cell_type": "code",
   "execution_count": null,
   "id": "344bc7d5-5230-4ad6-b035-69f62e200527",
   "metadata": {},
   "outputs": [],
   "source": []
  },
  {
   "cell_type": "code",
   "execution_count": null,
   "id": "9c313ba6-0174-4893-b311-d79a24b1fa3d",
   "metadata": {},
   "outputs": [],
   "source": []
  },
  {
   "cell_type": "code",
   "execution_count": null,
   "id": "030b4901-408b-42ab-9e9a-630e4fc0d187",
   "metadata": {},
   "outputs": [],
   "source": []
  },
  {
   "cell_type": "code",
   "execution_count": null,
   "id": "ac6b4bd4-454a-4a76-987c-6a03603d8d97",
   "metadata": {},
   "outputs": [],
   "source": []
  },
  {
   "cell_type": "code",
   "execution_count": null,
   "id": "0a24f496-63c8-4a71-9ad3-945d13dc1d79",
   "metadata": {},
   "outputs": [],
   "source": []
  },
  {
   "cell_type": "code",
   "execution_count": null,
   "id": "8a4149e9-12ab-456d-aa3f-48f8b8f86946",
   "metadata": {},
   "outputs": [],
   "source": []
  },
  {
   "cell_type": "code",
   "execution_count": null,
   "id": "323ae91b-e7f1-4a72-973e-f351f7ea3d27",
   "metadata": {},
   "outputs": [],
   "source": []
  },
  {
   "cell_type": "code",
   "execution_count": null,
   "id": "12465a23-f315-4b0e-924c-5fadc40e9dba",
   "metadata": {},
   "outputs": [],
   "source": []
  },
  {
   "cell_type": "code",
   "execution_count": null,
   "id": "4bd9bbbf-7554-4bb8-bfcc-4b7c0105207f",
   "metadata": {},
   "outputs": [],
   "source": []
  },
  {
   "cell_type": "code",
   "execution_count": null,
   "id": "856f8eb5-6603-4ba7-8b12-6400e42c8e02",
   "metadata": {},
   "outputs": [],
   "source": []
  },
  {
   "cell_type": "code",
   "execution_count": null,
   "id": "f907e370-a87b-4fa5-9bb9-75bd8caf980a",
   "metadata": {},
   "outputs": [],
   "source": []
  },
  {
   "cell_type": "code",
   "execution_count": null,
   "id": "c9b3a894-d2f8-4e33-ab61-92b33e935b44",
   "metadata": {},
   "outputs": [],
   "source": []
  },
  {
   "cell_type": "code",
   "execution_count": null,
   "id": "460f861d-e69a-40c1-ad27-1e991cf7c318",
   "metadata": {},
   "outputs": [],
   "source": []
  },
  {
   "cell_type": "code",
   "execution_count": null,
   "id": "e6f597b4-a290-42d3-829c-24491becfccc",
   "metadata": {},
   "outputs": [],
   "source": []
  },
  {
   "cell_type": "code",
   "execution_count": null,
   "id": "5b5b24b4-ef71-4726-bdc8-d8cfe730ef46",
   "metadata": {},
   "outputs": [],
   "source": []
  },
  {
   "cell_type": "code",
   "execution_count": null,
   "id": "bba20ff5-3144-48e5-b53f-f48b4e2f2b6a",
   "metadata": {},
   "outputs": [],
   "source": []
  }
 ],
 "metadata": {
  "kernelspec": {
   "display_name": "Python 3 (ipykernel)",
   "language": "python",
   "name": "python3"
  },
  "language_info": {
   "codemirror_mode": {
    "name": "ipython",
    "version": 3
   },
   "file_extension": ".py",
   "mimetype": "text/x-python",
   "name": "python",
   "nbconvert_exporter": "python",
   "pygments_lexer": "ipython3",
   "version": "3.12.4"
  }
 },
 "nbformat": 4,
 "nbformat_minor": 5
}
