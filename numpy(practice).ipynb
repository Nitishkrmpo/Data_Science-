{
 "cells": [
  {
   "cell_type": "code",
   "execution_count": null,
   "id": "cf0ec55e-7b92-4a86-959e-2c8069e882b1",
   "metadata": {},
   "outputs": [],
   "source": [
    "#numpy >> numerical python \n",
    "#2005 by Travis oliphant  "
   ]
  },
  {
   "cell_type": "code",
   "execution_count": 1,
   "id": "b53b05a7-51b8-4747-a96e-4109fd422078",
   "metadata": {},
   "outputs": [],
   "source": [
    "import numpy as np\n"
   ]
  },
  {
   "cell_type": "code",
   "execution_count": 2,
   "id": "233c2d92-63cd-4e83-85d5-505aa2daf823",
   "metadata": {},
   "outputs": [],
   "source": [
    "arr= np.array([1,2,3])"
   ]
  },
  {
   "cell_type": "code",
   "execution_count": 4,
   "id": "db3e741d-e259-4d87-8df5-9110a95c4d68",
   "metadata": {},
   "outputs": [],
   "source": [
    "arr2= np.array([[1,2,3],[4,5,6]])"
   ]
  },
  {
   "cell_type": "code",
   "execution_count": 6,
   "id": "32aa33c2-f6cd-4991-9c16-05a2338947b1",
   "metadata": {},
   "outputs": [],
   "source": [
    "arr3=np.array([[1,2,3],[1.1,2.2,3.3]])  #automatic changing the data type of first row of 2d array  "
   ]
  },
  {
   "cell_type": "code",
   "execution_count": 7,
   "id": "7a0c8f36-4e83-4ee1-a202-e726ad69a1e8",
   "metadata": {},
   "outputs": [
    {
     "data": {
      "text/plain": [
       "array([[1. , 2. , 3. ],\n",
       "       [1.1, 2.2, 3.3]])"
      ]
     },
     "execution_count": 7,
     "metadata": {},
     "output_type": "execute_result"
    }
   ],
   "source": [
    "arr3\n"
   ]
  },
  {
   "cell_type": "code",
   "execution_count": 16,
   "id": "c1a850c9-796b-4151-9ab6-516254f6957d",
   "metadata": {},
   "outputs": [],
   "source": [
    "#Create array using built in function by filling zeros , ones , and at last filling randomvalue from 0 to 1\n",
    "arr1=np.zeros((3,4),np.int8)"
   ]
  },
  {
   "cell_type": "code",
   "execution_count": 14,
   "id": "72a19140-9776-428d-aad9-c579c32fab06",
   "metadata": {},
   "outputs": [
    {
     "data": {
      "text/plain": [
       "array([[0, 0, 0, 0],\n",
       "       [0, 0, 0, 0],\n",
       "       [0, 0, 0, 0]], dtype=int8)"
      ]
     },
     "execution_count": 14,
     "metadata": {},
     "output_type": "execute_result"
    }
   ],
   "source": [
    "arr1"
   ]
  },
  {
   "cell_type": "code",
   "execution_count": 21,
   "id": "5990f4a2-af60-4d32-a038-4e54eed8ff78",
   "metadata": {},
   "outputs": [],
   "source": [
    "arr2= np.ones((3,4),dtype=np.int8)"
   ]
  },
  {
   "cell_type": "code",
   "execution_count": 22,
   "id": "49cd03bb-3d32-4933-be14-98f83d41eff5",
   "metadata": {},
   "outputs": [
    {
     "data": {
      "text/plain": [
       "array([[1, 1, 1, 1],\n",
       "       [1, 1, 1, 1],\n",
       "       [1, 1, 1, 1]], dtype=int8)"
      ]
     },
     "execution_count": 22,
     "metadata": {},
     "output_type": "execute_result"
    }
   ],
   "source": [
    "arr2"
   ]
  },
  {
   "cell_type": "code",
   "execution_count": 29,
   "id": "02e850d7-21f7-41c6-a7ad-3ddcf994a04c",
   "metadata": {},
   "outputs": [],
   "source": [
    "arr3=np.random.rand(3,3)  "
   ]
  },
  {
   "cell_type": "code",
   "execution_count": 30,
   "id": "c4f5d748-12bb-44ba-a398-7243fb669e83",
   "metadata": {},
   "outputs": [
    {
     "data": {
      "text/plain": [
       "array([[0.6131184 , 0.45022173, 0.64958707],\n",
       "       [0.68958776, 0.23721019, 0.59110925],\n",
       "       [0.5260352 , 0.55097467, 0.73375836]])"
      ]
     },
     "execution_count": 30,
     "metadata": {},
     "output_type": "execute_result"
    }
   ],
   "source": [
    "arr3"
   ]
  },
  {
   "cell_type": "code",
   "execution_count": 36,
   "id": "2f51df79-2ac6-486b-b37d-00a9f582fdca",
   "metadata": {},
   "outputs": [
    {
     "data": {
      "text/plain": [
       "0"
      ]
     },
     "execution_count": 36,
     "metadata": {},
     "output_type": "execute_result"
    }
   ],
   "source": [
    "arr = np.array(4) #dimension is the number of square bracket in np.array\n",
    "#print(arr)"
   ]
  },
  {
   "cell_type": "code",
   "execution_count": 37,
   "id": "9bf5dae3-0562-4c51-8bf8-7b90482fa044",
   "metadata": {},
   "outputs": [],
   "source": [
    "arr5=np.array([1,2,3,4,5], ndmin=5)  #dmin will give the minimum number of dimension required   "
   ]
  },
  {
   "cell_type": "code",
   "execution_count": 38,
   "id": "28f4e784-7767-43c4-85fa-bcc8abbd0487",
   "metadata": {},
   "outputs": [
    {
     "data": {
      "text/plain": [
       "array([[[[[1, 2, 3, 4, 5]]]]])"
      ]
     },
     "execution_count": 38,
     "metadata": {},
     "output_type": "execute_result"
    }
   ],
   "source": [
    "arr5"
   ]
  },
  {
   "cell_type": "code",
   "execution_count": 40,
   "id": "7e6c92ef-8dbf-40d9-8d5a-5c0ca3160cbb",
   "metadata": {},
   "outputs": [
    {
     "data": {
      "text/plain": [
       "5"
      ]
     },
     "execution_count": 40,
     "metadata": {},
     "output_type": "execute_result"
    }
   ],
   "source": [
    "arr6=np.zeros((1,2,3,4,5))\n",
    "arr6.ndim"
   ]
  },
  {
   "cell_type": "code",
   "execution_count": 43,
   "id": "80bad079-46db-418a-a84a-d80be0c6d898",
   "metadata": {},
   "outputs": [
    {
     "name": "stdout",
     "output_type": "stream",
     "text": [
      "int64\n"
     ]
    }
   ],
   "source": [
    "import numpy as np\n",
    "arr_num = np.array([1, 2, 3, 4])\n",
    "print(arr_num .dtype)\n"
   ]
  },
  {
   "cell_type": "code",
   "execution_count": 44,
   "id": "a9c0ce85-0664-476d-9ed7-4d28a9eed840",
   "metadata": {},
   "outputs": [
    {
     "name": "stdout",
     "output_type": "stream",
     "text": [
      "<U6\n"
     ]
    }
   ],
   "source": [
    "arr_fruit = np.array(['apple', 'banana', 'cherry'])\n",
    "print(arr_fruit .dtype)"
   ]
  },
  {
   "cell_type": "code",
   "execution_count": 61,
   "id": "2005fb4f-9e7f-45b6-aacb-f8d9d1e9523a",
   "metadata": {},
   "outputs": [],
   "source": [
    "arr1=np.array([\"9\", 1, 3, 8], dtype='i')"
   ]
  },
  {
   "cell_type": "code",
   "execution_count": 59,
   "id": "2fadf1d9-88fe-4083-a07c-eabe14e42e92",
   "metadata": {},
   "outputs": [
    {
     "data": {
      "text/plain": [
       "array([5, 1, 3, 8], dtype=int32)"
      ]
     },
     "execution_count": 59,
     "metadata": {},
     "output_type": "execute_result"
    }
   ],
   "source": [
    "arr1"
   ]
  },
  {
   "cell_type": "code",
   "execution_count": 64,
   "id": "379b7db2-fa73-4401-bc0e-449d035ef388",
   "metadata": {},
   "outputs": [
    {
     "name": "stdout",
     "output_type": "stream",
     "text": [
      "[1 2 3]\n",
      "int32\n"
     ]
    }
   ],
   "source": [
    "#Converting Data Type on Existing Arrays\n",
    "import numpy as np\n",
    "arr = np.array([1.1, 2.1, 3.1])\n",
    "newarr_1 = arr.astype('i')\n",
    "print(newarr_1)\n",
    "print(newarr_1.dtype)"
   ]
  },
  {
   "cell_type": "code",
   "execution_count": 74,
   "id": "c6b6b364-9254-4134-99d9-668277d39ee6",
   "metadata": {},
   "outputs": [
    {
     "name": "stdout",
     "output_type": "stream",
     "text": [
      "[[22 23]\n",
      " [25 26]]\n"
     ]
    }
   ],
   "source": [
    "#\n",
    "# Creating a view with a different shape using slicing\n",
    "original_array = np.array([[22, 23, 24], [25, 26, 27]])\n",
    "view_array = original_array[:, :]\n",
    "print(view_array)"
   ]
  },
  {
   "cell_type": "code",
   "execution_count": 92,
   "id": "9b00e5ec-b7b6-437e-a2fc-39e389659dae",
   "metadata": {},
   "outputs": [
    {
     "name": "stdout",
     "output_type": "stream",
     "text": [
      "[[41  0 42]\n",
      " [ 0 43  0]\n",
      " [44  0 45]\n",
      " [ 0 46  0]]\n"
     ]
    }
   ],
   "source": [
    "\n",
    "import numpy as np\n",
    "# Creating a view with a different shape\n",
    "original_array = np.array([41, 42, 43, 44, 45, 46])\n",
    "view_array = original_array.view(dtype=np.int32).reshape(4, 3)\n",
    "print(view_array)"
   ]
  },
  {
   "cell_type": "code",
   "execution_count": 95,
   "id": "a917bfbd-0691-464a-b3aa-f69fca3e0133",
   "metadata": {},
   "outputs": [],
   "source": [
    "import numpy as np\n",
    "arr1= np.array([1,2,3,4], dtype='i')\n",
    "view_array= arr1.view(dtype=np.int32).reshape(2,2)"
   ]
  },
  {
   "cell_type": "code",
   "execution_count": 108,
   "id": "190ad8e8-87f3-41b9-9ad9-eb2e84b42cf7",
   "metadata": {},
   "outputs": [
    {
     "ename": "ValueError",
     "evalue": "all the input arrays must have same number of dimensions, but the array at index 0 has 2 dimension(s) and the array at index 1 has 1 dimension(s)",
     "output_type": "error",
     "traceback": [
      "\u001b[1;31m---------------------------------------------------------------------------\u001b[0m",
      "\u001b[1;31mValueError\u001b[0m                                Traceback (most recent call last)",
      "Cell \u001b[1;32mIn[108], line 6\u001b[0m\n\u001b[0;32m      4\u001b[0m array2 \u001b[38;5;241m=\u001b[39m np\u001b[38;5;241m.\u001b[39marray([\u001b[38;5;241m7\u001b[39m, \u001b[38;5;241m8\u001b[39m, \u001b[38;5;241m9\u001b[39m])\n\u001b[0;32m      5\u001b[0m \u001b[38;5;66;03m# Concatenating along rows\u001b[39;00m\n\u001b[1;32m----> 6\u001b[0m result_array \u001b[38;5;241m=\u001b[39m \u001b[43mnp\u001b[49m\u001b[38;5;241;43m.\u001b[39;49m\u001b[43mconcatenate\u001b[49m\u001b[43m(\u001b[49m\u001b[43m(\u001b[49m\u001b[43marray1\u001b[49m\u001b[43m,\u001b[49m\u001b[43m \u001b[49m\u001b[43marray2\u001b[49m\u001b[43m)\u001b[49m\u001b[43m,\u001b[49m\u001b[43m \u001b[49m\u001b[43maxis\u001b[49m\u001b[38;5;241;43m=\u001b[39;49m\u001b[38;5;241;43m1\u001b[39;49m\u001b[43m)\u001b[49m\n\u001b[0;32m      7\u001b[0m \u001b[38;5;28mprint\u001b[39m(\u001b[38;5;124m\"\u001b[39m\u001b[38;5;124mArray 1:\u001b[39m\u001b[38;5;124m\"\u001b[39m)\n\u001b[0;32m      8\u001b[0m \u001b[38;5;28mprint\u001b[39m(array1)\n",
      "\u001b[1;31mValueError\u001b[0m: all the input arrays must have same number of dimensions, but the array at index 0 has 2 dimension(s) and the array at index 1 has 1 dimension(s)"
     ]
    }
   ],
   "source": [
    "import numpy as np\n",
    "# Creating two arrays along rows\n",
    "array1 = np.array([[1, 2, 3], [4, 5, 6]])\n",
    "array2 = np.array([7, 8, 9])\n",
    "# Concatenating along rows\n",
    "result_array = np.concatenate((array1, array2), axis=0)\n",
    "print(\"Array 1:\")\n",
    "print(array1)\n",
    "print(\"\\nArray 2:\")\n",
    "print(array2)\n",
    "print(\"\\nConcatenated Array along Rows:\")\n",
    "print(result_array)"
   ]
  },
  {
   "cell_type": "code",
   "execution_count": 105,
   "id": "3373a05d-cec8-4d68-a6df-0e11fdb68555",
   "metadata": {},
   "outputs": [
    {
     "name": "stdout",
     "output_type": "stream",
     "text": [
      "Array 1:\n",
      "[[1 2]\n",
      " [3 4]]\n",
      "\n",
      "Array 2:\n",
      "[[5 6]]\n",
      "\n",
      "Concatenated Array along Columns:\n",
      "[[1 2 5]\n",
      " [3 4 6]]\n"
     ]
    }
   ],
   "source": [
    "# Creating two arrays along columns\n",
    "array1 = np.array([[1, 2],[3, 4]])\n",
    "array2 = np.array([[5, 6]])\n",
    "# Concatenating along columns\n",
    "result_array = np.concatenate((array1, array2.T), axis=1)\n",
    "print(\"Array 1:\")\n",
    "print(array1)\n",
    "print(\"\\nArray 2:\")\n",
    "print(array2)\n",
    "print(\"\\nConcatenated Array along Columns:\")\n",
    "print(result_array)"
   ]
  },
  {
   "cell_type": "code",
   "execution_count": 110,
   "id": "da8a96bb-cbd9-43c8-996c-611a29f7c746",
   "metadata": {},
   "outputs": [
    {
     "ename": "ValueError",
     "evalue": "all the input array dimensions except for the concatenation axis must match exactly, but along dimension 1, the array at index 0 has size 3 and the array at index 1 has size 1",
     "output_type": "error",
     "traceback": [
      "\u001b[1;31m---------------------------------------------------------------------------\u001b[0m",
      "\u001b[1;31mValueError\u001b[0m                                Traceback (most recent call last)",
      "Cell \u001b[1;32mIn[110], line 6\u001b[0m\n\u001b[0;32m      4\u001b[0m array2 \u001b[38;5;241m=\u001b[39m np\u001b[38;5;241m.\u001b[39marray([\u001b[38;5;241m4\u001b[39m, \u001b[38;5;241m5\u001b[39m, \u001b[38;5;241m6\u001b[39m])\n\u001b[0;32m      5\u001b[0m \u001b[38;5;66;03m# Concatenating along a new axis\u001b[39;00m\n\u001b[1;32m----> 6\u001b[0m result_array \u001b[38;5;241m=\u001b[39m \u001b[43mnp\u001b[49m\u001b[38;5;241;43m.\u001b[39;49m\u001b[43mconcatenate\u001b[49m\u001b[43m(\u001b[49m\u001b[43m(\u001b[49m\u001b[43marray1\u001b[49m\u001b[43m[\u001b[49m\u001b[43mnp\u001b[49m\u001b[38;5;241;43m.\u001b[39;49m\u001b[43mnewaxis\u001b[49m\u001b[43m,\u001b[49m\u001b[43m \u001b[49m\u001b[43m:\u001b[49m\u001b[43m]\u001b[49m\u001b[43m,\u001b[49m\u001b[43m \u001b[49m\u001b[43marray2\u001b[49m\u001b[43m[\u001b[49m\u001b[43mnp\u001b[49m\u001b[38;5;241;43m.\u001b[39;49m\u001b[43mnewaxis\u001b[49m\u001b[43m,\u001b[49m\u001b[43m \u001b[49m\u001b[43m:\u001b[49m\u001b[43m]\u001b[49m\u001b[38;5;241;43m.\u001b[39;49m\u001b[43mT\u001b[49m\u001b[43m)\u001b[49m\u001b[43m,\u001b[49m\u001b[43m \u001b[49m\u001b[43maxis\u001b[49m\u001b[38;5;241;43m=\u001b[39;49m\u001b[38;5;241;43m0\u001b[39;49m\u001b[43m)\u001b[49m\n\u001b[0;32m      7\u001b[0m \u001b[38;5;28mprint\u001b[39m(\u001b[38;5;124m\"\u001b[39m\u001b[38;5;124mArray 1:\u001b[39m\u001b[38;5;124m\"\u001b[39m)\n\u001b[0;32m      8\u001b[0m \u001b[38;5;28mprint\u001b[39m(array1)\n",
      "\u001b[1;31mValueError\u001b[0m: all the input array dimensions except for the concatenation axis must match exactly, but along dimension 1, the array at index 0 has size 3 and the array at index 1 has size 1"
     ]
    }
   ],
   "source": [
    "import numpy as np\n",
    "# Creating two arrays\n",
    "array1 = np.array([1, 2, 3])\n",
    "array2 = np.array([4, 5, 6])\n",
    "# Concatenating along a new axis\n",
    "result_array = np.concatenate((array1[np.newaxis, :], array2[np.newaxis, :]), axis=0)\n",
    "print(\"Array 1:\")\n",
    "print(array1)\n",
    "print(\"\\nArray 2:\")\n",
    "print(array2)\n",
    "print(\"\\nConcatenated Array along a New Axis:\")\n",
    "print(result_array)"
   ]
  },
  {
   "cell_type": "code",
   "execution_count": 112,
   "id": "14e36a46-b759-4938-8f2e-516c74b4468b",
   "metadata": {},
   "outputs": [
    {
     "data": {
      "text/plain": [
       "array([  2.        ,  16.14285714,  30.28571429,  44.42857143,\n",
       "        58.57142857,  72.71428571,  86.85714286, 101.        ,\n",
       "       115.14285714, 129.28571429, 143.42857143, 157.57142857,\n",
       "       171.71428571, 185.85714286, 200.        ])"
      ]
     },
     "execution_count": 112,
     "metadata": {},
     "output_type": "execute_result"
    }
   ],
   "source": [
    "np.linspace(2,200,15)"
   ]
  },
  {
   "cell_type": "code",
   "execution_count": 114,
   "id": "b74bff99-be59-42c5-8847-10cc78523efe",
   "metadata": {},
   "outputs": [
    {
     "data": {
      "text/plain": [
       "array([ 2,  7, 12, 17, 22, 27, 32, 37, 42, 47, 52, 57, 62, 67, 72, 77, 82,\n",
       "       87, 92, 97])"
      ]
     },
     "execution_count": 114,
     "metadata": {},
     "output_type": "execute_result"
    }
   ],
   "source": [
    "np.arange(2,100,5)"
   ]
  },
  {
   "cell_type": "code",
   "execution_count": 115,
   "id": "73bed2ad-1190-4653-9358-7f11b599d519",
   "metadata": {},
   "outputs": [
    {
     "data": {
      "text/plain": [
       "array([ 0.80607982,  0.15342405, -0.66450362,  1.12811872,  0.71398382])"
      ]
     },
     "execution_count": 115,
     "metadata": {},
     "output_type": "execute_result"
    }
   ],
   "source": [
    "np.random.randn()"
   ]
  },
  {
   "cell_type": "code",
   "execution_count": 117,
   "id": "402c795e-1088-4b46-9af5-51225e0ff7f1",
   "metadata": {},
   "outputs": [
    {
     "ename": "SyntaxError",
     "evalue": "invalid non-printable character U+00A0 (3846508659.py, line 2)",
     "output_type": "error",
     "traceback": [
      "\u001b[1;36m  Cell \u001b[1;32mIn[117], line 2\u001b[1;36m\u001b[0m\n\u001b[1;33m    empty_array = np.empty((2, 3))  # Creates a 2x3 array without\u001b[0m\n\u001b[1;37m                                  ^\u001b[0m\n\u001b[1;31mSyntaxError\u001b[0m\u001b[1;31m:\u001b[0m invalid non-printable character U+00A0\n"
     ]
    }
   ],
   "source": [
    "import numpy as np\n",
    "empty_array = np.empty((2, 3))  # Creates a 2x3 array without \n",
    "initializing values\n",
    "print(empty_array)"
   ]
  },
  {
   "cell_type": "code",
   "execution_count": 118,
   "id": "0fdbf4a4-5794-4beb-af66-b58563e2e19a",
   "metadata": {},
   "outputs": [
    {
     "name": "stdout",
     "output_type": "stream",
     "text": [
      "[11 12 13 14 15]\n"
     ]
    }
   ],
   "source": [
    "import numpy as np\n",
    "\n",
    "\n",
    "arr = np.array([1, 2, 3, 4, 5])\n",
    "\n",
    "\n",
    "# Adding a scalar to every element in the array\n",
    "\n",
    "result = arr + 10\n",
    "\n",
    "print(result)"
   ]
  },
  {
   "cell_type": "code",
   "execution_count": 119,
   "id": "39086d5a-ba1b-4bb7-b697-33cadb64a748",
   "metadata": {},
   "outputs": [
    {
     "name": "stdout",
     "output_type": "stream",
     "text": [
      "[ 2  4  6  8 10]\n"
     ]
    }
   ],
   "source": [
    "import numpy as np\n",
    "\n",
    "\n",
    "arr = np.array([1, 2, 3, 4, 5])\n",
    "\n",
    "multiplier = np.array([2])\n",
    "\n",
    "\n",
    "# Multiplying every element in the array by a scalar (1D array)\n",
    "\n",
    "result = arr * multiplier\n",
    "\n",
    "print(result)"
   ]
  },
  {
   "cell_type": "code",
   "execution_count": 120,
   "id": "375a403d-3d63-4ff4-af6c-c2d7f300fc4c",
   "metadata": {},
   "outputs": [
    {
     "name": "stdout",
     "output_type": "stream",
     "text": [
      "[ 2  4  6  8 10]\n"
     ]
    }
   ],
   "source": []
  },
  {
   "cell_type": "code",
   "execution_count": 121,
   "id": "32f16040-6d7c-4b01-9a73-1d29a6ed7011",
   "metadata": {},
   "outputs": [
    {
     "name": "stdout",
     "output_type": "stream",
     "text": [
      "[[11 12 13]\n",
      " [24 25 26]]\n"
     ]
    }
   ],
   "source": [
    "import numpy as np\n",
    "\n",
    "\n",
    "arr_2d = np.array([[1, 2, 3], [4, 5, 6]])\n",
    "\n",
    "column_addition = np.array([[10], [20]])\n",
    "\n",
    "\n",
    "# Adding a column to each column in the 2D array\n",
    "\n",
    "\n",
    "result = arr_2d + column_addition\n",
    "\n",
    "print(result)"
   ]
  },
  {
   "cell_type": "code",
   "execution_count": 123,
   "id": "3b40c3cd-4956-49d8-9071-cfaa780a9140",
   "metadata": {},
   "outputs": [
    {
     "name": "stdout",
     "output_type": "stream",
     "text": [
      "[[ 1  4]\n",
      " [ 9 16]]\n"
     ]
    }
   ],
   "source": [
    "import numpy as np\n",
    "\n",
    "\n",
    "arr = np.array([[1, 2], [3, 4]])\n",
    "\n",
    "\n",
    "# Applying a unary operation (square) to each element in the array\n",
    "\n",
    "\n",
    "result = arr ** 2\n",
    "\n",
    "print(result)"
   ]
  },
  {
   "cell_type": "code",
   "execution_count": 124,
   "id": "6995a77a-a9f2-496a-812c-2df3ce5c1217",
   "metadata": {},
   "outputs": [
    {
     "name": "stdout",
     "output_type": "stream",
     "text": [
      "[4 5]\n"
     ]
    }
   ],
   "source": [
    "import numpy as np\n",
    "arr = np.array([1, 2, 3, 4, 5])\n",
    "threshold = 3\n",
    "# Creating a boolean mask and broadcasting the condition\n",
    "condition = arr > threshold\n",
    "result = arr[condition]\n",
    "\n",
    "print(result)"
   ]
  },
  {
   "cell_type": "code",
   "execution_count": 127,
   "id": "58c162ea-24db-4df5-a625-ffc87ff20c09",
   "metadata": {},
   "outputs": [
    {
     "name": "stdout",
     "output_type": "stream",
     "text": [
      "[1.         1.41421356 1.73205081 2.         2.23606798]\n"
     ]
    }
   ],
   "source": [
    "import numpy as np\n",
    "arr = np.array([1, 2, 3, 4, 5])\n",
    "# Applying a mathematical function (e.g., square root) to each element in the array\n",
    "result = np.sqrt(arr)\n",
    "print(result)"
   ]
  },
  {
   "cell_type": "code",
   "execution_count": 128,
   "id": "9b07e701-b064-4017-9851-cae0f8c9d77f",
   "metadata": {},
   "outputs": [
    {
     "name": "stdout",
     "output_type": "stream",
     "text": [
      "[[10 20 30]\n",
      " [40 50 60]]\n"
     ]
    }
   ],
   "source": [
    "import numpy as np\n",
    "\n",
    "\n",
    "arr = np.array([1, 2, 3, 4, 5, 6])\n",
    "\n",
    "\n",
    "# Reshaping the array and broadcasting a scalar\n",
    "reshaped_arr = arr.reshape((2, 3))\n",
    "result = reshaped_arr * 10\n",
    "print(result)"
   ]
  },
  {
   "cell_type": "code",
   "execution_count": 147,
   "id": "78f105ba-5513-49f5-9f22-fdfd847db121",
   "metadata": {},
   "outputs": [
    {
     "name": "stdout",
     "output_type": "stream",
     "text": [
      "[ 1  1  9 64 25 36] # the elements of a at the positions i\n"
     ]
    }
   ],
   "source": [
    "a=np.arange(12) ** 2\n",
    "i = np.array([1,1,3,8,5,6])\n",
    "print(a[i] ,\"# the elements of a at the positions i\")"
   ]
  },
  {
   "cell_type": "code",
   "execution_count": 151,
   "id": "852dba91-ce1c-4973-8b5b-44de5a256783",
   "metadata": {},
   "outputs": [
    {
     "data": {
      "text/plain": [
       "array([[ 9, 16],\n",
       "       [81, 49]])"
      ]
     },
     "execution_count": 151,
     "metadata": {},
     "output_type": "execute_result"
    }
   ],
   "source": [
    "j = np.array( [ [ 3, 4], [ 9, 7 ] ] )     # a bidimensional array of indices\n",
    "\n",
    "a[j]"
   ]
  },
  {
   "cell_type": "code",
   "execution_count": 155,
   "id": "c208161e-e076-4310-ae69-e352254d15f9",
   "metadata": {},
   "outputs": [
    {
     "data": {
      "text/plain": [
       "array([[  0,   0,   0],\n",
       "       [255,   0,   0],\n",
       "       [  0, 255,   0],\n",
       "       [  0,   0, 255],\n",
       "       [255, 255, 255]])"
      ]
     },
     "execution_count": 155,
     "metadata": {},
     "output_type": "execute_result"
    }
   ],
   "source": [
    "palette = np.array( [ [0,0,0],[255,0,0],[0,255,0],[0,0,255],[255,255,255]])# white\n",
    "palette"
   ]
  },
  {
   "cell_type": "code",
   "execution_count": 156,
   "id": "e01780f3-8b9a-4415-9512-a4d18fe250ce",
   "metadata": {},
   "outputs": [
    {
     "data": {
      "text/plain": [
       "<matplotlib.image.AxesImage at 0x1801b7623f0>"
      ]
     },
     "execution_count": 156,
     "metadata": {},
     "output_type": "execute_result"
    },
    {
     "data": {
      "image/png": "[encoded data removed]",
      "text/plain": [
       "<Figure size 640x480 with 1 Axes>"
      ]
     },
     "metadata": {},
     "output_type": "display_data"
    }
   ],
   "source": [
    "import matplotlib.pyplot as plt\n",
    "plt.imshow(palette)"
   ]
  },
  {
   "cell_type": "code",
   "execution_count": 160,
   "id": "471201d3-d591-4687-9289-6703cda898db",
   "metadata": {},
   "outputs": [
    {
     "name": "stdout",
     "output_type": "stream",
     "text": [
      "[[0 6 2 8]\n",
      " [5 3 4 0]]\n"
     ]
    },
    {
     "data": {
      "text/plain": [
       "<matplotlib.image.AxesImage at 0x1801b891d30>"
      ]
     },
     "execution_count": 160,
     "metadata": {},
     "output_type": "execute_result"
    },
    {
     "data": {
      "image/png": "[encoded data removed]",
      "text/plain": [
       "<Figure size 640x480 with 1 Axes>"
      ]
     },
     "metadata": {},
     "output_type": "display_data"
    }
   ],
   "source": [
    "image = np.array( [ [ 0, 6, 2, 8 ],[ 5, 3, 4, 0 ] ] )# each value corresponds to a color in the palette \n",
    "print(image)\n",
    "\n",
    "import matplotlib.pyplot as plt\n",
    "plt.imshow(image)"
   ]
  },
  {
   "cell_type": "code",
   "execution_count": 10,
   "id": "75c49401-6996-48b0-8452-c4765acfcefd",
   "metadata": {},
   "outputs": [
    {
     "name": "stdout",
     "output_type": "stream",
     "text": [
      "[[[2]]\n",
      "\n",
      " [[3]]\n",
      "\n",
      " [[4]]\n",
      "\n",
      " [[5]]]\n",
      "[[[8]\n",
      "  [5]\n",
      "  [4]]]\n",
      "[[[5 4 6 8 3]]]\n"
     ]
    }
   ],
   "source": [
    "import numpy as np\n",
    "a=np.array([2,3,4,5])\n",
    "b=np.array([8,5,4])\n",
    "c=np.array([5,4,6,8,3])\n",
    "ax,bx,cx=np.ix_(a,b,c)\n",
    "print(ax)\n",
    "print(bx)\n",
    "print(cx)"
   ]
  },
  {
   "cell_type": "code",
   "execution_count": 7,
   "id": "f2520141-5f98-4b7e-8fba-2e6efa8f6b9c",
   "metadata": {},
   "outputs": [],
   "source": [
    "result = ax+bx*cx"
   ]
  },
  {
   "cell_type": "code",
   "execution_count": 8,
   "id": "42057923-64c2-4fc1-8aa0-fea21e194c87",
   "metadata": {},
   "outputs": [
    {
     "data": {
      "text/plain": [
       "array([[[42, 34, 50, 66, 26],\n",
       "        [27, 22, 32, 42, 17],\n",
       "        [22, 18, 26, 34, 14]],\n",
       "\n",
       "       [[43, 35, 51, 67, 27],\n",
       "        [28, 23, 33, 43, 18],\n",
       "        [23, 19, 27, 35, 15]],\n",
       "\n",
       "       [[44, 36, 52, 68, 28],\n",
       "        [29, 24, 34, 44, 19],\n",
       "        [24, 20, 28, 36, 16]],\n",
       "\n",
       "       [[45, 37, 53, 69, 29],\n",
       "        [30, 25, 35, 45, 20],\n",
       "        [25, 21, 29, 37, 17]]])"
      ]
     },
     "execution_count": 8,
     "metadata": {},
     "output_type": "execute_result"
    }
   ],
   "source": [
    "result"
   ]
  },
  {
   "cell_type": "code",
   "execution_count": 11,
   "id": "10fb411d-0bce-44bb-8a3f-fdef07d67f08",
   "metadata": {},
   "outputs": [
    {
     "data": {
      "text/plain": [
       "np.int64(17)"
      ]
     },
     "execution_count": 11,
     "metadata": {},
     "output_type": "execute_result"
    }
   ],
   "source": [
    "result[3,2,4]"
   ]
  },
  {
   "cell_type": "code",
   "execution_count": 13,
   "id": "7455761d-a502-4cf1-b16e-c2d64b1f0a27",
   "metadata": {},
   "outputs": [
    {
     "data": {
      "text/plain": [
       "array([[[15, 14, 16, 18, 13],\n",
       "        [12, 11, 13, 15, 10],\n",
       "        [11, 10, 12, 14,  9]],\n",
       "\n",
       "       [[16, 15, 17, 19, 14],\n",
       "        [13, 12, 14, 16, 11],\n",
       "        [12, 11, 13, 15, 10]],\n",
       "\n",
       "       [[17, 16, 18, 20, 15],\n",
       "        [14, 13, 15, 17, 12],\n",
       "        [13, 12, 14, 16, 11]],\n",
       "\n",
       "       [[18, 17, 19, 21, 16],\n",
       "        [15, 14, 16, 18, 13],\n",
       "        [14, 13, 15, 17, 12]]])"
      ]
     },
     "execution_count": 13,
     "metadata": {},
     "output_type": "execute_result"
    }
   ],
   "source": [
    "def ufunc_reduce(ufuct , *vectors):\n",
    "    vs=np.ix_(*vectors)\n",
    "    r=ufuct.identity   #return the identity matrix of the function ufuct here , addition identity is 0 and multiplication identity is 1\n",
    "    for v in vs:\n",
    "        r=ufuct(r,v)\n",
    "    return r\n",
    "ufunc_reduce(np.add,a,b,c)\n",
    "    "
   ]
  },
  {
   "cell_type": "code",
   "execution_count": 15,
   "id": "f20f5d07-b4bd-4e41-a347-1f96b492ac95",
   "metadata": {},
   "outputs": [
    {
     "name": "stdout",
     "output_type": "stream",
     "text": [
      "[3 4 5 6]\n"
     ]
    }
   ],
   "source": [
    "arr=np.array([1,2,3,4,5,6])\n",
    "mask= arr > 2\n",
    "filtered_element=arr[mask]\n",
    "print(filtered_element)"
   ]
  },
  {
   "cell_type": "code",
   "execution_count": 18,
   "id": "684492f1-fff4-464e-84f5-47917fcb6770",
   "metadata": {},
   "outputs": [
    {
     "name": "stdout",
     "output_type": "stream",
     "text": [
      "[3]\n"
     ]
    }
   ],
   "source": [
    "arr=np.array([1,2,3,4,5,6])\n",
    "mask= arr ==3\n",
    "filtered_element=arr[mask]\n",
    "print(filtered_element)"
   ]
  },
  {
   "cell_type": "code",
   "execution_count": 25,
   "id": "494220e3-cab4-4f68-b737-83f9efa909cc",
   "metadata": {},
   "outputs": [
    {
     "data": {
      "text/plain": [
       "array([1, 3, 5])"
      ]
     },
     "execution_count": 25,
     "metadata": {},
     "output_type": "execute_result"
    }
   ],
   "source": [
    "arr=np.array([1,2,3,4,5,6])\n",
    "#slicing \n",
    "sl = arr[:5:2]\n",
    "sl"
   ]
  },
  {
   "cell_type": "code",
   "execution_count": 27,
   "id": "086d8607-0fa9-4eaf-ab4e-82450a32b2a2",
   "metadata": {},
   "outputs": [
    {
     "data": {
      "text/plain": [
       "array([[2, 3],\n",
       "       [5, 6]])"
      ]
     },
     "execution_count": 27,
     "metadata": {},
     "output_type": "execute_result"
    }
   ],
   "source": [
    "#Basic slicing \n",
    "arr=np.array([[1,2,3],[4,5,6],[7,8,9]])\n",
    "sliced_array=arr[:2, 1:]\n",
    "sliced_array"
   ]
  },
  {
   "cell_type": "code",
   "execution_count": 30,
   "id": "0975ad92-6019-4015-864f-524bbe65c2fe",
   "metadata": {},
   "outputs": [
    {
     "name": "stdout",
     "output_type": "stream",
     "text": [
      "[[0.66508716 0.62974103 0.93800129 0.26957672]\n",
      " [0.76508232 0.77847104 0.07873742 0.88913842]\n",
      " [0.16020261 0.21179094 0.19666109 0.43082006]]\n"
     ]
    }
   ],
   "source": [
    "import numpy as np\n",
    "\n",
    "arr_3d = np.random.rand(2, 3, 4)\n",
    "sliced_2d_array = arr_3d[1, :, :]\n",
    "\n",
    "print(sliced_2d_array)"
   ]
  },
  {
   "cell_type": "code",
   "execution_count": 33,
   "id": "fe4f3895-61c2-4d12-a9a7-d7f1cd86b2a2",
   "metadata": {},
   "outputs": [
    {
     "name": "stdout",
     "output_type": "stream",
     "text": [
      "[[[0.77364656 0.84209831 0.93745161 0.85299954]\n",
      "  [0.29200204 0.83220908 0.84798603 0.4973605 ]\n",
      "  [0.05118705 0.78341087 0.07758254 0.48224719]]\n",
      "\n",
      " [[0.83746035 0.66941573 0.44919425 0.00297059]\n",
      "  [0.24112697 0.3413643  0.05775897 0.8869851 ]\n",
      "  [0.33999333 0.20155636 0.83962533 0.15644756]]]\n",
      "[[0.84798603 0.07758254]\n",
      " [0.05775897 0.83962533]]\n"
     ]
    }
   ],
   "source": [
    "import numpy as np\n",
    "\n",
    "arr_3d = np.random.rand(2, 3, 4)\n",
    "\n",
    "# Slicing along both dimensions\n",
    "print(arr_3d)\n",
    "sliced_array = arr_3d[:, 1:3, 2]\n",
    "\n",
    "print(sliced_array)"
   ]
  },
  {
   "cell_type": "code",
   "execution_count": 35,
   "id": "1ed7221a-add6-4286-86d7-c19a37198c78",
   "metadata": {},
   "outputs": [
    {
     "name": "stdout",
     "output_type": "stream",
     "text": [
      "[[0.95071184 0.3184193  0.97817424]\n",
      " [0.48326669 0.07208844 0.99011656]]\n"
     ]
    }
   ],
   "source": [
    "import numpy as np\n",
    "\n",
    "arr_3d = np.random.rand(2, 3, 4)\n",
    "\n",
    "# Slicing using ellipsis to access the entire array along the last dimension\n",
    "\n",
    "sliced_3d_array = arr_3d[..., 2]\n",
    "\n",
    "print(sliced_3d_array)\n",
    "\n",
    "# Output: A slice of the third column along the last dimension for all 2D matrices"
   ]
  },
  {
   "cell_type": "code",
   "execution_count": 39,
   "id": "6c34e8ca-d3b2-4d64-9092-8e9ac5a11267",
   "metadata": {},
   "outputs": [
    {
     "name": "stdout",
     "output_type": "stream",
     "text": [
      "[[[0.33960991 0.33788366 0.62590948 0.0377165 ]\n",
      "  [0.38759611 0.11452764 0.4935938  0.9542733 ]\n",
      "  [0.95973082 0.54224856 0.77397233 0.33658114]]\n",
      "\n",
      " [[0.0042296  0.78938955 0.77036429 0.4595934 ]\n",
      "  [0.80697917 0.04764809 0.77753189 0.50321394]\n",
      "  [0.71716269 0.91329679 0.75523641 0.01000543]]]\n",
      "[[[[0.94183206 0.49264339 0.33960991 0.89345799 0.9694751 ]\n",
      "   [0.12999035 0.03471245 0.33788366 0.32125099 0.73807101]\n",
      "   [0.33314193 0.36901186 0.62590948 0.61467945 0.3566771 ]\n",
      "   [0.9205361  0.60988231 0.0377165  0.60875614 0.9458811 ]]\n",
      "\n",
      "  [[0.40158625 0.43669931 0.38759611 0.07836992 0.90398903]\n",
      "   [0.56390623 0.03844031 0.11452764 0.29420449 0.06247709]\n",
      "   [0.21228856 0.62835005 0.4935938  0.52021879 0.29661461]\n",
      "   [0.28374275 0.89454094 0.9542733  0.30881808 0.48194505]]\n",
      "\n",
      "  [[0.51948939 0.31718335 0.95973082 0.14429386 0.68657704]\n",
      "   [0.61062021 0.05997423 0.54224856 0.27708746 0.54126299]\n",
      "   [0.2112452  0.51279385 0.77397233 0.98035107 0.24278792]\n",
      "   [0.61843763 0.81889318 0.33658114 0.13504776 0.26473453]]]\n",
      "\n",
      "\n",
      " [[[0.91727027 0.31888022 0.0042296  0.88873996 0.65899443]\n",
      "   [0.30360895 0.97607079 0.78938955 0.95203564 0.22717149]\n",
      "   [0.52430228 0.1909654  0.77036429 0.43275876 0.2149324 ]\n",
      "   [0.19925007 0.13218038 0.4595934  0.87353354 0.30049136]]\n",
      "\n",
      "  [[0.16253306 0.49330148 0.80697917 0.38214721 0.31067634]\n",
      "   [0.21028706 0.04591616 0.04764809 0.28970626 0.76880819]\n",
      "   [0.99562232 0.11279619 0.77753189 0.24215657 0.72466791]\n",
      "   [0.39835799 0.49779732 0.50321394 0.48017022 0.17210317]]\n",
      "\n",
      "  [[0.4421751  0.04484348 0.71716269 0.75238678 0.24871245]\n",
      "   [0.08096401 0.11149608 0.91329679 0.61971518 0.26633211]\n",
      "   [0.7162773  0.07077881 0.75523641 0.76140508 0.20409387]\n",
      "   [0.89232713 0.864612   0.01000543 0.28110155 0.52319478]]]]\n"
     ]
    }
   ],
   "source": [
    "arr_4d = np.random.rand(2, 3, 4, 5)\n",
    "\n",
    "# Slicing using ellipsis to access the entire array along all dimensions except the last\n",
    "\n",
    "sliced_4d_array = arr_4d[..., 2]\n",
    "print(sliced_4d_array)\n",
    "print(arr_4d)\n",
    "\n",
    "# Output: A slice of the third column along the last dimension for all 3D arrays"
   ]
  },
  {
   "cell_type": "code",
   "execution_count": 40,
   "id": "54dffadc-9775-41d8-b41e-756883a40c21",
   "metadata": {},
   "outputs": [
    {
     "name": "stdout",
     "output_type": "stream",
     "text": [
      "1\n",
      "2\n",
      "3\n",
      "4\n",
      "5\n",
      "6\n"
     ]
    }
   ],
   "source": [
    "import numpy as np\n",
    "arr = np.array([[1, 2, 3], [4, 5, 6]])\n",
    "\n",
    "for row in arr:\n",
    "    for element in row:\n",
    "        print(element)"
   ]
  },
  {
   "cell_type": "code",
   "execution_count": 41,
   "id": "b67457ad-4e2b-4a82-b7cc-e46b33c7c1ff",
   "metadata": {},
   "outputs": [
    {
     "name": "stdout",
     "output_type": "stream",
     "text": [
      "[[ 0.84147098  0.90929743  0.14112001]\n",
      " [-0.7568025  -0.95892427 -0.2794155 ]]\n"
     ]
    }
   ],
   "source": [
    "result = np.sin(arr)\n",
    "print(result)"
   ]
  },
  {
   "cell_type": "code",
   "execution_count": 45,
   "id": "3a80b549-14dd-4f6d-a5a0-6f84db5da77b",
   "metadata": {},
   "outputs": [
    {
     "name": "stdout",
     "output_type": "stream",
     "text": [
      "((array([0, 1]), array([1, 1])), (2, 3))\n"
     ]
    }
   ],
   "source": [
    "# Using NumPy's unravel_index to get indices for specific values\n",
    "\n",
    "target_values = [2, 5]\n",
    "\n",
    "indices = (np.where(np.isin(arr, target_values)), arr.shape)\n",
    "\n",
    "print(indices)\n",
    "\n",
    "# Output: (array([0, 1]), array([1, 1]))\n",
    "\n"
   ]
  },
  {
   "cell_type": "code",
   "execution_count": 51,
   "id": "0d67b200-2a74-4a9e-bad9-42ea755d74b4",
   "metadata": {},
   "outputs": [
    {
     "name": "stdout",
     "output_type": "stream",
     "text": [
      "Row 1 Sum: 6\n",
      "Row 2 Sum: 15\n"
     ]
    }
   ],
   "source": [
    "for i, row in enumerate(arr):\n",
    "    row_sum = np.sum(row)\n",
    "    print(f\"Row {i+1} Sum: {row_sum}\")"
   ]
  },
  {
   "cell_type": "code",
   "execution_count": 52,
   "id": "1939bd92-e068-467e-8e5c-ab165e9c8848",
   "metadata": {},
   "outputs": [
    {
     "name": "stdout",
     "output_type": "stream",
     "text": [
      "Result for Row 1: 2.0\n",
      "Result for Row 2: 5.0\n"
     ]
    }
   ],
   "source": [
    "def custom_function(row):\n",
    "    return row.mean()\n",
    "for i, row in enumerate(arr):\n",
    "    result = custom_function(row)\n",
    "    print(f\"Result for Row {i+1}: {result}\")"
   ]
  },
  {
   "cell_type": "code",
   "execution_count": 53,
   "id": "23adddbf-035a-4038-8c88-8b54cf3d0e69",
   "metadata": {},
   "outputs": [
    {
     "name": "stdout",
     "output_type": "stream",
     "text": [
      "[1 4]\n",
      "[2 5]\n",
      "[3 6]\n"
     ]
    }
   ],
   "source": [
    "for col in arr.transpose():\n",
    "    print(col)"
   ]
  },
  {
   "cell_type": "code",
   "execution_count": 54,
   "id": "d814b41f-0c34-45cb-9642-2184151e6a50",
   "metadata": {},
   "outputs": [
    {
     "name": "stdout",
     "output_type": "stream",
     "text": [
      "Any element in Column 1 greater than 5: False\n",
      "Any element in Column 2 greater than 5: False\n",
      "Any element in Column 3 greater than 5: True\n"
     ]
    }
   ],
   "source": [
    "for i, col in enumerate(arr.T):\n",
    "    any_greater_than_5 = np.any(col > 5)\n",
    "    print(f\"Any element in Column {i+1} greater than 5: {any_greater_than_5}\")"
   ]
  },
  {
   "cell_type": "code",
   "execution_count": 55,
   "id": "42f9bd9a-1621-4b2b-9969-eda7a4419dcb",
   "metadata": {},
   "outputs": [
    {
     "name": "stdout",
     "output_type": "stream",
     "text": [
      "Index: (0, 0), Value: 1\n",
      "Index: (0, 1), Value: 2\n",
      "Index: (0, 2), Value: 3\n",
      "Index: (1, 0), Value: 4\n",
      "Index: (1, 1), Value: 5\n",
      "Index: (1, 2), Value: 6\n",
      "Index: (0, 0), Value: 1\n",
      "Index: (0, 1), Value: 2\n",
      "Index: (0, 2), Value: 3\n",
      "Index: (1, 0), Value: 4\n",
      "Index: (1, 1), Value: 5\n",
      "Index: (1, 2), Value: 6\n"
     ]
    }
   ],
   "source": [
    "for index, value in np.ndenumerate(arr):\n",
    "    print(f\"Index: {index}, Value: {value}\")\n",
    "# Using ndindex to iterate over indices\n",
    "\n",
    "for index in np.ndindex(arr.shape):\n",
    "    print(f\"Index: {index}, Value: {arr[index]}\")"
   ]
  },
  {
   "cell_type": "code",
   "execution_count": 60,
   "id": "b271cd1f-24d2-48f0-af7d-e203c979cf1d",
   "metadata": {},
   "outputs": [
    {
     "name": "stdout",
     "output_type": "stream",
     "text": [
      "Index:(0, 0), Value:1\n",
      "Index:(0, 1), Value:2\n",
      "Index:(0, 2), Value:3\n",
      "Index:(1, 0), Value:4\n",
      "Index:(1, 1), Value:5\n",
      "Index:(1, 2), Value:6\n"
     ]
    }
   ],
   "source": [
    "for index , value in np.ndenumerate(arr):\n",
    "    print(f\"Index:{index}, Value:{value}\")\n",
    "    \n"
   ]
  },
  {
   "cell_type": "code",
   "execution_count": 61,
   "id": "ca94533c-9c5c-4bff-90c4-2bb68c23ff6c",
   "metadata": {},
   "outputs": [
    {
     "name": "stdout",
     "output_type": "stream",
     "text": [
      "Index:(0, 0), Value:1\n",
      "Index:(0, 1), Value:2\n",
      "Index:(0, 2), Value:3\n",
      "Index:(1, 0), Value:4\n",
      "Index:(1, 1), Value:5\n",
      "Index:(1, 2), Value:6\n"
     ]
    }
   ],
   "source": [
    "for index in np.ndindex(arr.shape):\n",
    "    print(f\"Index:{index}, Value:{arr[index]}\")"
   ]
  },
  {
   "cell_type": "code",
   "execution_count": 62,
   "id": "c2461191-db80-4f17-bbc8-0755578fc129",
   "metadata": {},
   "outputs": [
    {
     "name": "stdout",
     "output_type": "stream",
     "text": [
      "[[0 0 0]\n",
      " [0 0 0]]\n"
     ]
    }
   ],
   "source": [
    "condition = arr > 10\n",
    "\n",
    "result = np.where(condition, arr, 0)\n",
    "\n",
    "print(result)"
   ]
  },
  {
   "cell_type": "code",
   "execution_count": 64,
   "id": "868a4c40-2a74-4b2a-8810-3618251df942",
   "metadata": {},
   "outputs": [
    {
     "name": "stdout",
     "output_type": "stream",
     "text": [
      "[[0.5 1.  1.5]\n",
      " [2.  2.5 3. ]]\n"
     ]
    }
   ],
   "source": [
    "def custom_function(x):\n",
    "    return x / 2\n",
    "result = np.vectorize(custom_function)(arr)\n",
    "print(result)"
   ]
  },
  {
   "cell_type": "code",
   "execution_count": 66,
   "id": "bcce3aae-5b9a-4f48-8f0c-9bbdf5c7786c",
   "metadata": {},
   "outputs": [
    {
     "name": "stdout",
     "output_type": "stream",
     "text": [
      "[ 6 15]\n"
     ]
    }
   ],
   "source": [
    "def row_sum(row):\n",
    "    return np.sum(row)# Apply the function along the rows (axis=1)\n",
    "result = np.apply_along_axis(row_sum, axis=1, arr=arr)\n",
    "print(result)# Output: [ 6 15]"
   ]
  },
  {
   "cell_type": "code",
   "execution_count": 68,
   "id": "6137c9b4-5a36-42ff-81be-22fd68f1295b",
   "metadata": {},
   "outputs": [
    {
     "name": "stdout",
     "output_type": "stream",
     "text": [
      "[[0.2        0.28571429 0.33333333]\n",
      " [0.8        0.71428571 0.66666667]]\n"
     ]
    }
   ],
   "source": [
    "def normalize_column(col):\n",
    "    return col / np.sum(col)# Apply the function along the columns (axis=0)\n",
    "result = np.apply_along_axis(normalize_column, axis=0, arr=arr)\n",
    "print(result)"
   ]
  },
  {
   "cell_type": "code",
   "execution_count": 70,
   "id": "ad30855e-28c5-47c7-b24a-295bd1dc8682",
   "metadata": {},
   "outputs": [
    {
     "name": "stdout",
     "output_type": "stream",
     "text": [
      "[[2.]\n",
      " [5.]]\n"
     ]
    }
   ],
   "source": [
    "def moving_average(row):\n",
    "    return np.convolve(row, np.ones(3) / 3, mode='valid')\n",
    "# Apply the function along the rows (axis=1)\n",
    "result = np.apply_along_axis(moving_average, axis=1, arr=arr)\n",
    "print(result)"
   ]
  },
  {
   "cell_type": "code",
   "execution_count": 72,
   "id": "44244f56-570a-43ec-b630-5f713fad17e5",
   "metadata": {},
   "outputs": [
    {
     "name": "stdout",
     "output_type": "stream",
     "text": [
      "[1 2 3 4 5 6]\n"
     ]
    }
   ],
   "source": [
    "import numpy as np\n",
    "\n",
    "\n",
    "arr = np.array([[1, 2, 3], [4, 5, 6]])\n",
    "\n",
    "flattened_arr = arr.flatten()\n",
    "\n",
    "print(flattened_arr)\n",
    "\n",
    "# Output: [1 2 3 4 5 6 7 8 9]"
   ]
  },
  {
   "cell_type": "code",
   "execution_count": 74,
   "id": "963b3a68-f4a2-4825-b25e-9e16bce69cbf",
   "metadata": {},
   "outputs": [
    {
     "data": {
      "text/plain": [
       "array([1, 2, 3, 4, 5, 6])"
      ]
     },
     "execution_count": 74,
     "metadata": {},
     "output_type": "execute_result"
    }
   ],
   "source": [
    "arr = np.array([[1, 2, 3], [4, 5, 6]])\n",
    "raveled_arr = np.ravel(arr)\n",
    "raveled_arr"
   ]
  },
  {
   "cell_type": "code",
   "execution_count": 76,
   "id": "a763347b-45bf-4f93-9676-2f001206fded",
   "metadata": {},
   "outputs": [
    {
     "name": "stdout",
     "output_type": "stream",
     "text": [
      "[99  2  3  4  5  6]\n"
     ]
    },
    {
     "data": {
      "text/plain": [
       "array([[99,  2,  3],\n",
       "       [ 4,  5,  6]])"
      ]
     },
     "execution_count": 76,
     "metadata": {},
     "output_type": "execute_result"
    }
   ],
   "source": [
    "arr_flat = arr.flatten()\n",
    "arr[0, 0] = 99\n",
    "print(arr_flat)\n",
    "arr"
   ]
  },
  {
   "cell_type": "code",
   "execution_count": 87,
   "id": "c4c18206-0971-4c0a-9c47-fffdd9399742",
   "metadata": {},
   "outputs": [
    {
     "name": "stdout",
     "output_type": "stream",
     "text": [
      "[1 2 3 4 5 6]\n"
     ]
    }
   ],
   "source": [
    "arr = np.array([[1, 2, 3], [4, 5, 6]])\n",
    "fortran_flatten = np.array(arr, order='F').flatten()\n",
    "print(fortran_flatten)\n",
    "\n"
   ]
  },
  {
   "cell_type": "code",
   "execution_count": 83,
   "id": "e3940802-09f7-48aa-a5ae-f8bcef6eb53d",
   "metadata": {},
   "outputs": [
    {
     "name": "stdout",
     "output_type": "stream",
     "text": [
      "[1 2 3 4 5 6]\n"
     ]
    }
   ],
   "source": [
    "arr = np.array([[1, 2, 3], [4, 5, 6]])\n",
    "c_style_flatten = np.array(arr, order='C').flatten()\n",
    "print(c_style_flatten)\n",
    "\n",
    "# Output: [99 2 3 4 5 6]"
   ]
  },
  {
   "cell_type": "code",
   "execution_count": 88,
   "id": "ffbad5f8-88b1-4e73-b3af-b3380a801e90",
   "metadata": {},
   "outputs": [
    {
     "name": "stdout",
     "output_type": "stream",
     "text": [
      "[array([[1, 2]]), array([[3, 4],\n",
      "       [5, 6]])]\n"
     ]
    }
   ],
   "source": [
    "arr3 = np.array([[1, 2], [3, 4], [5, 6]])\n",
    "# Split along axis 0\n",
    "split_arr = np.split(arr3, [1])\n",
    "print(split_arr)\n",
    "# Output: [array([[1, 2]]), array([[3, 4],[5, 6]])]"
   ]
  },
  {
   "cell_type": "code",
   "execution_count": null,
   "id": "e816771a-3e9c-442b-a911-7ca6bb623ff1",
   "metadata": {},
   "outputs": [],
   "source": []
  }
 ],
 "metadata": {
  "kernelspec": {
   "display_name": "Python 3 (ipykernel)",
   "language": "python",
   "name": "python3"
  },
  "language_info": {
   "codemirror_mode": {
    "name": "ipython",
    "version": 3
   },
   "file_extension": ".py",
   "mimetype": "text/x-python",
   "name": "python",
   "nbconvert_exporter": "python",
   "pygments_lexer": "ipython3",
   "version": "3.12.4"
  }
 },
 "nbformat": 4,
 "nbformat_minor": 5
}
