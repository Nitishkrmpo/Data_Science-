{
 "cells": [
  {
   "cell_type": "code",
   "execution_count": null,
   "id": "7899c558-50ff-481a-84ae-acc110106b9e",
   "metadata": {},
   "outputs": [],
   "source": []
  },
  {
   "cell_type": "code",
   "execution_count": 64,
   "id": "b873d843-4ad4-419e-9160-bc4e91c73d20",
   "metadata": {},
   "outputs": [],
   "source": [
    "#\"0 Write a basic function to greet students.\n",
    "def greet():\n",
    "    print(\"Hello Student!\")"
   ]
  },
  {
   "cell_type": "code",
   "execution_count": 65,
   "id": "7a3aac6b-2343-464d-bd01-60fcdb9f0398",
   "metadata": {},
   "outputs": [
    {
     "name": "stdout",
     "output_type": "stream",
     "text": [
      "1\n",
      "4\n",
      "9\n",
      "16\n",
      "25\n",
      "36\n",
      "49\n",
      "64\n",
      "81\n",
      "100\n"
     ]
    }
   ],
   "source": [
    "#\u00100 Write a code that generates the squares of numbers from 1 to n using a generator\n",
    "def gen_square(n):\n",
    "    for i in range(1,n+1):\n",
    "        yield i**2\n",
    "square = gen_square(10)    # return iterable object \n",
    "for i in range (1,11):\n",
    "    print(next(square)) \n"
   ]
  },
  {
   "cell_type": "code",
   "execution_count": 66,
   "id": "fff98cbb-7e21-434d-ac5b-c4320d3aa25e",
   "metadata": {},
   "outputs": [
    {
     "name": "stdout",
     "output_type": "stream",
     "text": [
      "1\n",
      "2\n",
      "3\n",
      "4\n",
      "5\n",
      "6\n",
      "7\n",
      "8\n",
      "9\n",
      "11\n",
      "22\n",
      "33\n",
      "44\n",
      "55\n",
      "66\n",
      "77\n",
      "88\n",
      "99\n",
      "101\n",
      "The palindrome ends here:\n"
     ]
    }
   ],
   "source": [
    "# Write a code that generates palindromic numbers up to n using a generator\n",
    "def gen_palindin(n):\n",
    "    for i in range(1,n+1):\n",
    "        reversed_i= str(i)[::-1]\n",
    "        if(str(i)==reversed_i):\n",
    "            yield int(i)\n",
    "palin_number=gen_palindin(101)\n",
    "try:\n",
    "    for i in range(1,101):\n",
    "        print(next(palin_number))\n",
    "except StopIteration:\n",
    "    print(\"The palindrome ends here:\")\n",
    "        "
   ]
  },
  {
   "cell_type": "code",
   "execution_count": 67,
   "id": "c9cde6ed-ba44-4a6b-91ec-6b87e792aa4e",
   "metadata": {},
   "outputs": [
    {
     "name": "stdout",
     "output_type": "stream",
     "text": [
      "2\n",
      "6\n",
      "10\n",
      "14\n",
      "18\n",
      "22\n",
      "26\n",
      "30\n",
      "34\n",
      "38\n",
      "42\n",
      "46\n",
      "50\n",
      "54\n",
      "58\n",
      "62\n",
      "66\n",
      "70\n",
      "74\n",
      "78\n",
      "82\n",
      "86\n",
      "90\n",
      "94\n",
      "98\n",
      "No more even\n"
     ]
    }
   ],
   "source": [
    "#\u00190 Write a code that generates even numbers from 2 to n using a generator0\n",
    "def gen_even(n):\n",
    "    for i in range(n+1):\n",
    "        if i % 2 == 0:\n",
    "            yield i\n",
    "even = gen_even(100)\n",
    "try:\n",
    "    for i in even:\n",
    "        print(next(even))\n",
    "except StopIteration:\n",
    "    print(\"No more even\")\n",
    "\n",
    "\n",
    "    "
   ]
  },
  {
   "cell_type": "code",
   "execution_count": 68,
   "id": "5a8d31fa-244d-4b9e-a251-f500ac72041f",
   "metadata": {},
   "outputs": [
    {
     "name": "stdout",
     "output_type": "stream",
     "text": [
      "4\n",
      "16\n",
      "64\n"
     ]
    }
   ],
   "source": [
    "# Write a code that generates powers of two up to n using a generator\n",
    "def gen_pow_two(n):\n",
    "    for i in range(1,n+1):\n",
    "        if pow(2 , i)< n:\n",
    "            yield pow(2,i)\n",
    "pow_of_two=gen_pow_two(100)\n",
    "try:\n",
    "    for i in pow_of_two:\n",
    "        print(next(pow_of_two))\n",
    "except StopExpection:\n",
    "    print(\"no more power of two\")\n",
    "        \n",
    "        \n",
    "    \n",
    "    "
   ]
  },
  {
   "cell_type": "code",
   "execution_count": 69,
   "id": "cf06b529-5ef2-4929-abbe-f0d87295d322",
   "metadata": {},
   "outputs": [
    {
     "name": "stdout",
     "output_type": "stream",
     "text": [
      "1\n",
      "2\n",
      "3\n",
      "5\n",
      "7\n",
      "11\n",
      "13\n",
      "17\n",
      "19\n",
      "23\n",
      "29\n",
      "31\n",
      "37\n",
      "41\n",
      "43\n",
      "47\n",
      "53\n",
      "59\n",
      "61\n",
      "67\n",
      "71\n",
      "73\n",
      "79\n",
      "83\n",
      "89\n",
      "97\n",
      "no more prime\n"
     ]
    }
   ],
   "source": [
    "#4\u001e",
    "0 Write a code that generates prime numbers up to n using a generator0\n",
    "def gen_prime(n):\n",
    "    for i in range (1,n):\n",
    "        flag = True\n",
    "        for j in range (2, int(i**0.5) + 1) :\n",
    "            if i%j == 0:\n",
    "                flag = False\n",
    "                break\n",
    "        if flag==True:\n",
    "            yield i\n",
    "\n",
    "it_prime = gen_prime(100)\n",
    "try:\n",
    "    for i in range(1,100):\n",
    "        print(next(it_prime))\n",
    "except StopIteration:\n",
    "    print(\"no more prime\")\n",
    "    \n",
    "                \n",
    "                \n",
    "            \n",
    "                "
   ]
  },
  {
   "cell_type": "code",
   "execution_count": 70,
   "id": "cd1a648c-b69d-465c-9d4a-6a0041aa0334",
   "metadata": {},
   "outputs": [
    {
     "name": "stdout",
     "output_type": "stream",
     "text": [
      "7\n"
     ]
    }
   ],
   "source": [
    "#5  Write a code that uses a lambda function to calculate the sum of two numbers0\n",
    "lambda_sum = lambda x , y : x+y\n",
    "print(lambda_sum(2,5))"
   ]
  },
  {
   "cell_type": "code",
   "execution_count": 71,
   "id": "5bd19e39-f684-4dea-b893-6550e7560521",
   "metadata": {},
   "outputs": [
    {
     "name": "stdout",
     "output_type": "stream",
     "text": [
      "9\n"
     ]
    }
   ],
   "source": [
    "#4\"0 Write a code that uses a lambda function to calculate the square of a given number0\n",
    "lambda_square = lambda x : x*x\n",
    "print(lambda_square(3))"
   ]
  },
  {
   "cell_type": "code",
   "execution_count": 72,
   "id": "6c977f73-9f51-436a-a061-a04043d9bbb7",
   "metadata": {},
   "outputs": [
    {
     "name": "stdout",
     "output_type": "stream",
     "text": [
      "Odd\n"
     ]
    }
   ],
   "source": [
    "#4\u00110 Write a code that uses a lambda function to check whether a given number is even or odd0\n",
    "lambda_odd_eve=lambda x : x % 2 \n",
    "if lambda_odd_eve(5):\n",
    "    print(\"Odd\")\n",
    "else:\n",
    "    print(\"Even\")"
   ]
  },
  {
   "cell_type": "code",
   "execution_count": 73,
   "id": "d044a328-bff4-46df-9215-fe6a5da4d3a2",
   "metadata": {},
   "outputs": [
    {
     "data": {
      "text/plain": [
       "'HelloWorld'"
      ]
     },
     "execution_count": 73,
     "metadata": {},
     "output_type": "execute_result"
    }
   ],
   "source": [
    "#Write a code that uses a lambda function to concatenate two strings.\n",
    "lambda_combine = lambda x , y : x+y\n",
    "lambda_combine(\"Hello\",\"World\")"
   ]
  },
  {
   "cell_type": "raw",
   "id": "c5b009a1-c8e0-4e3e-9251-3a90b1218ca8",
   "metadata": {},
   "source": [
    "# Write a code that uses a lambda function to find the maximum of three given numbers0\n",
    "\n",
    "def max(a,b):\n",
    "    if a>b:\n",
    "        return a\n",
    "    else:\n",
    "        return b\n",
    "max_in_three= lambda a,b,c: max(a,max(b,c))\n",
    "\n",
    "a=input(\"Enter number1\")\n",
    "b=input(\"Enter number2\")\n",
    "c = input(\"Enter number3\")\n",
    "print(max_in_three(a,b,c))\n",
    "\n"
   ]
  },
  {
   "cell_type": "code",
   "execution_count": 74,
   "id": "be78440d-6dd3-410c-869a-fee585f9230b",
   "metadata": {},
   "outputs": [
    {
     "name": "stdout",
     "output_type": "stream",
     "text": [
      "4\n",
      "16\n",
      "36\n",
      "64\n",
      "100\n"
     ]
    }
   ],
   "source": [
    "#4&0 Write a code that generates the squares of even numbers from a given list\n",
    "def sq_of_list(n):\n",
    "    for i in n:\n",
    "        if i % 2 ==0:\n",
    "            print(i**2)\n",
    "n = [1,2,3,4,5,6,7,8,10]   \n",
    "sq_of_list(n)\n",
    "\n",
    "\n"
   ]
  },
  {
   "cell_type": "code",
   "execution_count": 75,
   "id": "221912a0-3397-4bb1-bb8a-ecc3c4ebd79f",
   "metadata": {},
   "outputs": [],
   "source": [
    "#Write a code that calculates the product of positive numbers from a given list\n",
    "def product_of_posit(n):\n",
    "    product=1\n",
    "    for i in n:\n",
    "        if i > 0:\n",
    "            product=product * i\n",
    "    print(product)\n",
    "lists=[-1,2,1,-3,-4,8]"
   ]
  },
  {
   "cell_type": "code",
   "execution_count": 76,
   "id": "c7b8800f-93c9-46d9-aa44-e44a0771d7f1",
   "metadata": {},
   "outputs": [
    {
     "name": "stdout",
     "output_type": "stream",
     "text": [
      "[1, 2, 9, 4, 25, 6, 49]\n"
     ]
    }
   ],
   "source": [
    "#Write a code that doubles the values of odd numbers from a given list0\n",
    "def double_value(n):\n",
    "    for i in range(len(n)):\n",
    "        if n[i] % 2==1:\n",
    "            n[i]=n[i]*n[i]\n",
    "    return n\n",
    "n=double_value([1,2,3,4,5,6,7])\n",
    "print(n)\n",
    "\n"
   ]
  },
  {
   "cell_type": "code",
   "execution_count": 77,
   "id": "982dc6d6-0a45-4f97-aa3d-30e0dbd5db58",
   "metadata": {},
   "outputs": [
    {
     "name": "stdout",
     "output_type": "stream",
     "text": [
      "784\n"
     ]
    }
   ],
   "source": [
    "# Write a code that calculates the sum of cubes of numbers from a given list0\n",
    "list1 = [1,2,3,4,5,6,7]\n",
    "def sum_of_cubes(list1):\n",
    "    sum=0\n",
    "    for i in range(len(list1)):\n",
    "        sum = sum + list1[i]*list1[i]*list1[i]\n",
    "    print(sum)\n",
    "sum_of_cubes(list1)"
   ]
  },
  {
   "cell_type": "code",
   "execution_count": 78,
   "id": "f961ecf8-871c-4317-b4e5-df8cd0c72a54",
   "metadata": {},
   "outputs": [
    {
     "name": "stdout",
     "output_type": "stream",
     "text": [
      "[2, 3, 5]\n"
     ]
    }
   ],
   "source": [
    "#Write a code that filters out prime numbers from a given list\n",
    "def is_prime(num):\n",
    "    if num <= 1:\n",
    "        return False\n",
    "    for i in range(2, int(num**0.5) + 1):\n",
    "        if num % i == 0:\n",
    "            return False\n",
    "    return True\n",
    "\n",
    "def filter_prime(list1):\n",
    "    list2 = [num for num in list1 if is_prime(num)]\n",
    "    return list2\n",
    "\n",
    "list1 = [1, 2, 3, 4, 5, 6]\n",
    "list2 = filter_prime(list1)\n",
    "print(list2)\n"
   ]
  },
  {
   "cell_type": "code",
   "execution_count": 79,
   "id": "da7f5171-6865-4e41-8f89-83cddb285a99",
   "metadata": {},
   "outputs": [
    {
     "data": {
      "text/plain": [
       "8"
      ]
     },
     "execution_count": 79,
     "metadata": {},
     "output_type": "execute_result"
    }
   ],
   "source": [
    "#\"\"0 Write a code that uses a lambda function to calculate the sum of two numbers\n",
    "lam_sum = lambda x , y : x+y\n",
    "lam_sum(5,3)\n",
    "\n",
    "\n"
   ]
  },
  {
   "cell_type": "code",
   "execution_count": 80,
   "id": "ff46c7ac-78b6-4eb0-9a70-5911c8ac419c",
   "metadata": {},
   "outputs": [
    {
     "name": "stdout",
     "output_type": "stream",
     "text": [
      "25\n"
     ]
    }
   ],
   "source": [
    "#\"\u00110 Write a code that uses a lambda function to calculate the square of a given number0\n",
    "lam_square = lambda x : x*x;\n",
    "\n",
    "print(lam_square(5))\n",
    "\n",
    "\n",
    "\n"
   ]
  },
  {
   "cell_type": "code",
   "execution_count": 81,
   "id": "8b3dd8c4-0556-41fa-a2f5-21d2afc6dee9",
   "metadata": {},
   "outputs": [
    {
     "name": "stdout",
     "output_type": "stream",
     "text": [
      "Odd\n",
      "\n"
     ]
    }
   ],
   "source": [
    "#\"-0 Write a code that uses a lambda function to check whether a given number is even or odd0\n",
    "number_even=lambda x : x%2==1\n",
    "n=number_even(3)\n",
    "if(n==0):\n",
    "    print(\"Even\\n\")\n",
    "else:\n",
    "    print(\"Odd\\n\")\n",
    "\n",
    "\n",
    "\n",
    "\n",
    "\n",
    "\n",
    "\n",
    "\n",
    "\n",
    "\n",
    "\n",
    "\n"
   ]
  },
  {
   "cell_type": "code",
   "execution_count": null,
   "id": "41665fd4-4b0b-4c06-82db-516e831eb51b",
   "metadata": {},
   "outputs": [
    {
     "name": "stdin",
     "output_type": "stream",
     "text": [
      "Enter the String1 hello world \n"
     ]
    }
   ],
   "source": [
    "#\"!0 Write a code that uses a lambda function to concatenate two strings0\n",
    "\n",
    "concat_string= lambda str1 , str2 : str1+\" \"+str2\n",
    "s = input(\"Enter the String1\")\n",
    "p=input(\"Enter the String2\")\n",
    "\n",
    "concat_string(s,p)\n",
    "\n"
   ]
  },
  {
   "cell_type": "code",
   "execution_count": null,
   "id": "5245805c-f1b4-4edf-b5b1-b36e1ca7f024",
   "metadata": {},
   "outputs": [],
   "source": [
    "#\"\u00100 Write a code that uses a lambda function to find the maximum of three given numbers0\n",
    "def max(a,b):\n",
    "    if a>b:\n",
    "        return a\n",
    "    else:\n",
    "        return b\n",
    "max_in_three= lambda a,b,c: max(a,max(b,c))\n",
    "\n",
    "a=input(\"Enter number1\")\n",
    "b=input(\"Enter number2\")\n",
    "c = input(\"Enter number3\")\n",
    "print(max_in_three(a,b,c))\n",
    "\n",
    "\n",
    "\n"
   ]
  },
  {
   "cell_type": "code",
   "execution_count": null,
   "id": "6e441e9c-2b3d-4dda-bcb5-eb6131b3d519",
   "metadata": {},
   "outputs": [],
   "source": [
    "#\u001aK\u001c",
    " Define a parent class Animal with a method make_sound that prints \"Generic animal sound\". Create a \n",
    "#child class Dog inheriting from Animal with a method make_sound that prints \"Woof!\"\u001c",
    "\n",
    "class Animal:\n",
    "    def make_sound(self):\n",
    "        print(\"woof!\")\n",
    "    def __init__(self):\n",
    "        print(\"Inside the Animal class\")\n",
    "class Dog(Animal):\n",
    "    \n",
    "    def __init__(self):\n",
    "        print(\"Inside the Dog Class\")\n",
    "labra = Dog()\n",
    "labra.make_sound()\n",
    "\n"
   ]
  },
  {
   "cell_type": "code",
   "execution_count": null,
   "id": "ea941cf4-aeaa-4b1e-9809-d758d177dbe5",
   "metadata": {},
   "outputs": [],
   "source": [
    "#\u001a\u001a\u001c",
    " Define a method move in the Animal class that prints \"Animal moves\". Override the move method in the \n",
    "#Dog class to print \"Dog runs.8\n",
    "class Animal:\n",
    "    def move(self):\n",
    "        print(\"Inside the Animal class\")\n",
    "\n",
    "class Dog(Animal):\n",
    "    def move(self):\n",
    "        print(\"Dog runs\")\n",
    "state = Dog()\n",
    "state.move()\n"
   ]
  },
  {
   "cell_type": "code",
   "execution_count": null,
   "id": "2f24cfa7-c5ea-455e-b32f-becbff6f654d",
   "metadata": {},
   "outputs": [],
   "source": [
    "#\u001aH\u001c",
    " Create a class Mammal with a method reproduce that prints \"Giving birth to live young.\" Create a class \n",
    "#DogMammal inheriting from both Dog and Mammal\u001c",
    "\n",
    "\n",
    "class Mammal:\n",
    "    def reproduce(self):\n",
    "        print(\"Giving Birth to live young ,inside Mammal Class! \")\n",
    "class Dog:\n",
    "    def sound(self):\n",
    "        print(\"Barks!\")\n",
    "        \n",
    "class DogMammal(Mammal, Dog):\n",
    "    #pass to not to give nside the method\n",
    "    def useless(self):\n",
    "        print()\n",
    "mam_do=DogMammal()\n",
    "mam_do.reproduce()\n",
    "mam_do.sound()"
   ]
  },
  {
   "cell_type": "code",
   "execution_count": null,
   "id": "fbbf84e6-f472-4a75-ab2f-643699bb0122",
   "metadata": {},
   "outputs": [],
   "source": [
    "#\u001a\u0017\u001c",
    " Create a class GermanShepherd inheriting from Dog and override the make_sound method to print \n",
    "#\"Bark!8\n",
    "class Dog:\n",
    "    def make_sound(self):\n",
    "        print(\"Inside the Dog class\")\n",
    "\n",
    "class German_Shepherd(Dog):\n",
    "    def make_sound(self):\n",
    "        print(\"Barks!\")\n",
    "\n",
    "dog1 = German_Shepherd()\n",
    "dog1.make_sound()\n",
    "\n",
    "\n"
   ]
  },
  {
   "cell_type": "code",
   "execution_count": null,
   "id": "133de6f8-9582-42fd-989b-7084bda8db5d",
   "metadata": {},
   "outputs": [],
   "source": [
    "#\u001a\u0015\u001c",
    " Define constructors in both the Animal and Dog classes with different initialization parameters\n",
    "\n",
    "class Animal:\n",
    "    def __init__(self , a ,b):\n",
    "        print(a)\n",
    "        print(b)\n",
    "        print(\"Two parameter inside the Animal class Constructor\")\n",
    "\n",
    "class Dog(Animal):\n",
    "    def __init__(self, d , e, f ,g  ):\n",
    "        Animal(d,e)\n",
    "        print(f)\n",
    "        print(g)\n",
    "        print(\"Four  parameter inside the Dog class Constructor  \")\n",
    "\n",
    "labra = Dog(1,2,3,4)\n"
   ]
  },
  {
   "cell_type": "code",
   "execution_count": null,
   "id": "f6f68914-c006-4544-9051-50497796c2a5",
   "metadata": {},
   "outputs": [],
   "source": [
    "\n"
   ]
  },
  {
   "cell_type": "code",
   "execution_count": null,
   "id": "d51a356a-91f5-4614-9cd1-fc8448d13c97",
   "metadata": {},
   "outputs": [],
   "source": [
    "\n",
    "#\u0017\"\u001c",
    " Why is encapsulation considered a pillar of object-oriented programming (OOP)?\n",
    "\n",
    "print(\"Encapsulation, a core OOP principle, hides a class's internal details and exposes only a controlled interface. This promotes data protection, controlled access, and modularity, enhancing maintainability and security. By managing how attributes are accessed and modified, encapsulation simplifies interaction with complex systems and safeguards object integrity.\")\n",
    "\n",
    "\n"
   ]
  },
  {
   "cell_type": "code",
   "execution_count": null,
   "id": "60976976-d87e-4146-9504-896b02a55953",
   "metadata": {},
   "outputs": [],
   "source": [
    "#H\u001e",
    "\u001c",
    " Implement a class BankAccount with a private balance attribute. Include methods to deposit, withdraw, \n",
    "#  and check the balance\u001c",
    "\n",
    "class BankAccount:\n",
    "    def __init__(self,balance):\n",
    "        self._balance = balance\n",
    "    def deposit(self,amount):\n",
    "        self._balance = self._balance + amount\n",
    "        return self._balance\n",
    "    def withdraw(self,amount):\n",
    "        if(amount>self._balance):\n",
    "            print(\"Balance is not available \")\n",
    "            pass\n",
    "        else:\n",
    "            self._balance = self._balance - amount\n",
    "            return self._balance \n",
    "    def check(self):\n",
    "        return self._balance\n",
    "obj1 = BankAccount(1000)\n",
    "print(obj1.deposit(2321))\n",
    "print(obj1.withdraw(1200))\n",
    "print(obj1.check())\n",
    " \n"
   ]
  },
  {
   "cell_type": "code",
   "execution_count": null,
   "id": "c7f5a409-2ab5-4372-959a-1a5b0a0e9b51",
   "metadata": {},
   "outputs": [],
   "source": [
    "#\u0017D\u001c",
    " Develop a Person class with private attributes name and email, and methods to set and get the email\u001c",
    "\n",
    "class person:\n",
    "    def __init__(self,name,email):\n",
    "        self._name = name\n",
    "        self._email= email\n",
    "    def getEmail(self):\n",
    "        return self._email\n",
    "    def setName(self , name):\n",
    "        self._name = name \n",
    "    def setEmail(self, email):\n",
    "        self._email=email\n",
    "    def getName(self ):\n",
    "        return self._name\n",
    "    \n",
    "obj1 = person('Nitish','nitishkumarmpo@gmail.com')\n",
    "print(obj1.getEmail())\n",
    "print(obj1.getName())\n",
    "obj1.setName('Manish')\n",
    "obj1.setEmail('manishkumarmpo@gmail.com')\n",
    "print(obj1.getEmail())\n",
    "print(obj1.getName())\n",
    "\n",
    "\n"
   ]
  },
  {
   "cell_type": "code",
   "execution_count": null,
   "id": "abe9537f-69f2-4981-a5f0-e165272340f0",
   "metadata": {},
   "outputs": [],
   "source": [
    "#23/ Create a decorator in Python that adds functionality to a simple function by printing a message before \n",
    "#and after the function execution/\n",
    "\n",
    "def function():\n",
    "    print(\"The main function is called\")\n",
    "def decorator(function):\n",
    "    def wrapper():\n",
    "        print(\"function is going to be called\")\n",
    "        function()\n",
    "        print(\"function is not going to be called\")\n",
    "    return wrapper\n",
    "obj2 = decorator(function)\n",
    "obj2()\n",
    "\n"
   ]
  },
  {
   "cell_type": "code",
   "execution_count": null,
   "id": "888fdf6a-eadc-47fc-94ea-8b483815c1ac",
   "metadata": {},
   "outputs": [],
   "source": [
    "def function():\n",
    "    print(\"The main function is called\")\n",
    "\n",
    "def decorator(func):\n",
    "    def wrapper(*args, **kwargs):\n",
    "        print(f\"Function '{func.__name__}' is going to be called\")\n",
    "        func(*args, **kwargs)  # Call the main function with any arguments\n",
    "        print(f\"Function '{func.__name__}' has been called\")\n",
    "    return wrapper\n",
    "\n",
    "# Applying the decorator\n",
    "obj2 = decorator(function)\n",
    "obj2()\n"
   ]
  },
  {
   "cell_type": "code",
   "execution_count": null,
   "id": "44adb6f4-5e69-4474-8475-b9eba9ac4dbb",
   "metadata": {},
   "outputs": [],
   "source": [
    "#2-/ Create a Python class StringFormatter with a static method reverse_string that takes a string as input \n",
    "#and returns its reverse/\n",
    "\n",
    "class StringFormatter:\n",
    "    @staticmethod\n",
    "    def reverse_string(s):\n",
    "        return s[::-1]\n",
    "\n",
    "# Example usage:\n",
    "reversed_string = StringFormatter.reverse_string(\"Hello, World!\")\n",
    "print(reversed_string)\n"
   ]
  },
  {
   "cell_type": "code",
   "execution_count": null,
   "id": "4647f1d7-1ed8-4baa-95dd-0d8aea7334ae",
   "metadata": {},
   "outputs": [],
   "source": [
    "#24/ Create a Python class Calculator with a static method add that takes in two numbers and returns their \n",
    "#sum\n",
    "\n",
    "\n",
    "class Calculator:\n",
    "    @staticmethod\n",
    "    def add(a, b):\n",
    "        return a + b\n",
    "\n",
    "# Example usage:\n",
    "result = Calculator.add(10, 20)\n",
    "print(result)  # Output: 30\n"
   ]
  },
  {
   "cell_type": "code",
   "execution_count": null,
   "id": "0296954e-314a-4c90-bcef-cb0c386744a2",
   "metadata": {},
   "outputs": [],
   "source": [
    "#2\u001d",
    "/ Create a Python class Employee with a class method get_employee_count that returns the total \n",
    "#number of employees created/\n",
    "class Employee:\n",
    "    _employee_count = 0\n",
    "\n",
    "    def __init__(self, name):\n",
    "        self.name = name\n",
    "        Employee._employee_count += 1\n",
    "\n",
    "    @classmethod\n",
    "    def get_employee_count(cls):\n",
    "        return cls._employee_count\n",
    "\n",
    "# Example usage:\n",
    "emp1 = Employee(\"Alice\")\n",
    "emp2 = Employee(\"Bob\")\n",
    "print(Employee.get_employee_count())  # Output: 2\n"
   ]
  },
  {
   "cell_type": "code",
   "execution_count": null,
   "id": "636724d0-bcdd-455d-8da4-ff8f4836a685",
   "metadata": {},
   "outputs": [],
   "source": [
    "\n",
    "#\u001a;/ Create a Python class Circle with a class method calculate_area that calculates the area of a circle \n",
    "#given its radius/\n",
    "import math\n",
    "\n",
    "class Circle:\n",
    "    @classmethod\n",
    "    def calculate_area(cls, radius):\n",
    "        return math.pi * radius * radius\n",
    "\n",
    "# Example usage:\n",
    "area = Circle.calculate_area(5)\n",
    "print(f\"The area of the circle with radius 5 is: {area}\")\n"
   ]
  },
  {
   "cell_type": "code",
   "execution_count": null,
   "id": "83afb323-f8ce-4eda-a873-6e30e7f78b56",
   "metadata": {},
   "outputs": [],
   "source": [
    "\n",
    "#4\u000e/ How does encapsulation relate to property decorators in Python? Provide an example showcasing \n",
    "#encapsulation using property decorators.\n",
    "print(\"Property decorators in Python enhance encapsulation by controlling access to attributes through getter, setter, and deleter methods. They ensure controlled interactions with private data, enforce validation, and simplify complex behaviors. This approach maintains data integrity and encapsulates internal state, providing a clear and secure interface.\")"
   ]
  },
  {
   "cell_type": "code",
   "execution_count": null,
   "id": "e34fc1f1-978a-41a9-9b1d-a9b54ebdf2c8",
   "metadata": {},
   "outputs": [],
   "source": [
    "#\u001a\u000e/ Create a Python class `TemperatureConverter` with a static method `celsius_to_fahrenheit` that converts \n",
    "#Celsius to Fahrenheit\n",
    "\n",
    "class TemperatureConverter:\n",
    "    def __init__(self,temp):\n",
    "        self.temp= temp\n",
    "    @staticmethod\n",
    "    def convert(self):\n",
    "        return (1.8*self.temp+32)\n",
    "obj1= TemperatureConverter(36)\n",
    "TemperatureConverter.convert(obj1)\n",
    "        "
   ]
  },
  {
   "cell_type": "code",
   "execution_count": null,
   "id": "1e55a642-cafd-496e-a6e1-fb37d42ce45e",
   "metadata": {},
   "outputs": [],
   "source": [
    "#2-/ Create a Python class `StringFormatter` with a static method `reverse_string` that takes a string as input \n",
    "#and returns its reverse/\n",
    "\n",
    "class StringFormatter:\n",
    "    def __init__(self,str1):\n",
    "        self.str1= str1\n",
    "    @staticmethod\n",
    "    def reverse(self):\n",
    "        str2= self.str1[::-1]\n",
    "        return str2\n",
    "obj1=StringFormatter(\"Nitish Kumar\") \n",
    "print(StringFormatter.reverse(obj1))\n",
    "\n"
   ]
  },
  {
   "cell_type": "code",
   "execution_count": null,
   "id": "08fc6c80-acd0-4129-88ff-c689ef40beeb",
   "metadata": {},
   "outputs": [],
   "source": [
    "#2&/ Create two decorators, and apply them to a single function. Ensure that they execute in the order they are \n",
    "#applied/\n",
    "def function():\n",
    "    print(\"Inside the main funtion call\")\n",
    "def decorator1(func):\n",
    "    def wrapper():\n",
    "        print(\"Inside the decorator1\")\n",
    "        func()\n",
    "        print(\"decorator1 is finished\")\n",
    "    return wrapper\n",
    "def decorator2(func):\n",
    "    def wrapper():\n",
    "        print(\"Inside the decorator2\")\n",
    "        func()\n",
    "        print(\"decorator2 is finished\")\n",
    "    return wrapper\n",
    "obj1=decorator2(decorator1(function))\n",
    "obj1()\n",
    "    "
   ]
  },
  {
   "cell_type": "code",
   "execution_count": null,
   "id": "813649eb-e2f6-4ab2-b2e0-71baf0dd89af",
   "metadata": {},
   "outputs": [],
   "source": [
    "\n",
    "#4;/ Explain the use of the @deleter decorator in Python property decorators. Provide a code example \n",
    "#demonstrating its application/\n",
    "#The @deleter decorator is used to define a method that will be called when an attribute is deleted. This allows for custom behavior when removing an attribute.\n",
    "class Person:\n",
    "    def __init__(self, name):\n",
    "        self._name = name\n",
    "    \n",
    "    @property\n",
    "    def name(self):\n",
    "        return self._name\n",
    "    \n",
    "    @name.setter\n",
    "    def name(self, value):\n",
    "        self._name = value\n",
    "    \n",
    "    @name.deleter\n",
    "    def name(self):\n",
    "        print(\"Deleting name...\")\n",
    "        del self._name\n",
    "\n",
    "# Usage\n",
    "p = Person(\"John\")\n",
    "print(p.name)   # Outputs: John\n",
    "del p.name      # Outputs: Deleting name...\n"
   ]
  },
  {
   "cell_type": "code",
   "execution_count": null,
   "id": "4bb6da53-fbc5-41b1-8e6a-58beb9391b81",
   "metadata": {},
   "outputs": [],
   "source": [
    "\n",
    "#2\u001a/ Create a decorator that preserves the metadata of the original function/\n",
    "import functools\n",
    "\n",
    "def my_decorator(func):\n",
    "    @functools.wraps(func)\n",
    "    def wrapper(*args, **kwargs):\n",
    "        print(\"Before the function call\")\n",
    "        result = func(*args, **kwargs)\n",
    "        print(\"After the function call\")\n",
    "        return result\n",
    "    return wrapper\n",
    "\n",
    "@my_decorator\n",
    "def say_hello(name, greeting=\"Hello\"):\n",
    "    \"\"\"Greet someone with a given greeting.\"\"\"\n",
    "    print(f\"{greeting}, {name}!\")\n",
    "\n",
    "# Usage\n",
    "say_hello(\"Alice\")\n",
    "print(say_hello.__name__)  # Outputs: say_hello\n",
    "print(say_hello.__doc__)   # Outputs: Greet someone with a given greeting.\n",
    "\n"
   ]
  },
  {
   "cell_type": "code",
   "execution_count": null,
   "id": "2f3ee598-4ab2-493c-a91a-5658a2c978ba",
   "metadata": {},
   "outputs": [],
   "source": [
    "\n",
    "#\u001a3/ What is the purpose of the __str__() method in Python classes? Provide an example/\n",
    "class Book:\n",
    "    def __init__(self, title, author):\n",
    "        self.title = title\n",
    "        self.author = author\n",
    "    \n",
    "    def __str__(self):\n",
    "        return f\"'{self.title}' by {self.author}\"\n",
    "\n",
    "# Usage\n",
    "book = Book(\"1984\", \"George Orwell\")\n",
    "print(book)  \n"
   ]
  },
  {
   "cell_type": "code",
   "execution_count": null,
   "id": "d6b5d397-cc6e-4ff5-96d7-586a5e28cd1d",
   "metadata": {},
   "outputs": [],
   "source": [
    "\n",
    "#\u001a\u0011/ How does the __len__() method work in Python? Provide an example/\n",
    "\"\"\"The __len__() method is used to define the behavior of the len() function for objects of a class. It returns the length of the object.\"\"\"\n",
    "class MyList:\n",
    "    def __init__(self, items):\n",
    "        self.items = items\n",
    "    \n",
    "    def __len__(self):\n",
    "        return len(self.items)\n",
    "\n",
    "# Usage\n",
    "my_list = MyList([1, 2, 3, 4, 5])\n",
    "print(len(my_list))  \n"
   ]
  },
  {
   "cell_type": "code",
   "execution_count": null,
   "id": "0a0e1733-ad39-4ba4-b662-80f25e27e377",
   "metadata": {},
   "outputs": [],
   "source": [
    "\n",
    "#\u001a&/ Explain the usage of the __add__() method in Python classes. Provide an example/\n",
    "\n",
    "#The __add__() method allows you to define custom behavior for the addition operator (+) in your classes.\n",
    "\n",
    "class Point:\n",
    "    def __init__(self, x, y):\n",
    "        self.x = x\n",
    "        self.y = y\n",
    "    \n",
    "    def __add__(self, other):\n",
    "        return Point(self.x + other.x, self.y + other.y)\n",
    "    \n",
    "    def __str__(self):\n",
    "        return f\"({self.x}, {self.y})\"\n",
    "\n",
    "# Usage\n",
    "p1 = Point(1, 2)\n",
    "p2 = Point(3, 4)\n",
    "p3 = p1 + p2\n",
    "print(p3)  # Outputs: (4, 6)\n"
   ]
  },
  {
   "cell_type": "code",
   "execution_count": null,
   "id": "311ba04e-5e46-4956-aeb9-ad6bcf612f9f",
   "metadata": {},
   "outputs": [],
   "source": [
    "\n",
    "#\u001a2/ What is the purpose of the __getitem__() method in Python? Provide an example/\n",
    "#The __getitem__() method allows you to define how an object responds to indexing operations using square brackets (e.g., obj[key]).\n",
    "class MyList:\n",
    "    def __init__(self, items):\n",
    "        self.items = items\n",
    "    \n",
    "    def __getitem__(self, index):\n",
    "        return self.items[index]\n",
    "\n",
    "# Usage\n",
    "my_list = MyList([10, 20, 30, 40, 50])\n",
    "print(my_list[2])  # Outputs: 30\n"
   ]
  },
  {
   "cell_type": "code",
   "execution_count": null,
   "id": "1a0f4367-4454-4b4a-bcd9-f97df49e24bb",
   "metadata": {},
   "outputs": [],
   "source": [
    "\n",
    "#\u001a\u001a/ Explain the usage of the __iter__() and __next__() methods in Python. Provide an example using \n",
    "#iterators/\n",
    "#The __iter__() method returns an iterator object, which is an object that implements the __next__() method. The __next__() method returns the next item in the sequence, and raises StopIteration when there are no more items.\n",
    "class Counter:\n",
    "    def __init__(self, low, high):\n",
    "        self.current = low\n",
    "        self.high = high\n",
    "    \n",
    "    def __iter__(self):\n",
    "        return self\n",
    "    \n",
    "    def __next__(self):\n",
    "        if self.current > self.high:\n",
    "            raise StopIteration\n",
    "        else:\n",
    "            self.current += 1\n",
    "            return self.current - 1\n",
    "\n",
    "# Usage\n",
    "counter = Counter(1, 5)\n",
    "for count in counter:\n",
    "    print(count)\n",
    "\n"
   ]
  },
  {
   "cell_type": "code",
   "execution_count": null,
   "id": "3da8eb5e-4ee7-45d3-85d2-64a68608ba43",
   "metadata": {},
   "outputs": [],
   "source": [
    "\n",
    "#\u001a4/ What is the purpose of a getter method in Python? Provide an example demonstrating the use of a getter \n",
    "#method using property decorators/\n",
    "\n",
    "#A getter method allows you to control access to an attribute and define custom behavior when accessing it. The @property decorator is used to define a getter method.\n",
    "class Celsius:\n",
    "    def __init__(self, temperature=0):\n",
    "        self._temperature = temperature\n",
    "    \n",
    "    @property\n",
    "    def temperature(self):\n",
    "        return self._temperature\n",
    "\n",
    "# Usage\n",
    "temp = Celsius(25)\n",
    "print(temp.temperature)  # Outputs: 25\n",
    "\n"
   ]
  },
  {
   "cell_type": "code",
   "execution_count": null,
   "id": "14273d32-491f-4f07-b254-500208dfcf4d",
   "metadata": {},
   "outputs": [],
   "source": [
    "#\u001a\u001d",
    "/ Explain the role of setter methods in Python. Demonstrate how to use a setter method to modify a class \n",
    "#attribute using property decorators/\n",
    "#A setter method allows you to define custom behavior when assigning a value to an attribute. The @<property>.setter decorator is used to define a setter method.\n",
    "class Celsius:\n",
    "    def __init__(self, temperature=0):\n",
    "        self._temperature = temperature\n",
    "    \n",
    "    @property\n",
    "    def temperature(self):\n",
    "        return self._temperature\n",
    "    \n",
    "    @temperature.setter\n",
    "    def temperature(self, value):\n",
    "        if value < -273.15:\n",
    "            raise ValueError(\"Temperature below -273.15 is not possible\")\n",
    "        self._temperature = value\n",
    "\n",
    "# Usage\n",
    "temp = Celsius()\n",
    "temp.temperature = 30\n",
    "print(temp.temperature)  \n"
   ]
  },
  {
   "cell_type": "code",
   "execution_count": null,
   "id": "13f3dc39-4c97-40ad-b1b7-463a6b8dcf9a",
   "metadata": {},
   "outputs": [],
   "source": [
    "#\u001a-/ What is the purpose of the @property decorator in Python? Provide an example illustrating its usage/\n",
    "#The @property decorator allows you to define methods in a class that can be accessed like attributes. It's used to create getter methods.\n",
    "class Circle:\n",
    "    def __init__(self, radius):\n",
    "        self._radius = radius\n",
    "    \n",
    "    @property\n",
    "    def radius(self):\n",
    "        return self._radius\n",
    "    \n",
    "    @property\n",
    "    def area(self):\n",
    "        return 3.14159 * (self._radius ** 2)\n",
    "\n",
    "# Usage\n",
    "c = Circle(5)\n",
    "print(c.radius)  # Outputs: 5\n",
    "print(c.area)    # Outputs: 78.53975\n",
    "\n"
   ]
  },
  {
   "cell_type": "code",
   "execution_count": null,
   "id": "5fcfacde-44f7-4ba8-8b8a-4ace4017bda0",
   "metadata": {},
   "outputs": [],
   "source": [
    "\n",
    "\n",
    "\n",
    "\n",
    "\n"
   ]
  },
  {
   "cell_type": "code",
   "execution_count": null,
   "id": "3311ac7c-670f-4140-a4fe-be664055fadf",
   "metadata": {},
   "outputs": [],
   "source": []
  },
  {
   "cell_type": "code",
   "execution_count": null,
   "id": "95e83321-af38-4d45-963f-edbf7225023f",
   "metadata": {},
   "outputs": [],
   "source": []
  },
  {
   "cell_type": "code",
   "execution_count": null,
   "id": "eafba3e3-0725-4b12-bd7c-81f0a5393d55",
   "metadata": {},
   "outputs": [],
   "source": []
  }
 ],
 "metadata": {
  "kernelspec": {
   "display_name": "Python 3 (ipykernel)",
   "language": "python",
   "name": "python3"
  },
  "language_info": {
   "codemirror_mode": {
    "name": "ipython",
    "version": 3
   },
   "file_extension": ".py",
   "mimetype": "text/x-python",
   "name": "python",
   "nbconvert_exporter": "python",
   "pygments_lexer": "ipython3",
   "version": "3.12.4"
  }
 },
 "nbformat": 4,
 "nbformat_minor": 5
}
