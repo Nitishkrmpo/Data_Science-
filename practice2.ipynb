{
 "cells": [
  {
   "cell_type": "code",
   "execution_count": null,
   "id": "da17bba6-e90d-473e-a36f-13a4dfc185f8",
   "metadata": {},
   "outputs": [],
   "source": [
    "# Function & oops Practice "
   ]
  },
  {
   "cell_type": "code",
   "execution_count": 1,
   "id": "12fa98f4-547f-413b-bfc3-a3ae712be8a8",
   "metadata": {},
   "outputs": [
    {
     "name": "stdout",
     "output_type": "stream",
     "text": [
      "Hello Function!\n"
     ]
    }
   ],
   "source": [
    "print(\"Hello Function!\")"
   ]
  },
  {
   "cell_type": "code",
   "execution_count": 4,
   "id": "db28d95c-aef1-42c0-8a00-bb4e6ea3c466",
   "metadata": {},
   "outputs": [
    {
     "name": "stdin",
     "output_type": "stream",
     "text": [
      "Enter String : Nitish\n"
     ]
    },
    {
     "name": "stdout",
     "output_type": "stream",
     "text": [
      "Welcome to function class Mr  Nitish\n"
     ]
    }
   ],
   "source": [
    "def greet(string1):\n",
    "    print(\"Welcome to function class Mr \",string1)\n",
    "s1 =input(\"Enter String :\")\n",
    "greet(s1)"
   ]
  },
  {
   "cell_type": "code",
   "execution_count": 5,
   "id": "285e8f1b-3952-4bc3-b62a-2dc8256dd9fe",
   "metadata": {},
   "outputs": [
    {
     "name": "stdout",
     "output_type": "stream",
     "text": [
      "Hii \n"
     ]
    },
    {
     "ename": "TypeError",
     "evalue": "unsupported operand type(s) for +: 'NoneType' and 'str'",
     "output_type": "error",
     "traceback": [
      "\u001b[1;31m---------------------------------------------------------------------------\u001b[0m",
      "\u001b[1;31mTypeError\u001b[0m                                 Traceback (most recent call last)",
      "Cell \u001b[1;32mIn[5], line 5\u001b[0m\n\u001b[0;32m      3\u001b[0m \u001b[38;5;28;01mdef\u001b[39;00m \u001b[38;5;21mfunc\u001b[39m():\n\u001b[0;32m      4\u001b[0m     \u001b[38;5;28mprint\u001b[39m(\u001b[38;5;124m\"\u001b[39m\u001b[38;5;124mHii \u001b[39m\u001b[38;5;124m\"\u001b[39m)\n\u001b[1;32m----> 5\u001b[0m \u001b[43mfunc\u001b[49m\u001b[43m(\u001b[49m\u001b[43m)\u001b[49m\u001b[43m \u001b[49m\u001b[38;5;241;43m+\u001b[39;49m\u001b[43m \u001b[49m\u001b[38;5;124;43m\"\u001b[39;49m\u001b[38;5;124;43mNitish\u001b[39;49m\u001b[38;5;124;43m\"\u001b[39;49m\n",
      "\u001b[1;31mTypeError\u001b[0m: unsupported operand type(s) for +: 'NoneType' and 'str'"
     ]
    }
   ],
   "source": [
    "#void or  nontype function  can't be ooperand with func \n",
    "\n",
    "def func():\n",
    "    print(\"Hii \")\n",
    "func() + \"Nitish\""
   ]
  },
  {
   "cell_type": "code",
   "execution_count": 6,
   "id": "b6ff0bd0-b68c-4b7b-b4df-72a70ba119fb",
   "metadata": {},
   "outputs": [
    {
     "data": {
      "text/plain": [
       "('This is my first function ', 2, 4, (3+7j), True)"
      ]
     },
     "execution_count": 6,
     "metadata": {},
     "output_type": "execute_result"
    }
   ],
   "source": [
    "def stringfun():\n",
    "    return \"This is my first function \",2,4,3+7j,True\n",
    "stringfun()"
   ]
  },
  {
   "cell_type": "code",
   "execution_count": 7,
   "id": "432fa955-d89e-4fb1-a884-952d62235b94",
   "metadata": {},
   "outputs": [],
   "source": [
    "a,b,c,d,f=stringfun()"
   ]
  },
  {
   "cell_type": "code",
   "execution_count": 8,
   "id": "18fe915e-36d0-492a-a26d-738bbf0ecd27",
   "metadata": {},
   "outputs": [
    {
     "name": "stdout",
     "output_type": "stream",
     "text": [
      "This is my first function \n",
      "<class 'str'>\n",
      "2\n",
      "<class 'int'>\n",
      "4\n",
      "<class 'int'>\n",
      "(3+7j)\n",
      "<class 'complex'>\n",
      "True\n",
      "<class 'bool'>\n"
     ]
    }
   ],
   "source": [
    "print(a)\n",
    "print(type(a))\n",
    "print(b)\n",
    "print(type(b))\n",
    "print(c)\n",
    "print(type(c))\n",
    "print(d)\n",
    "print(type(d))\n",
    "print(f)\n",
    "print(type(f))"
   ]
  },
  {
   "cell_type": "code",
   "execution_count": 15,
   "id": "b29ec427-adbe-4156-ac45-fe41c05f8894",
   "metadata": {},
   "outputs": [
    {
     "data": {
      "text/plain": [
       "4"
      ]
     },
     "execution_count": 15,
     "metadata": {},
     "output_type": "execute_result"
    }
   ],
   "source": [
    "stringfun() [2]"
   ]
  },
  {
   "cell_type": "code",
   "execution_count": 23,
   "id": "2d795738-1e8f-4581-a1dc-728a54e99b2d",
   "metadata": {},
   "outputs": [
    {
     "data": {
      "text/plain": [
       "'Hello  World!'"
      ]
     },
     "execution_count": 23,
     "metadata": {},
     "output_type": "execute_result"
    }
   ],
   "source": [
    "def sum_(a,b):\n",
    "    return a+b\n",
    "\n",
    "sum_(1,2)\n",
    "sum_([1,10,9,4],[5,11,17,8])\n",
    "sum_(\"Hello  \",\"World!\")"
   ]
  },
  {
   "cell_type": "code",
   "execution_count": 24,
   "id": "bce804d9-4497-4fc3-a826-7f4b69cdf53b",
   "metadata": {},
   "outputs": [
    {
     "data": {
      "text/plain": [
       "'skillspw'"
      ]
     },
     "execution_count": 24,
     "metadata": {},
     "output_type": "execute_result"
    }
   ],
   "source": [
    "sum_(b='pw',a='skills')"
   ]
  },
  {
   "cell_type": "code",
   "execution_count": 33,
   "id": "0f1824f9-546a-46a0-ab4d-a8ef2b202c52",
   "metadata": {},
   "outputs": [
    {
     "data": {
      "text/plain": [
       "1"
      ]
     },
     "execution_count": 33,
     "metadata": {},
     "output_type": "execute_result"
    }
   ],
   "source": [
    "def sum_1(a=0,b=0,c=0):\n",
    "    return a+b+c\n",
    "\n",
    "sum_1(a=1,b=2)\n",
    "sum_1(1,0,0)"
   ]
  },
  {
   "cell_type": "code",
   "execution_count": 39,
   "id": "8313acfa-d52a-4572-adce-fc7e4be75daf",
   "metadata": {},
   "outputs": [
    {
     "name": "stdin",
     "output_type": "stream",
     "text": [
      "Enter the first integer: 1\n",
      "Enter the second integer: 2\n"
     ]
    },
    {
     "data": {
      "text/plain": [
       "3"
      ]
     },
     "execution_count": 39,
     "metadata": {},
     "output_type": "execute_result"
    }
   ],
   "source": [
    "def funcadd():\n",
    "    a=int(input(\"Enter the first integer:\"))\n",
    "    b=int(input(\"Enter the second integer:\"))\n",
    "    return a+b\n",
    "funcadd()"
   ]
  },
  {
   "cell_type": "code",
   "execution_count": 46,
   "id": "ce39d71b-7978-4fbb-8a53-52578cc26640",
   "metadata": {},
   "outputs": [
    {
     "data": {
      "text/plain": [
       "'Hello world'"
      ]
     },
     "execution_count": 46,
     "metadata": {},
     "output_type": "execute_result"
    }
   ],
   "source": [
    "def funconcat(a=0 , b=0):\n",
    "    return a+b\n",
    "funconcat(2,3)\n",
    "funconcat(\"\",\"Hello world\")"
   ]
  },
  {
   "cell_type": "code",
   "execution_count": 51,
   "id": "273d1ab9-b44c-45ee-9c81-a37d7853c71e",
   "metadata": {},
   "outputs": [
    {
     "data": {
      "text/plain": [
       "3628800"
      ]
     },
     "execution_count": 51,
     "metadata": {},
     "output_type": "execute_result"
    }
   ],
   "source": [
    "def fibo(a=0):\n",
    "    if a==0 or a==1 :\n",
    "        return 1\n",
    "    else :\n",
    "        return  a *fibo(a-1)\n",
    "fibo(10)"
   ]
  },
  {
   "cell_type": "code",
   "execution_count": 72,
   "id": "6388ad8b-c92f-40d3-bf94-c5bb12678666",
   "metadata": {},
   "outputs": [
    {
     "name": "stdout",
     "output_type": "stream",
     "text": [
      "1\n",
      "2\n",
      "2\n"
     ]
    },
    {
     "data": {
      "text/plain": [
       "3"
      ]
     },
     "execution_count": 72,
     "metadata": {},
     "output_type": "execute_result"
    }
   ],
   "source": [
    "def fibi(a=0,b=0,c=0,d =0):\n",
    "    print(a)\n",
    "    print(b)\n",
    "    print(d)\n",
    "    return  a+b\n",
    "\n",
    "fibi(1,2,3,2)"
   ]
  },
  {
   "cell_type": "code",
   "execution_count": 73,
   "id": "75974063-f031-46d6-ae07-f4d67a6760de",
   "metadata": {},
   "outputs": [
    {
     "name": "stdout",
     "output_type": "stream",
     "text": [
      "1 23 455 6 7 78 3 4 HelLO\n"
     ]
    },
    {
     "data": {
      "text/plain": [
       "70"
      ]
     },
     "execution_count": 73,
     "metadata": {},
     "output_type": "execute_result"
    }
   ],
   "source": [
    "#if we  don't know thw number of arguement to pass in  function then we use the *args \n",
    "def test1(*args,a):\n",
    "    print(*args)\n",
    "    return a\n",
    "test1(1,23,455,6,7,78,3,4,\"HelLO\",a = 70)\n",
    "    "
   ]
  },
  {
   "cell_type": "code",
   "execution_count": null,
   "id": "5f4a44ec-5a25-4538-ab0f-02b7c06aa2b6",
   "metadata": {},
   "outputs": [],
   "source": [
    "def funct(**kwargs):  #take any number of dictionary elements \n",
    "    for i in kwargs.keys():\n",
    "        if type(kwargs[i])==int:\n",
    "            return i , kwargs[i]\n",
    "list1={} \n",
    "for i in range(1,2):\n",
    "    a = input(\"Enter key :\") \n",
    "    b = input(\"Enter value:\")\n",
    "    try:\n",
    "        b=int(b)\n",
    "    except ValueError:\n",
    "        pass\n",
    "    list1[a]=b;\n",
    "\n",
    "result = funct(list1)\n",
    "   \n",
    "    \n",
    "        "
   ]
  },
  {
   "cell_type": "code",
   "execution_count": null,
   "id": "19e2361d-4717-4c2f-a282-2835806911f8",
   "metadata": {},
   "outputs": [],
   "source": []
  }
 ],
 "metadata": {
  "kernelspec": {
   "display_name": "Python 3 (ipykernel)",
   "language": "python",
   "name": "python3"
  },
  "language_info": {
   "codemirror_mode": {
    "name": "ipython",
    "version": 3
   },
   "file_extension": ".py",
   "mimetype": "text/x-python",
   "name": "python",
   "nbconvert_exporter": "python",
   "pygments_lexer": "ipython3",
   "version": "3.12.4"
  }
 },
 "nbformat": 4,
 "nbformat_minor": 5
}
