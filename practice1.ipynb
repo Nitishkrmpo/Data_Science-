{
 "cells": [
  {
   "cell_type": "code",
   "execution_count": 1,
   "id": "a925e317-15f3-4c98-9ad5-330bfe168677",
   "metadata": {},
   "outputs": [
    {
     "name": "stdout",
     "output_type": "stream",
     "text": [
      "<class 'int'>\n"
     ]
    }
   ],
   "source": [
    "int_num = 5;\n",
    "print(type(int_num))"
   ]
  },
  {
   "cell_type": "code",
   "execution_count": 2,
   "id": "9eb8d32b-b12c-495f-a33a-e7978cfbe9d0",
   "metadata": {},
   "outputs": [
    {
     "name": "stdout",
     "output_type": "stream",
     "text": [
      "<class 'float'>\n"
     ]
    }
   ],
   "source": [
    "float_num=0.4\n",
    "print(type(float_num))"
   ]
  },
  {
   "cell_type": "code",
   "execution_count": 3,
   "id": "da48e3a1-c3b3-4930-8ccb-a860283d959b",
   "metadata": {},
   "outputs": [
    {
     "name": "stdout",
     "output_type": "stream",
     "text": [
      "<class 'bool'>\n"
     ]
    }
   ],
   "source": [
    "bool_flag= True\n",
    "print(type(bool_flag))"
   ]
  },
  {
   "cell_type": "code",
   "execution_count": 4,
   "id": "01cf89ea-17e3-4835-b21c-4c99c2ba8d24",
   "metadata": {},
   "outputs": [
    {
     "name": "stdout",
     "output_type": "stream",
     "text": [
      "<class 'complex'>\n"
     ]
    }
   ],
   "source": [
    "comp_numb=2+3j\n",
    "print(type(comp_numb))"
   ]
  },
  {
   "cell_type": "code",
   "execution_count": 5,
   "id": "baac28e2-2a45-4b63-ad83-001e1293b1a3",
   "metadata": {},
   "outputs": [
    {
     "name": "stdout",
     "output_type": "stream",
     "text": [
      "[1, 2, 3, 'Nitish', 5]\n"
     ]
    }
   ],
   "source": [
    "#data structure\n",
    "#set\n",
    "#dict\n",
    "#list \n",
    "#tuple \n",
    "#none \n",
    "\n",
    "my_list = [1, 2, 3, 'Nitish', 5]\n",
    "print(my_list)\n"
   ]
  },
  {
   "cell_type": "code",
   "execution_count": 6,
   "id": "af6dcb1c-ffe0-4f10-aef6-d8574c5de70e",
   "metadata": {},
   "outputs": [
    {
     "data": {
      "text/plain": [
       "'N'"
      ]
     },
     "execution_count": 6,
     "metadata": {},
     "output_type": "execute_result"
    }
   ],
   "source": [
    "str2='Nitish'\n",
    "str2[0]\n"
   ]
  },
  {
   "cell_type": "raw",
   "id": "f2113123-30c1-4b7b-87c2-8ba1573cb64e",
   "metadata": {},
   "source": [
    "str2[-4]\n",
    "\n"
   ]
  },
  {
   "cell_type": "code",
   "execution_count": 7,
   "id": "30e14f84-3827-483b-b83b-4cd0708870f6",
   "metadata": {},
   "outputs": [
    {
     "data": {
      "text/plain": [
       "'h'"
      ]
     },
     "execution_count": 7,
     "metadata": {},
     "output_type": "execute_result"
    }
   ],
   "source": [
    "str2[-1]"
   ]
  },
  {
   "cell_type": "code",
   "execution_count": 8,
   "id": "25d927ba-cd0e-4e84-b237-b4b0d7b4d702",
   "metadata": {},
   "outputs": [
    {
     "data": {
      "text/plain": [
       "'t'"
      ]
     },
     "execution_count": 8,
     "metadata": {},
     "output_type": "execute_result"
    }
   ],
   "source": [
    "str2[-4]"
   ]
  },
  {
   "cell_type": "code",
   "execution_count": 9,
   "id": "cfe5d575-4015-42e3-a3e2-404850102bfc",
   "metadata": {},
   "outputs": [
    {
     "data": {
      "text/plain": [
       "[1, 2.3, True, False, (3+6j), ['hello,list1']]"
      ]
     },
     "execution_count": 9,
     "metadata": {},
     "output_type": "execute_result"
    }
   ],
   "source": [
    "list1=[1,2.3,True,False, 3+6j,['hello,list1']]\n",
    "list1"
   ]
  },
  {
   "cell_type": "code",
   "execution_count": 10,
   "id": "550d7c08-6c2a-46f3-a564-6e5a72f9a2d8",
   "metadata": {},
   "outputs": [
    {
     "data": {
      "text/plain": [
       "list"
      ]
     },
     "execution_count": 10,
     "metadata": {},
     "output_type": "execute_result"
    }
   ],
   "source": [
    "type(list1)"
   ]
  },
  {
   "cell_type": "code",
   "execution_count": 11,
   "id": "6f799faf-03db-46a6-9d41-03b48ddd03a7",
   "metadata": {},
   "outputs": [
    {
     "data": {
      "text/plain": [
       "[1, 2.3, True, 'hello', (3+6j), ['hello,list1']]"
      ]
     },
     "execution_count": 11,
     "metadata": {},
     "output_type": "execute_result"
    }
   ],
   "source": [
    "list1[3]='hello'\n",
    "list1"
   ]
  },
  {
   "cell_type": "code",
   "execution_count": 12,
   "id": "0c68973e-2df4-4406-8f70-010bc35ff039",
   "metadata": {},
   "outputs": [],
   "source": [
    "p=\"WELCOME TO KIIT\";"
   ]
  },
  {
   "cell_type": "code",
   "execution_count": 13,
   "id": "de9317e5-e688-4dca-adaf-9147d8138bd9",
   "metadata": {},
   "outputs": [
    {
     "data": {
      "text/plain": [
       "'M'"
      ]
     },
     "execution_count": 13,
     "metadata": {},
     "output_type": "execute_result"
    }
   ],
   "source": [
    "p[5]"
   ]
  },
  {
   "cell_type": "code",
   "execution_count": 14,
   "id": "a8d73415-4e4c-44ef-b483-85630d54f717",
   "metadata": {},
   "outputs": [
    {
     "ename": "TypeError",
     "evalue": "'str' object does not support item assignment",
     "output_type": "error",
     "traceback": [
      "\u001b[1;31m---------------------------------------------------------------------------\u001b[0m",
      "\u001b[1;31mTypeError\u001b[0m                                 Traceback (most recent call last)",
      "Cell \u001b[1;32mIn[14], line 1\u001b[0m\n\u001b[1;32m----> 1\u001b[0m \u001b[43mp\u001b[49m\u001b[43m[\u001b[49m\u001b[38;5;241;43m1\u001b[39;49m\u001b[43m]\u001b[49m\u001b[38;5;241m=\u001b[39m\u001b[38;5;124m\"\u001b[39m\u001b[38;5;124mw\u001b[39m\u001b[38;5;124m\"\u001b[39m\n",
      "\u001b[1;31mTypeError\u001b[0m: 'str' object does not support item assignment"
     ]
    }
   ],
   "source": [
    "p[1]=\"w\""
   ]
  },
  {
   "cell_type": "code",
   "execution_count": null,
   "id": "3e4b3b66-860c-4ceb-8272-5ce067f35a78",
   "metadata": {},
   "outputs": [],
   "source": [
    "70%4"
   ]
  },
  {
   "cell_type": "markdown",
   "id": "b034ec23-9c41-458f-beac-fde8e5371b64",
   "metadata": {
    "jp-MarkdownHeadingCollapsed": true
   },
   "source": []
  },
  {
   "cell_type": "code",
   "execution_count": null,
   "id": "d109aafa-08f3-49c1-b455-e07c3fc9cee9",
   "metadata": {},
   "outputs": [],
   "source": []
  },
  {
   "cell_type": "code",
   "execution_count": null,
   "id": "c6999d7b-181d-4277-9e42-1b2989f7cd23",
   "metadata": {},
   "outputs": [],
   "source": []
  },
  {
   "cell_type": "code",
   "execution_count": null,
   "id": "dce19537-4978-4d25-89f5-8ea3feff5547",
   "metadata": {},
   "outputs": [],
   "source": [
    "2**3"
   ]
  },
  {
   "cell_type": "code",
   "execution_count": null,
   "id": "128955b8-0f38-4a0d-bee5-c7f9e275bba0",
   "metadata": {},
   "outputs": [],
   "source": [
    "4//3"
   ]
  },
  {
   "cell_type": "code",
   "execution_count": null,
   "id": "ceb55563-7d62-48fd-a070-a81fe6751c8c",
   "metadata": {},
   "outputs": [],
   "source": [
    "4/3"
   ]
  },
  {
   "cell_type": "code",
   "execution_count": null,
   "id": "71ab1660-46a3-4ef3-babc-1d4c99850a9c",
   "metadata": {},
   "outputs": [],
   "source": [
    "a=\"Nitish Kumar\"\n",
    "\"Kumar\" in a"
   ]
  },
  {
   "cell_type": "code",
   "execution_count": null,
   "id": "edb41717-5eaf-4a4f-8e4f-57852b90789c",
   "metadata": {},
   "outputs": [],
   "source": [
    "\"K\" in a\n"
   ]
  },
  {
   "cell_type": "code",
   "execution_count": null,
   "id": "f5c27f79-0703-48f9-ba52-f953f3355a42",
   "metadata": {},
   "outputs": [],
   "source": [
    "\"\" in a\n"
   ]
  },
  {
   "cell_type": "code",
   "execution_count": null,
   "id": "2bb31ff8-d00e-4a82-8e03-856ae061bae3",
   "metadata": {},
   "outputs": [],
   "source": [
    "\" \" in a\n"
   ]
  },
  {
   "cell_type": "code",
   "execution_count": null,
   "id": "05b935d5-18cd-43d4-b915-ffd571bedc89",
   "metadata": {},
   "outputs": [],
   "source": [
    "a=[3]\n",
    "\"\" in a "
   ]
  },
  {
   "cell_type": "code",
   "execution_count": null,
   "id": "a64ceb3b-168d-47a1-8a08-aff0aecaf843",
   "metadata": {},
   "outputs": [],
   "source": [
    "bin(10.5)\n"
   ]
  },
  {
   "cell_type": "code",
   "execution_count": null,
   "id": "8709dbfc-990a-4498-9bed-073f150ef236",
   "metadata": {},
   "outputs": [],
   "source": [
    "bin(10)"
   ]
  },
  {
   "cell_type": "code",
   "execution_count": null,
   "id": "80313d3c-30be-41a5-8e26-380551f74afd",
   "metadata": {},
   "outputs": [],
   "source": [
    "bin(111)"
   ]
  },
  {
   "cell_type": "code",
   "execution_count": null,
   "id": "30da0e9c-b7af-4595-bf31-5b568fa8f874",
   "metadata": {},
   "outputs": [],
   "source": [
    "3 | 5\n"
   ]
  },
  {
   "cell_type": "code",
   "execution_count": null,
   "id": "b43f41e9-7db7-4fb7-9f59-c23a8a6b83e3",
   "metadata": {},
   "outputs": [],
   "source": [
    "4 | 11"
   ]
  },
  {
   "cell_type": "code",
   "execution_count": null,
   "id": "3359d434-6bf8-4c62-b586-c657025429dc",
   "metadata": {},
   "outputs": [],
   "source": [
    "33 | 22"
   ]
  },
  {
   "cell_type": "code",
   "execution_count": null,
   "id": "32d09900-f31d-4d8a-b75a-1ffb4f117d93",
   "metadata": {},
   "outputs": [],
   "source": [
    "bin(35)"
   ]
  },
  {
   "cell_type": "code",
   "execution_count": null,
   "id": "e49a5f51-b253-454e-912f-56404d2d9524",
   "metadata": {},
   "outputs": [],
   "source": [
    "35*(2**3)"
   ]
  },
  {
   "cell_type": "code",
   "execution_count": null,
   "id": "1aa31347-aaf3-4773-ad16-3f991fce66c9",
   "metadata": {},
   "outputs": [],
   "source": [
    "280//(2**3)"
   ]
  },
  {
   "cell_type": "code",
   "execution_count": null,
   "id": "c9052ee9-423f-4af0-a137-8c62d0d33d66",
   "metadata": {},
   "outputs": [],
   "source": [
    "str_num=\"2\"\n",
    "float_num=float(str_num)\n",
    "float_num"
   ]
  },
  {
   "cell_type": "code",
   "execution_count": 16,
   "id": "245859bd-d382-4db5-8b99-605d47774448",
   "metadata": {},
   "outputs": [
    {
     "name": "stdout",
     "output_type": "stream",
     "text": [
      "<class 'str'>\n"
     ]
    }
   ],
   "source": [
    "int_num = 32\n",
    "str_num = str(int_num)\n",
    "print(type(str_num))\n"
   ]
  },
  {
   "cell_type": "code",
   "execution_count": 18,
   "id": "005db2a2-3727-43b5-bbb9-e286b061eb4b",
   "metadata": {},
   "outputs": [
    {
     "data": {
      "text/plain": [
       "False"
      ]
     },
     "execution_count": 18,
     "metadata": {},
     "output_type": "execute_result"
    }
   ],
   "source": [
    "string1=\"\"\n",
    "bool_flag=bool(string1)\n",
    "bool_flag"
   ]
  },
  {
   "cell_type": "code",
   "execution_count": 19,
   "id": "404c5758-ddc9-40b6-a860-b7e7c5c887a9",
   "metadata": {},
   "outputs": [
    {
     "data": {
      "text/plain": [
       "True"
      ]
     },
     "execution_count": 19,
     "metadata": {},
     "output_type": "execute_result"
    }
   ],
   "source": [
    "string2=\"hello\"\n",
    "bool_flag= bool(string2)\n",
    "bool_flag"
   ]
  },
  {
   "cell_type": "code",
   "execution_count": 20,
   "id": "d84c9175-37b7-46c2-a36f-9d4c9c662b1d",
   "metadata": {},
   "outputs": [
    {
     "name": "stdout",
     "output_type": "stream",
     "text": [
      "apple\n",
      "Banana\n",
      "pineapple\n"
     ]
    }
   ],
   "source": [
    "fruits =['apple', 'Banana', 'pineapple']\n",
    "for i in fruits:\n",
    "    print(i)"
   ]
  },
  {
   "cell_type": "code",
   "execution_count": 22,
   "id": "d7b5727d-2954-432d-a253-458aed4d8fda",
   "metadata": {},
   "outputs": [
    {
     "name": "stdout",
     "output_type": "stream",
     "text": [
      "1\n",
      "2\n",
      "3\n",
      "4\n",
      "5\n",
      "6\n",
      "7\n",
      "8\n",
      "9\n"
     ]
    }
   ],
   "source": [
    "for i in range(1, 10):  #print for i=1 to 9\n",
    "    print(i)"
   ]
  },
  {
   "cell_type": "code",
   "execution_count": 24,
   "id": "89e14784-ea0e-4068-a304-27d86115ee52",
   "metadata": {},
   "outputs": [
    {
     "name": "stdout",
     "output_type": "stream",
     "text": [
      "range(0, 5)\n"
     ]
    }
   ],
   "source": [
    "print(range(5))"
   ]
  },
  {
   "cell_type": "code",
   "execution_count": 25,
   "id": "52edb1a4-bdeb-4422-83d9-21fb4883821e",
   "metadata": {},
   "outputs": [
    {
     "data": {
      "text/plain": [
       "range(0, 5)"
      ]
     },
     "execution_count": 25,
     "metadata": {},
     "output_type": "execute_result"
    }
   ],
   "source": [
    "range(0,5)"
   ]
  },
  {
   "cell_type": "code",
   "execution_count": 29,
   "id": "d611ef81-03c1-4659-a83a-83bcb3dc6eb8",
   "metadata": {},
   "outputs": [
    {
     "name": "stdout",
     "output_type": "stream",
     "text": [
      "* \n",
      "\n",
      "* * \n",
      "\n",
      "* * * \n",
      "\n",
      "* * * * \n",
      "\n",
      "* * * * * \n",
      "\n"
     ]
    }
   ],
   "source": [
    "for i in range(0,5):\n",
    "    for j in range(0,i+1):\n",
    "        print(\"*\", end=\" \")\n",
    "    print(\"\\n\")\n"
   ]
  },
  {
   "cell_type": "code",
   "execution_count": 32,
   "id": "736cfa9e-76c5-4424-b78f-f0c3f818a5d3",
   "metadata": {},
   "outputs": [
    {
     "name": "stdout",
     "output_type": "stream",
     "text": [
      "*\n",
      "\n",
      "**\n",
      "\n",
      "***\n",
      "\n",
      "****\n",
      "\n",
      "*****\n",
      "\n"
     ]
    }
   ],
   "source": [
    "for i in range(0,5):\n",
    "    for j in range(0,i+1):\n",
    "        print(\"*\", end=\"\")\n",
    "    print(\"\\n\")"
   ]
  },
  {
   "cell_type": "code",
   "execution_count": 33,
   "id": "404e0cfa-2988-4619-8af4-d5499e873ebe",
   "metadata": {},
   "outputs": [
    {
     "name": "stdout",
     "output_type": "stream",
     "text": [
      "*\n",
      "\n",
      "**\n",
      "\n",
      "***\n",
      "\n",
      "****\n",
      "\n",
      "*****\n",
      "\n"
     ]
    }
   ],
   "source": [
    "for i in range(0,5):\n",
    "    for j in range(0,i+1):\n",
    "        print(\"*\", end=\" \")\n",
    "    print(\"\\n\")\n",
    "    "
   ]
  },
  {
   "cell_type": "code",
   "execution_count": 41,
   "id": "68407f9f-2fca-4ead-8414-036d57460ad1",
   "metadata": {},
   "outputs": [
    {
     "name": "stdin",
     "output_type": "stream",
     "text": [
      "Enter your name : keshav\n"
     ]
    },
    {
     "name": "stdout",
     "output_type": "stream",
     "text": [
      "you are not authorised to enter ! \n"
     ]
    },
    {
     "name": "stdin",
     "output_type": "stream",
     "text": [
      "Enter your name : nitish\n"
     ]
    }
   ],
   "source": [
    "valid_input = False \n",
    "while not valid_input:\n",
    "    user_input = input(\"Enter your name :\")\n",
    "    if user_input.lower() in [\"nitish\" , \"manish\"]:\n",
    "        valid_input = True\n",
    "    else:\n",
    "        print(\"you are not authorised to enter ! \")"
   ]
  },
  {
   "cell_type": "code",
   "execution_count": 42,
   "id": "e56c204e-48bf-4cbd-816a-a06fdeb0f290",
   "metadata": {},
   "outputs": [],
   "source": [
    "st=\"HELLO WORLD\"\n"
   ]
  },
  {
   "cell_type": "code",
   "execution_count": 56,
   "id": "3fc3cad7-76d4-4237-949a-974899228c9b",
   "metadata": {},
   "outputs": [
    {
     "data": {
      "text/plain": [
       "'DLROW OLLEH'"
      ]
     },
     "execution_count": 56,
     "metadata": {},
     "output_type": "execute_result"
    }
   ],
   "source": [
    "st[13::-1]"
   ]
  },
  {
   "cell_type": "code",
   "execution_count": 57,
   "id": "eac1ad95-627a-4fca-a5eb-ec7a56b140eb",
   "metadata": {},
   "outputs": [
    {
     "data": {
      "text/plain": [
       "['Bijay', 'ajay', 'cee']"
      ]
     },
     "execution_count": 57,
     "metadata": {},
     "output_type": "execute_result"
    }
   ],
   "source": [
    "name = [\"ajay\",\"Bijay\",\"cee\"]\n",
    "sorted(name)"
   ]
  },
  {
   "cell_type": "code",
   "execution_count": 58,
   "id": "ae2c9e17-d78a-44ad-be5c-e9889711213b",
   "metadata": {},
   "outputs": [
    {
     "data": {
      "text/plain": [
       "str"
      ]
     },
     "execution_count": 58,
     "metadata": {},
     "output_type": "execute_result"
    }
   ],
   "source": [
    "data = \"Nitish , Manish , Keshav , Lucky\"\n",
    "type(data)"
   ]
  },
  {
   "cell_type": "code",
   "execution_count": 59,
   "id": "b6545934-2b92-4c56-8084-3a228ae1df0d",
   "metadata": {},
   "outputs": [],
   "source": [
    " new_data=data.split(',')"
   ]
  },
  {
   "cell_type": "code",
   "execution_count": 60,
   "id": "a225dbc5-ede6-4fcf-9264-aa6d5c38da6f",
   "metadata": {},
   "outputs": [
    {
     "data": {
      "text/plain": [
       "['Nitish ', ' Manish ', ' Keshav ', ' Lucky']"
      ]
     },
     "execution_count": 60,
     "metadata": {},
     "output_type": "execute_result"
    }
   ],
   "source": [
    "new_data\n"
   ]
  },
  {
   "cell_type": "code",
   "execution_count": 61,
   "id": "4a6aef19-4ae1-47ca-bbfa-5b2c5f10bc5d",
   "metadata": {},
   "outputs": [
    {
     "data": {
      "text/plain": [
       "list"
      ]
     },
     "execution_count": 61,
     "metadata": {},
     "output_type": "execute_result"
    }
   ],
   "source": [
    "type(new_data)"
   ]
  },
  {
   "cell_type": "code",
   "execution_count": 64,
   "id": "9a70e3e4-1b72-4b77-8a4c-2a9aa87a89bf",
   "metadata": {},
   "outputs": [],
   "source": [
    "name1= new_data[0]\n",
    "name2=new_data[1]\n",
    "name3= new_data[2]\n",
    "name4 =new_data[3]"
   ]
  },
  {
   "cell_type": "code",
   "execution_count": 65,
   "id": "55cb6887-41d5-4faa-bf68-3b9df065fb91",
   "metadata": {},
   "outputs": [
    {
     "data": {
      "text/plain": [
       "' Lucky'"
      ]
     },
     "execution_count": 65,
     "metadata": {},
     "output_type": "execute_result"
    }
   ],
   "source": [
    "name4"
   ]
  },
  {
   "cell_type": "code",
   "execution_count": 66,
   "id": "952fd9e2-f581-4d59-b612-7526be443e93",
   "metadata": {},
   "outputs": [
    {
     "data": {
      "text/plain": [
       "'Lucky'"
      ]
     },
     "execution_count": 66,
     "metadata": {},
     "output_type": "execute_result"
    }
   ],
   "source": [
    "name4.strip()"
   ]
  },
  {
   "cell_type": "code",
   "execution_count": 68,
   "id": "269d92dd-ff17-4514-8d61-631140413b77",
   "metadata": {},
   "outputs": [
    {
     "name": "stdout",
     "output_type": "stream",
     "text": [
      "C:\\USERS\\DOWNLOAD\\FILES.txt\n"
     ]
    }
   ],
   "source": [
    "file=\"C:\\\\USERS\\\\DOWNLOAD\\\\FILES.txt\"\n",
    "print(file)\n"
   ]
  },
  {
   "cell_type": "code",
   "execution_count": 73,
   "id": "ff88ceb5-618f-4ceb-b076-7feeebfc61dc",
   "metadata": {},
   "outputs": [
    {
     "name": "stdout",
     "output_type": "stream",
     "text": [
      "I can't believe its a friday\n"
     ]
    }
   ],
   "source": [
    "#single quote escape \n",
    "str1='I can\\'t believe its a friday'\n",
    "print(str1)"
   ]
  },
  {
   "cell_type": "code",
   "execution_count": 75,
   "id": "a7aa09a0-6b3f-4be0-ae1e-a817bbb5ad73",
   "metadata": {},
   "outputs": [
    {
     "name": "stdout",
     "output_type": "stream",
     "text": [
      "Ajay. I am going to Delhi\n"
     ]
    }
   ],
   "source": [
    "#Carriage return /r >> move the cursor to the beginning of line\n",
    "print(\"Hello, I am \\rNitish. I am going to Delhi\")"
   ]
  },
  {
   "cell_type": "code",
   "execution_count": 2,
   "id": "33105c6b-b066-490c-abab-ab295c3330f2",
   "metadata": {},
   "outputs": [],
   "source": [
    "Friends1 = [\"Arko\", \"Manish\",\"Keshav\",\"Lucky\"]\n",
    "Friends2=[\"Nitish\",\"Bhasksar\"]\n",
    "Friends1.extend(Friends2)"
   ]
  },
  {
   "cell_type": "code",
   "execution_count": 4,
   "id": "4e80da8d-a3da-4565-ac17-b64f0c7675bc",
   "metadata": {},
   "outputs": [
    {
     "data": {
      "text/plain": [
       "['Arko', 'Manish', 'Keshav', 'Lucky', 'Nitish', 'Bhasksar']"
      ]
     },
     "execution_count": 4,
     "metadata": {},
     "output_type": "execute_result"
    }
   ],
   "source": [
    "Friends1"
   ]
  },
  {
   "cell_type": "code",
   "execution_count": 7,
   "id": "2283aee4-660f-42d8-9387-17b70896c1d7",
   "metadata": {},
   "outputs": [
    {
     "data": {
      "text/plain": [
       "{'Arko', 'Bhasksar', 'Keshav', 'Lucky', 'Manish', 'Nitish'}"
      ]
     },
     "execution_count": 7,
     "metadata": {},
     "output_type": "execute_result"
    }
   ],
   "source": [
    "friends = Friends1+Friends2\n",
    "set(friends)"
   ]
  },
  {
   "cell_type": "code",
   "execution_count": 8,
   "id": "413ab3b3-d809-486f-a6c2-2b09be5283b8",
   "metadata": {},
   "outputs": [
    {
     "data": {
      "text/plain": [
       "'*****'"
      ]
     },
     "execution_count": 8,
     "metadata": {},
     "output_type": "execute_result"
    }
   ],
   "source": [
    "\"*\" * 5"
   ]
  },
  {
   "cell_type": "code",
   "execution_count": 9,
   "id": "5f0812a4-4bd1-4a9e-9355-a2d83f829b3e",
   "metadata": {},
   "outputs": [
    {
     "data": {
      "text/plain": [
       "'Nitish Nitish Nitish Nitish Nitish '"
      ]
     },
     "execution_count": 9,
     "metadata": {},
     "output_type": "execute_result"
    }
   ],
   "source": [
    "\"Nitish \" * 5"
   ]
  },
  {
   "cell_type": "code",
   "execution_count": 10,
   "id": "b169b71a-971b-4e49-ba3e-1d6e5082478f",
   "metadata": {},
   "outputs": [
    {
     "data": {
      "text/plain": [
       "[0, 0, 0, 0, 0, 0, 0, 0, 0, 0]"
      ]
     },
     "execution_count": 10,
     "metadata": {},
     "output_type": "execute_result"
    }
   ],
   "source": [
    "[0] * 10"
   ]
  },
  {
   "cell_type": "code",
   "execution_count": 12,
   "id": "8bfd8acd-3fe2-4440-8e1d-f93a0d5b06b1",
   "metadata": {},
   "outputs": [
    {
     "data": {
      "text/plain": [
       "[1, 2, 3, 1, 2, 3, 1, 2, 3]"
      ]
     },
     "execution_count": 12,
     "metadata": {},
     "output_type": "execute_result"
    }
   ],
   "source": [
    "[1,2,3]*3 "
   ]
  },
  {
   "cell_type": "code",
   "execution_count": 14,
   "id": "e801312e-0bf9-4411-847d-045cd1b507ec",
   "metadata": {},
   "outputs": [
    {
     "data": {
      "text/plain": [
       "4"
      ]
     },
     "execution_count": 14,
     "metadata": {},
     "output_type": "execute_result"
    }
   ],
   "source": [
    "friends.index(\"Nitish\")"
   ]
  },
  {
   "cell_type": "code",
   "execution_count": 18,
   "id": "429593a0-6715-476a-a15b-c391ee9ca048",
   "metadata": {},
   "outputs": [],
   "source": [
    "arr=[]\n",
    "arr= [1,2,4] * 3 + [4,5,6,7]* 4"
   ]
  },
  {
   "cell_type": "code",
   "execution_count": 19,
   "id": "646db7ec-1856-41c9-aec2-448d0db26143",
   "metadata": {},
   "outputs": [
    {
     "data": {
      "text/plain": [
       "7"
      ]
     },
     "execution_count": 19,
     "metadata": {},
     "output_type": "execute_result"
    }
   ],
   "source": [
    "arr.count(4)\n"
   ]
  },
  {
   "cell_type": "code",
   "execution_count": 20,
   "id": "3f5881c3-1757-4ca0-95fe-93333506d8fd",
   "metadata": {},
   "outputs": [],
   "source": [
    "arr.remove(4) # remove only one element"
   ]
  },
  {
   "cell_type": "code",
   "execution_count": 21,
   "id": "204de102-ee98-4186-ab7c-81ab47dfb110",
   "metadata": {},
   "outputs": [
    {
     "data": {
      "text/plain": [
       "6"
      ]
     },
     "execution_count": 21,
     "metadata": {},
     "output_type": "execute_result"
    }
   ],
   "source": [
    "arr.count(4)\n"
   ]
  },
  {
   "cell_type": "code",
   "execution_count": 22,
   "id": "74d329ad-968f-4006-86f8-b5139dcea32e",
   "metadata": {},
   "outputs": [
    {
     "data": {
      "text/plain": [
       "[1, 2, 1, 2, 4, 1, 2, 4, 4, 5, 6, 7, 4, 5, 6, 7, 4, 5, 6, 7, 4, 5, 6, 7]"
      ]
     },
     "execution_count": 22,
     "metadata": {},
     "output_type": "execute_result"
    }
   ],
   "source": [
    "arr"
   ]
  },
  {
   "cell_type": "code",
   "execution_count": 23,
   "id": "7185b3ba-d07b-4001-9b7c-46f0eaaa0344",
   "metadata": {},
   "outputs": [],
   "source": [
    "arr.sort()"
   ]
  },
  {
   "cell_type": "code",
   "execution_count": 24,
   "id": "99731c6a-fb13-4db6-aaa7-4e353986dfa4",
   "metadata": {},
   "outputs": [
    {
     "data": {
      "text/plain": [
       "[1, 1, 1, 2, 2, 2, 4, 4, 4, 4, 4, 4, 5, 5, 5, 5, 6, 6, 6, 6, 7, 7, 7, 7]"
      ]
     },
     "execution_count": 24,
     "metadata": {},
     "output_type": "execute_result"
    }
   ],
   "source": [
    "arr"
   ]
  },
  {
   "cell_type": "code",
   "execution_count": 26,
   "id": "74c83943-18e5-42c6-b87f-74e6518f2710",
   "metadata": {},
   "outputs": [],
   "source": [
    "del arr"
   ]
  },
  {
   "cell_type": "code",
   "execution_count": 27,
   "id": "b058b2a4-6f46-49b2-ad0c-8b33c66b8d77",
   "metadata": {},
   "outputs": [
    {
     "data": {
      "text/plain": [
       "'Bhasksar'"
      ]
     },
     "execution_count": 27,
     "metadata": {},
     "output_type": "execute_result"
    }
   ],
   "source": [
    "friends.pop()"
   ]
  },
  {
   "cell_type": "code",
   "execution_count": 28,
   "id": "ef4be215-072a-4f80-ab59-60bf85499bf3",
   "metadata": {},
   "outputs": [
    {
     "data": {
      "text/plain": [
       "['Arko', 'Manish', 'Keshav', 'Lucky', 'Nitish', 'Bhasksar', 'Nitish']"
      ]
     },
     "execution_count": 28,
     "metadata": {},
     "output_type": "execute_result"
    }
   ],
   "source": [
    "friends\n"
   ]
  },
  {
   "cell_type": "code",
   "execution_count": 31,
   "id": "2f41d91b-4766-4b5b-96e6-2dfa6cc72f76",
   "metadata": {},
   "outputs": [
    {
     "data": {
      "text/plain": [
       "'Nitish'"
      ]
     },
     "execution_count": 31,
     "metadata": {},
     "output_type": "execute_result"
    }
   ],
   "source": [
    "friends.pop(-1)"
   ]
  },
  {
   "cell_type": "code",
   "execution_count": 32,
   "id": "d4cf8ecc-95a5-4c88-9823-143cd41c63c6",
   "metadata": {},
   "outputs": [
    {
     "data": {
      "text/plain": [
       "['Arko', 'Manish', 'Keshav', 'Lucky', 'Nitish', 'Bhasksar']"
      ]
     },
     "execution_count": 32,
     "metadata": {},
     "output_type": "execute_result"
    }
   ],
   "source": [
    "friends"
   ]
  },
  {
   "cell_type": "code",
   "execution_count": 33,
   "id": "62867de4-2c86-4d4d-8d96-0a0b10ee2859",
   "metadata": {},
   "outputs": [],
   "source": [
    "file_name = [\"doc1.ppt\", \"doc2.pdf\", \"doc3.jpg\", \"doc4.py\"]\n",
    "type_of_files=[file.split(\".\")[-1] for file in file_name]"
   ]
  },
  {
   "cell_type": "code",
   "execution_count": 35,
   "id": "8aafdb39-af08-4b50-ae41-75d9241efac6",
   "metadata": {},
   "outputs": [
    {
     "data": {
      "text/plain": [
       "['ppt', 'pdf', 'jpg', 'py']"
      ]
     },
     "execution_count": 35,
     "metadata": {},
     "output_type": "execute_result"
    }
   ],
   "source": [
    "type_of_files "
   ]
  },
  {
   "cell_type": "code",
   "execution_count": 40,
   "id": "02e987ac-8449-424d-bd00-b03a4fda7963",
   "metadata": {},
   "outputs": [],
   "source": [
    "email_address = [\"aj@gmail.com\", \"sj@yahoo.com\", \"rj@yahoo.com\", \"mj@gmail.com\"]\n",
    "\n",
    "social_sites= [i.split(\"@\")[-1] for i in email_address]"
   ]
  },
  {
   "cell_type": "code",
   "execution_count": 41,
   "id": "90a6cf62-b7d5-480c-9105-5fb2d29d3541",
   "metadata": {},
   "outputs": [
    {
     "data": {
      "text/plain": [
       "['gmail.com', 'yahoo.com', 'yahoo.com', 'gmail.com']"
      ]
     },
     "execution_count": 41,
     "metadata": {},
     "output_type": "execute_result"
    }
   ],
   "source": [
    "social_sites "
   ]
  },
  {
   "cell_type": "code",
   "execution_count": 43,
   "id": "30242cd1-4882-4e26-ac3b-01f904ef7f6a",
   "metadata": {},
   "outputs": [
    {
     "data": {
      "text/plain": [
       "['aj@gmail.com', 'mj@gmail.com']"
      ]
     },
     "execution_count": 43,
     "metadata": {},
     "output_type": "execute_result"
    }
   ],
   "source": [
    "[i for i in email_address if i.endswith(\"gmail.com\")]"
   ]
  },
  {
   "cell_type": "code",
   "execution_count": 44,
   "id": "c6afd8dd-3ecb-4de0-b801-1f2ccf01a87a",
   "metadata": {},
   "outputs": [],
   "source": [
    "pairs=[]\n",
    "for x in [1,2,3]:\n",
    "    for y in [4,5,6]:\n",
    "        pairs.append([x,y])"
   ]
  },
  {
   "cell_type": "code",
   "execution_count": 45,
   "id": "cc755448-d78c-42e0-89d1-64e341184825",
   "metadata": {},
   "outputs": [
    {
     "data": {
      "text/plain": [
       "[[1, 4], [1, 5], [1, 6], [2, 4], [2, 5], [2, 6], [3, 4], [3, 5], [3, 6]]"
      ]
     },
     "execution_count": 45,
     "metadata": {},
     "output_type": "execute_result"
    }
   ],
   "source": [
    "pairs"
   ]
  },
  {
   "cell_type": "code",
   "execution_count": 46,
   "id": "23e2a90c-4fab-45a5-a4f2-500fb0aca02d",
   "metadata": {},
   "outputs": [
    {
     "data": {
      "text/plain": [
       "[[1, 4], [1, 5], [1, 6], [2, 4], [2, 5], [2, 6], [3, 4], [3, 5], [3, 6]]"
      ]
     },
     "execution_count": 46,
     "metadata": {},
     "output_type": "execute_result"
    }
   ],
   "source": [
    "[[x,y] for x in [1,2,3] for y in [4,5,6]]"
   ]
  },
  {
   "cell_type": "code",
   "execution_count": 48,
   "id": "b78845b5-ad28-4551-9103-cb91dc27a75a",
   "metadata": {},
   "outputs": [],
   "source": [
    "#list can be stack and queue\n",
    "#append method to add at the last\n",
    "#pop method to remove from the last \n",
    "#popleft method is to remove from the beginning \n"
   ]
  },
  {
   "cell_type": "code",
   "execution_count": 50,
   "id": "c8d5cd3b-ebed-494c-be6e-f6baf6d9fa84",
   "metadata": {},
   "outputs": [],
   "source": [
    "browsing_history=[]\n",
    "browsing_history.append(\"Home_page\")\n",
    "browsing_history.append(\"about us\")\n",
    "browsing_history.append(\"contact\")"
   ]
  },
  {
   "cell_type": "code",
   "execution_count": 51,
   "id": "da6f5274-575e-41cf-b66d-94d3fb556dcb",
   "metadata": {},
   "outputs": [
    {
     "data": {
      "text/plain": [
       "{1, 2, 'hwllo'}"
      ]
     },
     "execution_count": 51,
     "metadata": {},
     "output_type": "execute_result"
    }
   ],
   "source": [
    "{1,2,\"hwllo\"}"
   ]
  },
  {
   "cell_type": "code",
   "execution_count": 54,
   "id": "e4bdeff6-08af-4810-852d-0ea19fe9216b",
   "metadata": {},
   "outputs": [
    {
     "ename": "TypeError",
     "evalue": "'set' object does not support item assignment",
     "output_type": "error",
     "traceback": [
      "\u001b[1;31m---------------------------------------------------------------------------\u001b[0m",
      "\u001b[1;31mTypeError\u001b[0m                                 Traceback (most recent call last)",
      "Cell \u001b[1;32mIn[54], line 2\u001b[0m\n\u001b[0;32m      1\u001b[0m a\u001b[38;5;241m=\u001b[39m{\u001b[38;5;241m1\u001b[39m,\u001b[38;5;241m2\u001b[39m,\u001b[38;5;241m3\u001b[39m}\n\u001b[1;32m----> 2\u001b[0m \u001b[43ma\u001b[49m\u001b[43m[\u001b[49m\u001b[38;5;241;43m2\u001b[39;49m\u001b[43m]\u001b[49m\u001b[38;5;241m=\u001b[39m\u001b[38;5;241m-\u001b[39m\u001b[38;5;241m1\u001b[39m\n",
      "\u001b[1;31mTypeError\u001b[0m: 'set' object does not support item assignment"
     ]
    }
   ],
   "source": [
    "a={1,2,3}"
   ]
  },
  {
   "cell_type": "code",
   "execution_count": 53,
   "id": "d6a89946-07fb-4b0f-ab1a-252f8884f29f",
   "metadata": {},
   "outputs": [
    {
     "ename": "TypeError",
     "evalue": "unhashable type: 'set'",
     "output_type": "error",
     "traceback": [
      "\u001b[1;31m---------------------------------------------------------------------------\u001b[0m",
      "\u001b[1;31mTypeError\u001b[0m                                 Traceback (most recent call last)",
      "Cell \u001b[1;32mIn[53], line 1\u001b[0m\n\u001b[1;32m----> 1\u001b[0m {\u001b[38;5;241m1\u001b[39m,\u001b[38;5;241m2\u001b[39m,\u001b[38;5;241m3\u001b[39m,{\u001b[38;5;241m4\u001b[39m,\u001b[38;5;241m56\u001b[39m,\u001b[38;5;241m7\u001b[39m}}\n",
      "\u001b[1;31mTypeError\u001b[0m: unhashable type: 'set'"
     ]
    }
   ],
   "source": [
    "{1,2,3,{4,56,7}}"
   ]
  },
  {
   "cell_type": "code",
   "execution_count": 55,
   "id": "1f88ab6f-5618-4552-b71a-553ea487a485",
   "metadata": {},
   "outputs": [],
   "source": [
    "sets1={1,2,3,(\"hello\")}"
   ]
  },
  {
   "cell_type": "code",
   "execution_count": 56,
   "id": "e501cff6-66b0-4d16-a456-db6d93da6e21",
   "metadata": {},
   "outputs": [],
   "source": [
    "s = {(1, 2, 3), 100, '2', 3}"
   ]
  },
  {
   "cell_type": "code",
   "execution_count": 57,
   "id": "32b099c5-6f8d-4899-81ac-fce267d0cd65",
   "metadata": {},
   "outputs": [
    {
     "data": {
      "text/plain": [
       "{(1, 2, 3), 100, '2', 3}"
      ]
     },
     "execution_count": 57,
     "metadata": {},
     "output_type": "execute_result"
    }
   ],
   "source": [
    "s\n"
   ]
  },
  {
   "cell_type": "code",
   "execution_count": 58,
   "id": "0ca72455-8c34-451b-a72b-185eb86d4be1",
   "metadata": {},
   "outputs": [],
   "source": [
    "s.clear()"
   ]
  },
  {
   "cell_type": "code",
   "execution_count": 59,
   "id": "6671b2fe-335e-4ef9-a2ce-ea629b842394",
   "metadata": {},
   "outputs": [
    {
     "data": {
      "text/plain": [
       "set()"
      ]
     },
     "execution_count": 59,
     "metadata": {},
     "output_type": "execute_result"
    }
   ],
   "source": [
    "s\n"
   ]
  },
  {
   "cell_type": "code",
   "execution_count": 60,
   "id": "769b5e87-01fc-482c-b68b-e8ba12fed019",
   "metadata": {},
   "outputs": [],
   "source": [
    "s = {(1, 2, 3), 100, '2', 3,'2'}"
   ]
  },
  {
   "cell_type": "code",
   "execution_count": 63,
   "id": "62f93733-df5c-493b-99bc-accb9da1df8e",
   "metadata": {},
   "outputs": [],
   "source": [
    "s.discard('2')  # remove all element similat to it"
   ]
  },
  {
   "cell_type": "code",
   "execution_count": 62,
   "id": "6e2b6e59-6f36-4374-afb0-16e44844ab27",
   "metadata": {},
   "outputs": [
    {
     "data": {
      "text/plain": [
       "{(1, 2, 3), 100, 3}"
      ]
     },
     "execution_count": 62,
     "metadata": {},
     "output_type": "execute_result"
    }
   ],
   "source": [
    "s"
   ]
  },
  {
   "cell_type": "code",
   "execution_count": 64,
   "id": "9b978af6-43f5-4918-b46f-5685f8d42cf1",
   "metadata": {},
   "outputs": [
    {
     "ename": "TypeError",
     "evalue": "'set' object does not support item assignment",
     "output_type": "error",
     "traceback": [
      "\u001b[1;31m---------------------------------------------------------------------------\u001b[0m",
      "\u001b[1;31mTypeError\u001b[0m                                 Traceback (most recent call last)",
      "Cell \u001b[1;32mIn[64], line 1\u001b[0m\n\u001b[1;32m----> 1\u001b[0m \u001b[43ms\u001b[49m\u001b[43m[\u001b[49m\u001b[38;5;241;43m0\u001b[39;49m\u001b[43m]\u001b[49m\u001b[38;5;241m=\u001b[39m\u001b[38;5;124m\"\u001b[39m\u001b[38;5;124mmuatble\u001b[39m\u001b[38;5;124m\"\u001b[39m\n",
      "\u001b[1;31mTypeError\u001b[0m: 'set' object does not support item assignment"
     ]
    }
   ],
   "source": [
    "s[0]=\"muatble\""
   ]
  },
  {
   "cell_type": "code",
   "execution_count": 65,
   "id": "2b2fab37-a570-4403-9c99-ab54d0844b9d",
   "metadata": {},
   "outputs": [],
   "source": [
    "vowels = frozenset([1,2,3,4,5,6,7,8])"
   ]
  },
  {
   "cell_type": "code",
   "execution_count": 66,
   "id": "aaa409c2-7aa2-4d40-8350-232cb713d8ef",
   "metadata": {},
   "outputs": [
    {
     "ename": "TypeError",
     "evalue": "'frozenset' object is not subscriptable",
     "output_type": "error",
     "traceback": [
      "\u001b[1;31m---------------------------------------------------------------------------\u001b[0m",
      "\u001b[1;31mTypeError\u001b[0m                                 Traceback (most recent call last)",
      "Cell \u001b[1;32mIn[66], line 1\u001b[0m\n\u001b[1;32m----> 1\u001b[0m \u001b[43mvowels\u001b[49m\u001b[43m[\u001b[49m\u001b[38;5;241;43m0\u001b[39;49m\u001b[43m]\u001b[49m\n",
      "\u001b[1;31mTypeError\u001b[0m: 'frozenset' object is not subscriptable"
     ]
    }
   ],
   "source": [
    "vowels[0]"
   ]
  },
  {
   "cell_type": "code",
   "execution_count": 68,
   "id": "88cf0349-ad49-4e04-82f3-2e19151b242a",
   "metadata": {},
   "outputs": [
    {
     "data": {
      "text/plain": [
       "frozenset({1, 2, 3, 4, 5, 6, 7, 8})"
      ]
     },
     "execution_count": 68,
     "metadata": {},
     "output_type": "execute_result"
    }
   ],
   "source": [
    "vowels\n"
   ]
  },
  {
   "cell_type": "code",
   "execution_count": 70,
   "id": "89666857-a53a-4250-940f-5572c565452f",
   "metadata": {},
   "outputs": [
    {
     "ename": "TypeError",
     "evalue": "'frozenset' object is not subscriptable",
     "output_type": "error",
     "traceback": [
      "\u001b[1;31m---------------------------------------------------------------------------\u001b[0m",
      "\u001b[1;31mTypeError\u001b[0m                                 Traceback (most recent call last)",
      "Cell \u001b[1;32mIn[70], line 1\u001b[0m\n\u001b[1;32m----> 1\u001b[0m \u001b[43mvowels\u001b[49m\u001b[43m[\u001b[49m\u001b[38;5;241;43m1\u001b[39;49m\u001b[43m]\u001b[49m\n",
      "\u001b[1;31mTypeError\u001b[0m: 'frozenset' object is not subscriptable"
     ]
    }
   ],
   "source": [
    "vowels[1]"
   ]
  },
  {
   "cell_type": "code",
   "execution_count": 71,
   "id": "904e3959-c282-48d3-9e7d-7b938a7a5ca7",
   "metadata": {},
   "outputs": [],
   "source": [
    "#2d array using the dict \n",
    "d={\"name\": [\"Ajay\",\"Bijay\",\"Sanjay\"],\"course\":(\"ds\",\"ml\")}"
   ]
  },
  {
   "cell_type": "code",
   "execution_count": 72,
   "id": "25b1372e-2278-46c5-9743-486289952553",
   "metadata": {},
   "outputs": [
    {
     "ename": "NameError",
     "evalue": "name 'name' is not defined",
     "output_type": "error",
     "traceback": [
      "\u001b[1;31m---------------------------------------------------------------------------\u001b[0m",
      "\u001b[1;31mNameError\u001b[0m                                 Traceback (most recent call last)",
      "Cell \u001b[1;32mIn[72], line 1\u001b[0m\n\u001b[1;32m----> 1\u001b[0m d[\u001b[43mname\u001b[49m][\u001b[38;5;241m2\u001b[39m]\n",
      "\u001b[1;31mNameError\u001b[0m: name 'name' is not defined"
     ]
    }
   ],
   "source": [
    "d[name][2]"
   ]
  },
  {
   "cell_type": "code",
   "execution_count": 73,
   "id": "f2112276-90e6-4404-a1e0-68fc3cebb5e2",
   "metadata": {},
   "outputs": [
    {
     "data": {
      "text/plain": [
       "'Ajay'"
      ]
     },
     "execution_count": 73,
     "metadata": {},
     "output_type": "execute_result"
    }
   ],
   "source": [
    "d['name'][0]"
   ]
  },
  {
   "cell_type": "code",
   "execution_count": 74,
   "id": "213e84c3-0353-4795-9466-1c1e39484657",
   "metadata": {},
   "outputs": [
    {
     "data": {
      "text/plain": [
       "'Sanjay'"
      ]
     },
     "execution_count": 74,
     "metadata": {},
     "output_type": "execute_result"
    }
   ],
   "source": [
    "d['name'][2]"
   ]
  },
  {
   "cell_type": "code",
   "execution_count": 76,
   "id": "423eaebe-348b-44d7-a0bd-ce0520f7142b",
   "metadata": {},
   "outputs": [],
   "source": [
    "d[\"date_of_start\"]='15th March' #method of pusing in  dictionary"
   ]
  },
  {
   "cell_type": "code",
   "execution_count": 77,
   "id": "5b621c90-b8af-4d47-8ccd-064543c19a19",
   "metadata": {},
   "outputs": [
    {
     "data": {
      "text/plain": [
       "{'name': ['Ajay', 'Bijay', 'Sanjay'],\n",
       " 'course': ('ds', 'ml'),\n",
       " 'date_of_start': '15th March'}"
      ]
     },
     "execution_count": 77,
     "metadata": {},
     "output_type": "execute_result"
    }
   ],
   "source": [
    "d"
   ]
  },
  {
   "cell_type": "code",
   "execution_count": 78,
   "id": "33aef5c3-f6bd-486b-8a1c-845ab65b2046",
   "metadata": {},
   "outputs": [
    {
     "data": {
      "text/plain": [
       "3"
      ]
     },
     "execution_count": 78,
     "metadata": {},
     "output_type": "execute_result"
    }
   ],
   "source": [
    "len(d)"
   ]
  },
  {
   "cell_type": "code",
   "execution_count": null,
   "id": "155736c4-f747-403a-bc58-4c805b37221d",
   "metadata": {},
   "outputs": [],
   "source": []
  }
 ],
 "metadata": {
  "kernelspec": {
   "display_name": "Python 3 (ipykernel)",
   "language": "python",
   "name": "python3"
  },
  "language_info": {
   "codemirror_mode": {
    "name": "ipython",
    "version": 3
   },
   "file_extension": ".py",
   "mimetype": "text/x-python",
   "name": "python",
   "nbconvert_exporter": "python",
   "pygments_lexer": "ipython3",
   "version": "3.12.4"
  }
 },
 "nbformat": 4,
 "nbformat_minor": 5
}
